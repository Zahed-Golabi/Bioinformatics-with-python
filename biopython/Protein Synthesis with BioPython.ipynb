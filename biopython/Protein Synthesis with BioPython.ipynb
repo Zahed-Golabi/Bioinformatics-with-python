{
 "cells": [
  {
   "cell_type": "markdown",
   "id": "9fa05fc0",
   "metadata": {},
   "source": [
    "# Protein Synthesis with BioPython"
   ]
  },
  {
   "cell_type": "markdown",
   "id": "c8cbf4f6",
   "metadata": {},
   "source": [
    "Protein synthesis is how cells make proteins using 2 stages\n",
    "- Transcription\n",
    "- Translation"
   ]
  },
  {
   "cell_type": "markdown",
   "id": "b6789ee5",
   "metadata": {},
   "source": [
    "<img src=\"proteinsynthesis.png\">"
   ]
  },
  {
   "cell_type": "code",
   "execution_count": 8,
   "id": "9c3cff2a",
   "metadata": {},
   "outputs": [],
   "source": [
    "import Bio"
   ]
  },
  {
   "cell_type": "code",
   "execution_count": 9,
   "id": "886cdb62",
   "metadata": {},
   "outputs": [],
   "source": [
    "from Bio.Seq import Seq"
   ]
  },
  {
   "cell_type": "code",
   "execution_count": 10,
   "id": "8acafccd",
   "metadata": {},
   "outputs": [],
   "source": [
    "dna = Seq(\"ATGATCTCGTAA\")"
   ]
  },
  {
   "cell_type": "code",
   "execution_count": 11,
   "id": "fa806ba7",
   "metadata": {},
   "outputs": [
    {
     "data": {
      "text/plain": [
       "Seq('TACTAGAGCATT')"
      ]
     },
     "execution_count": 11,
     "metadata": {},
     "output_type": "execute_result"
    }
   ],
   "source": [
    "# A-T   2 hydrogen bonds\n",
    "# G-C   3 hydrogen bonds\n",
    "dna.complement()   # A-T   C-G"
   ]
  },
  {
   "cell_type": "code",
   "execution_count": 12,
   "id": "f8580bd2",
   "metadata": {},
   "outputs": [
    {
     "data": {
      "text/plain": [
       "Seq('ATGATCTCGTAA')"
      ]
     },
     "execution_count": 12,
     "metadata": {},
     "output_type": "execute_result"
    }
   ],
   "source": [
    "# reverse complement\n",
    "dna.complement().complement()"
   ]
  },
  {
   "cell_type": "code",
   "execution_count": 13,
   "id": "e608d1fa",
   "metadata": {},
   "outputs": [
    {
     "data": {
      "text/plain": [
       "Seq('TTACGAGATCAT')"
      ]
     },
     "execution_count": 13,
     "metadata": {},
     "output_type": "execute_result"
    }
   ],
   "source": [
    "# reverse complement \n",
    "dna.reverse_complement()"
   ]
  },
  {
   "cell_type": "code",
   "execution_count": 14,
   "id": "6c98f0b2",
   "metadata": {},
   "outputs": [
    {
     "data": {
      "text/plain": [
       "Seq('TTACGAGATCAT')"
      ]
     },
     "execution_count": 14,
     "metadata": {},
     "output_type": "execute_result"
    }
   ],
   "source": [
    "# custom fxn\n",
    "dna.complement()[::-1]"
   ]
  },
  {
   "cell_type": "markdown",
   "id": "1dad4aa6",
   "metadata": {},
   "source": [
    "# "
   ]
  },
  {
   "cell_type": "markdown",
   "id": "9fc98a7e",
   "metadata": {},
   "source": [
    "### Protein Synthesis"
   ]
  },
  {
   "cell_type": "markdown",
   "id": "062d2702",
   "metadata": {},
   "source": [
    "<img src=\"proteinsynthesis02.jpg\">"
   ]
  },
  {
   "cell_type": "code",
   "execution_count": 15,
   "id": "3196308a",
   "metadata": {
    "scrolled": true
   },
   "outputs": [
    {
     "data": {
      "text/plain": [
       "Seq('AUGAUCUCGUAA')"
      ]
     },
     "execution_count": 15,
     "metadata": {},
     "output_type": "execute_result"
    }
   ],
   "source": [
    "# Transcription\n",
    "# DNA to mRNA\n",
    "# Writing the message\n",
    "dna.transcribe()"
   ]
  },
  {
   "cell_type": "code",
   "execution_count": 16,
   "id": "b96552c0",
   "metadata": {},
   "outputs": [],
   "source": [
    "mRNA = dna.transcribe()"
   ]
  },
  {
   "cell_type": "code",
   "execution_count": 17,
   "id": "4fdc44ae",
   "metadata": {},
   "outputs": [
    {
     "data": {
      "text/plain": [
       "Seq('MIS*')"
      ]
     },
     "execution_count": 17,
     "metadata": {},
     "output_type": "execute_result"
    }
   ],
   "source": [
    "# Translation\n",
    "# mRNA to Protein/Amino Acid\n",
    "mRNA.translate()"
   ]
  },
  {
   "cell_type": "code",
   "execution_count": 18,
   "id": "92769680",
   "metadata": {},
   "outputs": [
    {
     "data": {
      "text/plain": [
       "Seq('MIS*')"
      ]
     },
     "execution_count": 18,
     "metadata": {},
     "output_type": "execute_result"
    }
   ],
   "source": [
    "# Method 2\n",
    "# Direct translation of DNA to Amino Acid\n",
    "dna.translate()"
   ]
  },
  {
   "cell_type": "code",
   "execution_count": 19,
   "id": "e6096f5c",
   "metadata": {},
   "outputs": [
    {
     "data": {
      "text/plain": [
       "Seq('MIS@')"
      ]
     },
     "execution_count": 19,
     "metadata": {},
     "output_type": "execute_result"
    }
   ],
   "source": [
    "# Create custom stop codon sym\n",
    "mRNA.translate(stop_symbol=\"@\")"
   ]
  },
  {
   "cell_type": "markdown",
   "id": "a90cbd5f",
   "metadata": {},
   "source": [
    "### Amino Acids"
   ]
  },
  {
   "cell_type": "markdown",
   "id": "cb6cefac",
   "metadata": {},
   "source": [
    "<img src=\"aminoacidchart1.png\">"
   ]
  },
  {
   "cell_type": "code",
   "execution_count": 21,
   "id": "8af06703",
   "metadata": {},
   "outputs": [
    {
     "data": {
      "text/plain": [
       "Seq('ATGATCTCGTAA')"
      ]
     },
     "execution_count": 21,
     "metadata": {},
     "output_type": "execute_result"
    }
   ],
   "source": [
    "# Back Transcription\n",
    "# mRNA to DNA\n",
    "mRNA.back_transcribe()"
   ]
  },
  {
   "cell_type": "code",
   "execution_count": 23,
   "id": "ade6f10d",
   "metadata": {},
   "outputs": [
    {
     "data": {
      "text/plain": [
       "True"
      ]
     },
     "execution_count": 23,
     "metadata": {},
     "output_type": "execute_result"
    }
   ],
   "source": [
    "mRNA.back_transcribe() == dna"
   ]
  },
  {
   "cell_type": "code",
   "execution_count": 25,
   "id": "c10b4931",
   "metadata": {},
   "outputs": [
    {
     "data": {
      "text/plain": [
       "Seq('MIS*')"
      ]
     },
     "execution_count": 25,
     "metadata": {},
     "output_type": "execute_result"
    }
   ],
   "source": [
    "# join the steps \n",
    "dna.transcribe().translate()"
   ]
  },
  {
   "cell_type": "code",
   "execution_count": 26,
   "id": "22eb5168",
   "metadata": {},
   "outputs": [],
   "source": [
    "# Convert Amino Acid to 3 letter\n",
    "from Bio.SeqUtils import seq3,seq1"
   ]
  },
  {
   "cell_type": "code",
   "execution_count": 28,
   "id": "48fc8f0e",
   "metadata": {},
   "outputs": [
    {
     "name": "stdout",
     "output_type": "stream",
     "text": [
      "MIS*\n"
     ]
    }
   ],
   "source": [
    "amino_acid = dna.translate()\n",
    "print(amino_acid)"
   ]
  },
  {
   "cell_type": "code",
   "execution_count": 29,
   "id": "be6d1e66",
   "metadata": {},
   "outputs": [
    {
     "name": "stdout",
     "output_type": "stream",
     "text": [
      "MetIleSerTer\n"
     ]
    }
   ],
   "source": [
    "print(seq3(amino_acid))"
   ]
  },
  {
   "cell_type": "code",
   "execution_count": 30,
   "id": "575598be",
   "metadata": {},
   "outputs": [
    {
     "name": "stdout",
     "output_type": "stream",
     "text": [
      "MIS*\n"
     ]
    }
   ],
   "source": [
    "# Convert 3 letters to 1\n",
    "print(seq1(\"MetIleSerTer\"))"
   ]
  },
  {
   "cell_type": "code",
   "execution_count": 31,
   "id": "3385ea29",
   "metadata": {},
   "outputs": [],
   "source": [
    "# view codonTable\n",
    "from Bio.Data import CodonTable"
   ]
  },
  {
   "cell_type": "code",
   "execution_count": 32,
   "id": "4131ffc8",
   "metadata": {
    "collapsed": true
   },
   "outputs": [
    {
     "data": {
      "text/plain": [
       "['AmbiguousCodonTable',\n",
       " 'AmbiguousForwardTable',\n",
       " 'CodonTable',\n",
       " 'IUPACData',\n",
       " 'NCBICodonTable',\n",
       " 'NCBICodonTableDNA',\n",
       " 'NCBICodonTableRNA',\n",
       " 'TranslationError',\n",
       " '__builtins__',\n",
       " '__cached__',\n",
       " '__doc__',\n",
       " '__file__',\n",
       " '__loader__',\n",
       " '__name__',\n",
       " '__package__',\n",
       " '__spec__',\n",
       " 'ambiguous_dna_by_id',\n",
       " 'ambiguous_dna_by_name',\n",
       " 'ambiguous_generic_by_id',\n",
       " 'ambiguous_generic_by_name',\n",
       " 'ambiguous_rna_by_id',\n",
       " 'ambiguous_rna_by_name',\n",
       " 'generic_by_id',\n",
       " 'generic_by_name',\n",
       " 'list_ambiguous_codons',\n",
       " 'list_possible_proteins',\n",
       " 'make_back_table',\n",
       " 'register_ncbi_table',\n",
       " 'standard_dna_table',\n",
       " 'standard_rna_table',\n",
       " 'unambiguous_dna_by_id',\n",
       " 'unambiguous_dna_by_name',\n",
       " 'unambiguous_rna_by_id',\n",
       " 'unambiguous_rna_by_name']"
      ]
     },
     "execution_count": 32,
     "metadata": {},
     "output_type": "execute_result"
    }
   ],
   "source": [
    "# methods\n",
    "dir(CodonTable)"
   ]
  },
  {
   "cell_type": "code",
   "execution_count": 33,
   "id": "e4777bd7",
   "metadata": {
    "scrolled": false
   },
   "outputs": [
    {
     "name": "stdout",
     "output_type": "stream",
     "text": [
      "Table 1 Standard, SGC0\n",
      "\n",
      "  |  T      |  C      |  A      |  G      |\n",
      "--+---------+---------+---------+---------+--\n",
      "T | TTT F   | TCT S   | TAT Y   | TGT C   | T\n",
      "T | TTC F   | TCC S   | TAC Y   | TGC C   | C\n",
      "T | TTA L   | TCA S   | TAA Stop| TGA Stop| A\n",
      "T | TTG L(s)| TCG S   | TAG Stop| TGG W   | G\n",
      "--+---------+---------+---------+---------+--\n",
      "C | CTT L   | CCT P   | CAT H   | CGT R   | T\n",
      "C | CTC L   | CCC P   | CAC H   | CGC R   | C\n",
      "C | CTA L   | CCA P   | CAA Q   | CGA R   | A\n",
      "C | CTG L(s)| CCG P   | CAG Q   | CGG R   | G\n",
      "--+---------+---------+---------+---------+--\n",
      "A | ATT I   | ACT T   | AAT N   | AGT S   | T\n",
      "A | ATC I   | ACC T   | AAC N   | AGC S   | C\n",
      "A | ATA I   | ACA T   | AAA K   | AGA R   | A\n",
      "A | ATG M(s)| ACG T   | AAG K   | AGG R   | G\n",
      "--+---------+---------+---------+---------+--\n",
      "G | GTT V   | GCT A   | GAT D   | GGT G   | T\n",
      "G | GTC V   | GCC A   | GAC D   | GGC G   | C\n",
      "G | GTA V   | GCA A   | GAA E   | GGA G   | A\n",
      "G | GTG V   | GCG A   | GAG E   | GGG G   | G\n",
      "--+---------+---------+---------+---------+--\n"
     ]
    }
   ],
   "source": [
    "print(CodonTable.unambiguous_dna_by_name[\"Standard\"])"
   ]
  },
  {
   "cell_type": "code",
   "execution_count": 34,
   "id": "170ab034",
   "metadata": {
    "scrolled": false
   },
   "outputs": [
    {
     "name": "stdout",
     "output_type": "stream",
     "text": [
      "Table 1 Standard, SGC0\n",
      "\n",
      "  |  U      |  C      |  A      |  G      |\n",
      "--+---------+---------+---------+---------+--\n",
      "U | UUU F   | UCU S   | UAU Y   | UGU C   | U\n",
      "U | UUC F   | UCC S   | UAC Y   | UGC C   | C\n",
      "U | UUA L   | UCA S   | UAA Stop| UGA Stop| A\n",
      "U | UUG L(s)| UCG S   | UAG Stop| UGG W   | G\n",
      "--+---------+---------+---------+---------+--\n",
      "C | CUU L   | CCU P   | CAU H   | CGU R   | U\n",
      "C | CUC L   | CCC P   | CAC H   | CGC R   | C\n",
      "C | CUA L   | CCA P   | CAA Q   | CGA R   | A\n",
      "C | CUG L(s)| CCG P   | CAG Q   | CGG R   | G\n",
      "--+---------+---------+---------+---------+--\n",
      "A | AUU I   | ACU T   | AAU N   | AGU S   | U\n",
      "A | AUC I   | ACC T   | AAC N   | AGC S   | C\n",
      "A | AUA I   | ACA T   | AAA K   | AGA R   | A\n",
      "A | AUG M(s)| ACG T   | AAG K   | AGG R   | G\n",
      "--+---------+---------+---------+---------+--\n",
      "G | GUU V   | GCU A   | GAU D   | GGU G   | U\n",
      "G | GUC V   | GCC A   | GAC D   | GGC G   | C\n",
      "G | GUA V   | GCA A   | GAA E   | GGA G   | A\n",
      "G | GUG V   | GCG A   | GAG E   | GGG G   | G\n",
      "--+---------+---------+---------+---------+--\n"
     ]
    }
   ],
   "source": [
    "# RNA codon table\n",
    "print(CodonTable.unambiguous_rna_by_name[\"Standard\"])"
   ]
  },
  {
   "cell_type": "markdown",
   "id": "d20e745b",
   "metadata": {},
   "source": [
    "# Well Done!"
   ]
  }
 ],
 "metadata": {
  "kernelspec": {
   "display_name": "Python 3 (ipykernel)",
   "language": "python",
   "name": "python3"
  },
  "language_info": {
   "codemirror_mode": {
    "name": "ipython",
    "version": 3
   },
   "file_extension": ".py",
   "mimetype": "text/x-python",
   "name": "python",
   "nbconvert_exporter": "python",
   "pygments_lexer": "ipython3",
   "version": "3.9.12"
  }
 },
 "nbformat": 4,
 "nbformat_minor": 5
}
