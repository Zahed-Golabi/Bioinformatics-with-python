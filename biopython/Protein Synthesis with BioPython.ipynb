{
 "cells": [
  {
   "cell_type": "markdown",
   "id": "9fa05fc0",
   "metadata": {},
   "source": [
    "# Protein Synthesis with BioPython"
   ]
  },
  {
   "cell_type": "markdown",
   "id": "c8cbf4f6",
   "metadata": {},
   "source": [
    "Protein synthesis is how cells make proteins using 2 stages\n",
    "- Transcription\n",
    "- Translation"
   ]
  },
  {
   "cell_type": "markdown",
   "id": "b6789ee5",
   "metadata": {},
   "source": [
    "<img src=\"proteinsynthesis.png\">"
   ]
  },
  {
   "cell_type": "code",
   "execution_count": 1,
   "id": "9c3cff2a",
   "metadata": {},
   "outputs": [],
   "source": [
    "import Bio"
   ]
  },
  {
   "cell_type": "code",
   "execution_count": 2,
   "id": "886cdb62",
   "metadata": {},
   "outputs": [],
   "source": [
    "from Bio.Seq import Seq"
   ]
  },
  {
   "cell_type": "code",
   "execution_count": 3,
   "id": "8acafccd",
   "metadata": {},
   "outputs": [],
   "source": [
    "dna = Seq(\"ATGATCTCGTAA\")"
   ]
  },
  {
   "cell_type": "code",
   "execution_count": 6,
   "id": "fa806ba7",
   "metadata": {},
   "outputs": [
    {
     "data": {
      "text/plain": [
       "Seq('TACTAGAGCATT')"
      ]
     },
     "execution_count": 6,
     "metadata": {},
     "output_type": "execute_result"
    }
   ],
   "source": [
    "# A-T   2 hydrogen bonds\n",
    "# G-C   3 hydrogen bonds\n",
    "dna.complement()   # A-T   C-G"
   ]
  },
  {
   "cell_type": "code",
   "execution_count": 10,
   "id": "f8580bd2",
   "metadata": {},
   "outputs": [
    {
     "data": {
      "text/plain": [
       "Seq('ATGATCTCGTAA')"
      ]
     },
     "execution_count": 10,
     "metadata": {},
     "output_type": "execute_result"
    }
   ],
   "source": [
    "# reverse complement\n",
    "dna.complement().complement()"
   ]
  },
  {
   "cell_type": "code",
   "execution_count": 11,
   "id": "e608d1fa",
   "metadata": {},
   "outputs": [
    {
     "data": {
      "text/plain": [
       "Seq('TTACGAGATCAT')"
      ]
     },
     "execution_count": 11,
     "metadata": {},
     "output_type": "execute_result"
    }
   ],
   "source": [
    "# reverse complement \n",
    "dna.reverse_complement()"
   ]
  },
  {
   "cell_type": "code",
   "execution_count": 12,
   "id": "6c98f0b2",
   "metadata": {},
   "outputs": [
    {
     "data": {
      "text/plain": [
       "Seq('TTACGAGATCAT')"
      ]
     },
     "execution_count": 12,
     "metadata": {},
     "output_type": "execute_result"
    }
   ],
   "source": [
    "# custom fxn\n",
    "dna.complement()[::-1]"
   ]
  },
  {
   "cell_type": "markdown",
   "id": "1dad4aa6",
   "metadata": {},
   "source": [
    "# "
   ]
  },
  {
   "cell_type": "markdown",
   "id": "9fc98a7e",
   "metadata": {},
   "source": [
    "### Protein Synthesis"
   ]
  },
  {
   "cell_type": "markdown",
   "id": "062d2702",
   "metadata": {},
   "source": [
    "<img src=\"proteinsynthesis02.jpg\">"
   ]
  },
  {
   "cell_type": "code",
   "execution_count": null,
   "id": "3196308a",
   "metadata": {},
   "outputs": [],
   "source": []
  }
 ],
 "metadata": {
  "kernelspec": {
   "display_name": "Python 3 (ipykernel)",
   "language": "python",
   "name": "python3"
  },
  "language_info": {
   "codemirror_mode": {
    "name": "ipython",
    "version": 3
   },
   "file_extension": ".py",
   "mimetype": "text/x-python",
   "name": "python",
   "nbconvert_exporter": "python",
   "pygments_lexer": "ipython3",
   "version": "3.9.12"
  }
 },
 "nbformat": 4,
 "nbformat_minor": 5
}
