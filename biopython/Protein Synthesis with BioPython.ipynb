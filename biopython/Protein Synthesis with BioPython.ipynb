{
 "cells": [
  {
   "cell_type": "markdown",
   "id": "7dc24015",
   "metadata": {},
   "source": [
    "# Protein Synthesis with BioPython"
   ]
  },
  {
   "cell_type": "markdown",
   "id": "eadd1b25",
   "metadata": {},
   "source": [
    "Protein synthesis is how cells make proteins using 2 stages\n",
    "- Transcription\n",
    "- Translation"
   ]
  },
  {
   "cell_type": "markdown",
   "id": "7c77651a",
   "metadata": {},
   "source": [
    "<img src=\"proteinsynthesis.png\">"
   ]
  },
  {
   "cell_type": "code",
   "execution_count": null,
   "id": "21e262a4",
   "metadata": {},
   "outputs": [],
   "source": []
  }
 ],
 "metadata": {
  "kernelspec": {
   "display_name": "Python 3 (ipykernel)",
   "language": "python",
   "name": "python3"
  },
  "language_info": {
   "codemirror_mode": {
    "name": "ipython",
    "version": 3
   },
   "file_extension": ".py",
   "mimetype": "text/x-python",
   "name": "python",
   "nbconvert_exporter": "python",
   "pygments_lexer": "ipython3",
   "version": "3.9.12"
  }
 },
 "nbformat": 4,
 "nbformat_minor": 5
}
