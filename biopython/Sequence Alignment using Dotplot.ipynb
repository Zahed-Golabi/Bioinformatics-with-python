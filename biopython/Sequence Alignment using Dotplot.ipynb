{
 "cells": [
  {
   "cell_type": "markdown",
   "id": "f54f11e1",
   "metadata": {},
   "source": [
    "# Sequence Alignment using Dotplot"
   ]
  },
  {
   "cell_type": "markdown",
   "id": "7f3fc675",
   "metadata": {},
   "source": [
    "+ A dot plot is a graphical method that allows the comparison of two biological sequences and identify regions of close similarity between them\n",
    "+ Simplest method - put a dot wherever sequences are identical\n",
    "+ Dot plots compare two sequences by organizing one sequences on the x-axis, and another on the y-axis of a plot\n",
    "- when the residues of both sequences match at the same location on the plot, a dot is drawn at the corresponding position\n"
   ]
  },
  {
   "cell_type": "markdown",
   "id": "44f80cb9",
   "metadata": {},
   "source": [
    "### Usefulness"
   ]
  },
  {
   "cell_type": "markdown",
   "id": "5699dc00",
   "metadata": {},
   "source": [
    "+ Dot plots can also be used to visually inspect sequences for:\n",
    "    - direct or inverted repeats\n",
    "    - regions with low sequences complexity\n",
    "    - similar regions\n",
    "    - repeated sequences\n",
    "    - sequence rearrangements\n",
    "    - RNA structures\n",
    "    - Gene order"
   ]
  },
  {
   "cell_type": "code",
   "execution_count": 13,
   "id": "be001777",
   "metadata": {},
   "outputs": [],
   "source": [
    "def delta(x,y):\n",
    "    return 0 if x==y else 1\n",
    "\n",
    "def M(seq1,seq2,i,j,k):\n",
    "    return sum(delta(x,y) for x,y in zip(seq1[i:i+k], seq2[j:j+k]))\n",
    "\n",
    "def makeMatrix(seq1,seq2,k):\n",
    "    n = len(seq1)\n",
    "    m = len(seq2)\n",
    "    return [[M(seq1,seq2,i,j,k) for j in range(m-k+1)] for i in range(n-k+1)]\n",
    "\n",
    "def plotMatrix(M, t, seq1, seq2, nonblank=chr(0x25A0), blank=\" \"):\n",
    "    print(\" |\" + seq2)\n",
    "    print(\"-\" * (2 + len(seq2)))\n",
    "    \n",
    "    for label,row in zip(seq1,M):\n",
    "        line = \"\".join(nonblank if s < t else blank for s in row)\n",
    "        print(label + \"|\" + line)\n",
    "        \n",
    "\n",
    "def dotplot(seq1 ,seq2 ,k=1, t=1):\n",
    "    M = makeMatrix(seq1, seq2, k)\n",
    "    plotMatrix(M, t, seq1, seq2)"
   ]
  },
  {
   "cell_type": "code",
   "execution_count": 8,
   "id": "0d3312ce",
   "metadata": {},
   "outputs": [],
   "source": [
    "from Bio.Seq import Seq"
   ]
  },
  {
   "cell_type": "code",
   "execution_count": 11,
   "id": "ad7dc73f",
   "metadata": {},
   "outputs": [],
   "source": [
    "seq1 = Seq(\"ACTTAG\")\n",
    "seq2 = Seq(\"AC\")"
   ]
  },
  {
   "cell_type": "code",
   "execution_count": 14,
   "id": "a667cf3c",
   "metadata": {},
   "outputs": [
    {
     "name": "stdout",
     "output_type": "stream",
     "text": [
      " |AC\n",
      "----\n",
      "A|■ \n",
      "C| ■\n",
      "T|  \n",
      "T|  \n",
      "A|■ \n",
      "G|  \n"
     ]
    }
   ],
   "source": [
    "dotplot(seq1,seq2)"
   ]
  },
  {
   "cell_type": "code",
   "execution_count": 15,
   "id": "38ef7f50",
   "metadata": {},
   "outputs": [
    {
     "name": "stdout",
     "output_type": "stream",
     "text": [
      " |ACTTAG\n",
      "--------\n",
      "A|■   ■ \n",
      "C| ■    \n",
      "T|  ■■  \n",
      "T|  ■■  \n",
      "A|■   ■ \n",
      "G|     ■\n"
     ]
    }
   ],
   "source": [
    "# show Identical\n",
    "dotplot(seq1,seq1)"
   ]
  },
  {
   "cell_type": "code",
   "execution_count": null,
   "id": "53e5aefc",
   "metadata": {},
   "outputs": [],
   "source": []
  }
 ],
 "metadata": {
  "kernelspec": {
   "display_name": "Python 3 (ipykernel)",
   "language": "python",
   "name": "python3"
  },
  "language_info": {
   "codemirror_mode": {
    "name": "ipython",
    "version": 3
   },
   "file_extension": ".py",
   "mimetype": "text/x-python",
   "name": "python",
   "nbconvert_exporter": "python",
   "pygments_lexer": "ipython3",
   "version": "3.9.12"
  }
 },
 "nbformat": 4,
 "nbformat_minor": 5
}
