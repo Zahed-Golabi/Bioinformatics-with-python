{
 "cells": [
  {
   "cell_type": "markdown",
   "id": "7f4fce4c",
   "metadata": {},
   "source": [
    "# Sequence Alignment using Dotplot"
   ]
  },
  {
   "cell_type": "markdown",
   "id": "9cde656f",
   "metadata": {},
   "source": [
    "+ A dot plot is a graphical method that allows the comparison of two biological sequences and identify regions of close similarity between them\n",
    "+ Simplest method - put a dot wherever sequences are identical\n",
    "+ Dot plots compare two sequences by organizing one sequences on the x-axis, and another on the y-axis of a plot\n",
    "- when the residues of both sequences match at the same location on the plot, a dot is drawn at the corresponding position\n"
   ]
  },
  {
   "cell_type": "markdown",
   "id": "b3b336c6",
   "metadata": {},
   "source": [
    "### Usefulness"
   ]
  },
  {
   "cell_type": "markdown",
   "id": "4271601c",
   "metadata": {},
   "source": [
    "+ Dot plots can also be used to visually inspect sequences for:\n",
    "    - direct or inverted repeats\n",
    "    - regions with low sequences complexity\n",
    "    - similar regions\n",
    "    - repeated sequences\n",
    "    - sequence rearrangements\n",
    "    - RNA structures\n",
    "    - Gene order"
   ]
  },
  {
   "cell_type": "code",
   "execution_count": 13,
   "id": "6cde4fd4",
   "metadata": {},
   "outputs": [],
   "source": [
    "def delta(x,y):\n",
    "    return 0 if x==y else 1\n",
    "\n",
    "def M(seq1,seq2,i,j,k):\n",
    "    return sum(delta(x,y) for x,y in zip(seq1[i:i+k], seq2[j:j+k]))\n",
    "\n",
    "def makeMatrix(seq1,seq2,k):\n",
    "    n = len(seq1)\n",
    "    m = len(seq2)\n",
    "    return [[M(seq1,seq2,i,j,k) for j in range(m-k+1)] for i in range(n-k+1)]\n",
    "\n",
    "def plotMatrix(M, t, seq1, seq2, nonblank=chr(0x25A0), blank=\" \"):\n",
    "    print(\" |\" + seq2)\n",
    "    print(\"-\" * (2 + len(seq2)))\n",
    "    \n",
    "    for label,row in zip(seq1,M):\n",
    "        line = \"\".join(nonblank if s < t else blank for s in row)\n",
    "        print(label + \"|\" + line)\n",
    "        \n",
    "\n",
    "def dotplot(seq1 ,seq2 ,k=1, t=1):\n",
    "    M = makeMatrix(seq1, seq2, k)\n",
    "    plotMatrix(M, t, seq1, seq2)"
   ]
  },
  {
   "cell_type": "code",
   "execution_count": 8,
   "id": "86e33a19",
   "metadata": {},
   "outputs": [],
   "source": [
    "from Bio.Seq import Seq"
   ]
  },
  {
   "cell_type": "code",
   "execution_count": 11,
   "id": "31f6f3a5",
   "metadata": {},
   "outputs": [],
   "source": [
    "seq1 = Seq(\"ACTTAG\")\n",
    "seq2 = Seq(\"AC\")"
   ]
  },
  {
   "cell_type": "code",
   "execution_count": 14,
   "id": "f904ae87",
   "metadata": {},
   "outputs": [
    {
     "name": "stdout",
     "output_type": "stream",
     "text": [
      " |AC\n",
      "----\n",
      "A|■ \n",
      "C| ■\n",
      "T|  \n",
      "T|  \n",
      "A|■ \n",
      "G|  \n"
     ]
    }
   ],
   "source": [
    "dotplot(seq1,seq2)"
   ]
  },
  {
   "cell_type": "code",
   "execution_count": 15,
   "id": "0ddf052d",
   "metadata": {},
   "outputs": [
    {
     "name": "stdout",
     "output_type": "stream",
     "text": [
      " |ACTTAG\n",
      "--------\n",
      "A|■   ■ \n",
      "C| ■    \n",
      "T|  ■■  \n",
      "T|  ■■  \n",
      "A|■   ■ \n",
      "G|     ■\n"
     ]
    }
   ],
   "source": [
    "# show Identical\n",
    "dotplot(seq1,seq1)"
   ]
  },
  {
   "cell_type": "code",
   "execution_count": 16,
   "id": "a222ebad",
   "metadata": {},
   "outputs": [
    {
     "name": "stdout",
     "output_type": "stream",
     "text": [
      " |ACBTCAA\n",
      "---------\n",
      "A|■    ■■\n",
      "A|■    ■■\n",
      "A|■    ■■\n",
      "C| ■  ■  \n",
      "T|   ■   \n",
      "B|  ■    \n"
     ]
    }
   ],
   "source": [
    "dotplot(\"AAACTB\",\"ACBTCAA\")"
   ]
  },
  {
   "cell_type": "code",
   "execution_count": 18,
   "id": "0d07f8ec",
   "metadata": {},
   "outputs": [],
   "source": [
    "import numpy as np\n",
    "import matplotlib.pyplot as plt"
   ]
  },
  {
   "cell_type": "code",
   "execution_count": 19,
   "id": "50ce3fb3",
   "metadata": {},
   "outputs": [
    {
     "data": {
      "image/png": "[encoded data removed]",
      "text/plain": [
       "<Figure size 432x288 with 1 Axes>"
      ]
     },
     "metadata": {
      "needs_background": "light"
     },
     "output_type": "display_data"
    }
   ],
   "source": [
    "# beautify makepmatrix\n",
    "plt.imshow(np.array(makeMatrix(seq1,seq2,1)))\n",
    "xt = plt.xticks(np.arange(len(list(seq1))), list(seq1))\n",
    "yt = plt.yticks(np.arange(len(list(seq1))), list(seq1))\n",
    "plt.show()"
   ]
  },
  {
   "cell_type": "code",
   "execution_count": 20,
   "id": "8320fc22",
   "metadata": {},
   "outputs": [],
   "source": [
    "# convert to Fxn\n",
    "def dotplotx(seq1,seq2):\n",
    "    plt.imshow(np.array(makeMatrix(seq1,seq2,1)))\n",
    "    # on x-axis list all sequences of seq2\n",
    "    xt = plt.xticks(np.arange(len(list(seq2))), list(seq2))\n",
    "    \n",
    "    # on y-axis list all sequences of seq1\n",
    "    yt = plt.yticks(np.arange(len(list(seq1))), list(seq1))\n",
    "    plt.show()"
   ]
  },
  {
   "cell_type": "code",
   "execution_count": 21,
   "id": "665afc2d",
   "metadata": {},
   "outputs": [
    {
     "data": {
      "image/png": "[encoded data removed]",
      "text/plain": [
       "<Figure size 432x288 with 1 Axes>"
      ]
     },
     "metadata": {
      "needs_background": "light"
     },
     "output_type": "display_data"
    }
   ],
   "source": [
    "dotplotx(seq1, seq2)"
   ]
  },
  {
   "cell_type": "code",
   "execution_count": 22,
   "id": "ca8cf5a9",
   "metadata": {},
   "outputs": [],
   "source": [
    "DNA1 = Seq(\"ATGATCTCGTAA\")\n",
    "DNA2 = Seq(\"ATTATGTCGTAA\")"
   ]
  },
  {
   "cell_type": "code",
   "execution_count": 24,
   "id": "e2623fe0",
   "metadata": {},
   "outputs": [
    {
     "name": "stdout",
     "output_type": "stream",
     "text": [
      " |ATTATGTCGTAA\n",
      "--------------\n",
      "A|■  ■      ■■\n",
      "T| ■■ ■ ■  ■  \n",
      "G|     ■  ■   \n",
      "A|■  ■      ■■\n",
      "T| ■■ ■ ■  ■  \n",
      "C|       ■    \n",
      "T| ■■ ■ ■  ■  \n",
      "C|       ■    \n",
      "G|     ■  ■   \n",
      "T| ■■ ■ ■  ■  \n",
      "A|■  ■      ■■\n",
      "A|■  ■      ■■\n"
     ]
    }
   ],
   "source": [
    "dotplot(DNA1,DNA2)"
   ]
  },
  {
   "cell_type": "code",
   "execution_count": 23,
   "id": "a3c75b75",
   "metadata": {},
   "outputs": [
    {
     "data": {
      "image/png": "[encoded data removed]",
      "text/plain": [
       "<Figure size 432x288 with 1 Axes>"
      ]
     },
     "metadata": {
      "needs_background": "light"
     },
     "output_type": "display_data"
    }
   ],
   "source": [
    "dotplotx(DNA1,DNA2)"
   ]
  },
  {
   "cell_type": "code",
   "execution_count": 26,
   "id": "a29101bf",
   "metadata": {},
   "outputs": [
    {
     "data": {
      "image/png": "[encoded data removed]",
      "text/plain": [
       "<Figure size 432x288 with 1 Axes>"
      ]
     },
     "metadata": {
      "needs_background": "light"
     },
     "output_type": "display_data"
    }
   ],
   "source": [
    "dotplotx(DNA1,DNA1)"
   ]
  },
  {
   "cell_type": "markdown",
   "id": "d5a7ecd8",
   "metadata": {},
   "source": [
    "# Well Done!"
   ]
  }
 ],
 "metadata": {
  "kernelspec": {
   "display_name": "Python 3 (ipykernel)",
   "language": "python",
   "name": "python3"
  },
  "language_info": {
   "codemirror_mode": {
    "name": "ipython",
    "version": 3
   },
   "file_extension": ".py",
   "mimetype": "text/x-python",
   "name": "python",
   "nbconvert_exporter": "python",
   "pygments_lexer": "ipython3",
   "version": "3.9.12"
  }
 },
 "nbformat": 4,
 "nbformat_minor": 5
}
