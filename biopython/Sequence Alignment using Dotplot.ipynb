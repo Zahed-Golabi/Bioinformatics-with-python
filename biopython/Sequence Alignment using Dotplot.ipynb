{
 "cells": [
  {
   "cell_type": "markdown",
   "id": "a816da66",
   "metadata": {},
   "source": [
    "# Sequence Alignment using Dotplot"
   ]
  },
  {
   "cell_type": "markdown",
   "id": "61c7015d",
   "metadata": {},
   "source": [
    "+ A dot plot is a graphical method that allows the comparison of two biological sequences and identify regions of close similarity between them\n",
    "+ Simplest method - put a dot wherever sequences are identical\n",
    "+ Dot plots compare two sequences by organizing one sequences on the x-axis, and another on the y-axis of a plot\n",
    "- when the residues of both sequences match at the same location on the plot, a dot is drawn at the corresponding position\n"
   ]
  },
  {
   "cell_type": "markdown",
   "id": "39417d72",
   "metadata": {},
   "source": [
    "### Usefulness"
   ]
  },
  {
   "cell_type": "markdown",
   "id": "85d6b0e7",
   "metadata": {},
   "source": [
    "+ Dot plots can also be used to visually inspect sequences for:\n",
    "    - direct or inverted repeats\n",
    "    - regions with low sequences complexity\n",
    "    - similar regions\n",
    "    - repeated sequences\n",
    "    - sequence rearrangements\n",
    "    - RNA structures\n",
    "    - Gene order"
   ]
  },
  {
   "cell_type": "code",
   "execution_count": null,
   "id": "050f9678",
   "metadata": {},
   "outputs": [],
   "source": []
  }
 ],
 "metadata": {
  "kernelspec": {
   "display_name": "Python 3 (ipykernel)",
   "language": "python",
   "name": "python3"
  },
  "language_info": {
   "codemirror_mode": {
    "name": "ipython",
    "version": 3
   },
   "file_extension": ".py",
   "mimetype": "text/x-python",
   "name": "python",
   "nbconvert_exporter": "python",
   "pygments_lexer": "ipython3",
   "version": "3.9.12"
  }
 },
 "nbformat": 4,
 "nbformat_minor": 5
}
