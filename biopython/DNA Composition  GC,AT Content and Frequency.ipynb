{
 "cells": [
  {
   "cell_type": "markdown",
   "id": "44d64150",
   "metadata": {},
   "source": [
    "# DNA Composition  GC,AT Content and Frequency"
   ]
  },
  {
   "cell_type": "markdown",
   "id": "2742ed2d",
   "metadata": {},
   "source": [
    "#### GC Contents In DNA\n",
    "+ GC-content (or guanine-cytosine content) is the percentage of nitrogenous bases in a DNA or RNA molecule \n",
    "that are either Guanine (G) or Cytosine (C)\n",
    "\n",
    "A -> T <br/>\n",
    "G -> C\n",
    "\n",
    "#### Usefulness\n",
    "+ In polymerase chain reaction (PCR) experiments, the GC-content of short oligonucleotides known as primers is often used to predict their annealing temperature to the template DNA. \n",
    "+ A higher GC-content level indicates a relatively higher melting temperature.\n",
    "+ DNA with low GC-content is less stable than DNA with high GC-content\n",
    "+ High GC content DNA can make it difficult to perform PCR amplication due to difficulty in designing a primer long enough to provide great specifity\n",
    "\n",
    "\n",
    "#### AT Contents in DNA\n",
    "+ AT content is the percentage of nitrogenous bases in a DNA or RNA molecule that are either Adenine (A) or Thymine (T)\n",
    "+ AT base pairing yields only 2 hydrogen bonds"
   ]
  },
  {
   "cell_type": "markdown",
   "id": "fec6a5e9",
   "metadata": {},
   "source": [
    "#### GC Content"
   ]
  },
  {
   "cell_type": "code",
   "execution_count": 6,
   "id": "bedf0dfa",
   "metadata": {},
   "outputs": [],
   "source": [
    "from Bio.Seq import Seq\n",
    "from Bio.SeqUtils import gc_fraction"
   ]
  },
  {
   "cell_type": "code",
   "execution_count": 4,
   "id": "b8e2409a",
   "metadata": {},
   "outputs": [],
   "source": [
    "dna = Seq(\"ATGATCTCGTAA\")"
   ]
  },
  {
   "cell_type": "code",
   "execution_count": 8,
   "id": "952f3526",
   "metadata": {
    "scrolled": true
   },
   "outputs": [
    {
     "name": "stdout",
     "output_type": "stream",
     "text": [
      "0.3333333333333333\n"
     ]
    }
   ],
   "source": [
    "print(gc_fraction(dna))"
   ]
  },
  {
   "cell_type": "code",
   "execution_count": 9,
   "id": "f0c3f275",
   "metadata": {},
   "outputs": [],
   "source": [
    "# Custom function\n",
    "def gc_content(seq):\n",
    "    return float(seq.count(\"G\") + seq.count(\"C\")) / len(seq)"
   ]
  },
  {
   "cell_type": "code",
   "execution_count": 10,
   "id": "7a52badd",
   "metadata": {},
   "outputs": [
    {
     "data": {
      "text/plain": [
       "0.3333333333333333"
      ]
     },
     "execution_count": 10,
     "metadata": {},
     "output_type": "execute_result"
    }
   ],
   "source": [
    "gc_content(dna)"
   ]
  },
  {
   "cell_type": "code",
   "execution_count": 23,
   "id": "1dbbc3ed",
   "metadata": {},
   "outputs": [],
   "source": [
    "# custom function 2\n",
    "def gc_content2(seq):\n",
    "    gc = [i for i in seq.upper() if i in \"GC\"]\n",
    "    return len(gc) / len(seq)"
   ]
  },
  {
   "cell_type": "code",
   "execution_count": 24,
   "id": "e5414c32",
   "metadata": {},
   "outputs": [
    {
     "data": {
      "text/plain": [
       "0.3333333333333333"
      ]
     },
     "execution_count": 24,
     "metadata": {},
     "output_type": "execute_result"
    }
   ],
   "source": [
    "gc_content2(dna)"
   ]
  },
  {
   "cell_type": "code",
   "execution_count": 25,
   "id": "6bbe86d2",
   "metadata": {},
   "outputs": [
    {
     "data": {
      "text/plain": [
       "0.3333333333333333"
      ]
     },
     "execution_count": 25,
     "metadata": {},
     "output_type": "execute_result"
    }
   ],
   "source": [
    "gc_content2(dna.lower())"
   ]
  },
  {
   "cell_type": "markdown",
   "id": "1635beab",
   "metadata": {},
   "source": [
    "#### AT Content"
   ]
  },
  {
   "cell_type": "code",
   "execution_count": 26,
   "id": "c19fcbf5",
   "metadata": {},
   "outputs": [],
   "source": [
    "def at_content(seq):\n",
    "    seq = seq.upper()\n",
    "    return (seq.count(\"A\") + seq.count(\"T\")) / len(seq)"
   ]
  },
  {
   "cell_type": "code",
   "execution_count": 27,
   "id": "c48181b9",
   "metadata": {},
   "outputs": [
    {
     "data": {
      "text/plain": [
       "0.6666666666666666"
      ]
     },
     "execution_count": 27,
     "metadata": {},
     "output_type": "execute_result"
    }
   ],
   "source": [
    "at_content(dna)"
   ]
  },
  {
   "cell_type": "markdown",
   "id": "5f3bd541",
   "metadata": {},
   "source": [
    "### Melting Point of DNA"
   ]
  },
  {
   "cell_type": "markdown",
   "id": "49e93228",
   "metadata": {},
   "source": [
    "- Higher GC means high melting point\n",
    "- Tm_Wallace: \"Rule of thumb\"\n",
    "- Tm_GC: Empirical formulas based on GC Content. Salt and mismatch corrections can be included\n",
    "- Tm_NN: Calculation based on nearest neighbour thermodynamics. Several tables for DNA/DNA, DNA/RNA and RNA/RNA hybridizations are included. Correction for mismatch, dangling ends, salt concentration and other additives are available."
   ]
  },
  {
   "cell_type": "code",
   "execution_count": 30,
   "id": "9959576c",
   "metadata": {},
   "outputs": [],
   "source": [
    "from Bio.SeqUtils import MeltingTemp as mt"
   ]
  },
  {
   "cell_type": "code",
   "execution_count": null,
   "id": "8ca41f31",
   "metadata": {},
   "outputs": [],
   "source": [
    "# check for the melting point using wallace\n"
   ]
  }
 ],
 "metadata": {
  "kernelspec": {
   "display_name": "Python 3 (ipykernel)",
   "language": "python",
   "name": "python3"
  },
  "language_info": {
   "codemirror_mode": {
    "name": "ipython",
    "version": 3
   },
   "file_extension": ".py",
   "mimetype": "text/x-python",
   "name": "python",
   "nbconvert_exporter": "python",
   "pygments_lexer": "ipython3",
   "version": "3.9.12"
  }
 },
 "nbformat": 4,
 "nbformat_minor": 5
}
