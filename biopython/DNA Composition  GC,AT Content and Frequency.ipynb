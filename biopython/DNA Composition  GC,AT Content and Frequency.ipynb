{
 "cells": [
  {
   "cell_type": "markdown",
   "id": "44d64150",
   "metadata": {},
   "source": [
    "# DNA Composition  GC,AT Content and Frequency"
   ]
  },
  {
   "cell_type": "markdown",
   "id": "2742ed2d",
   "metadata": {},
   "source": [
    "#### GC Contents In DNA\n",
    "+ GC-content (or guanine-cytosine content) is the percentage of nitrogenous bases in a DNA or RNA molecule \n",
    "that are either Guanine (G) or Cytosine (C)\n",
    "\n",
    "A -> T <br/>\n",
    "G -> C\n",
    "\n",
    "#### Usefulness\n",
    "+ In polymerase chain reaction (PCR) experiments, the GC-content of short oligonucleotides known as primers is often used to predict their annealing temperature to the template DNA. \n",
    "+ A higher GC-content level indicates a relatively higher melting temperature.\n",
    "+ DNA with low GC-content is less stable than DNA with high GC-content\n",
    "+ High GC content DNA can make it difficult to perform PCR amplication due to difficulty in designing a primer long enough to provide great specifity\n",
    "\n",
    "\n",
    "#### AT Contents in DNA\n",
    "+ AT content is the percentage of nitrogenous bases in a DNA or RNA molecule that are either Adenine (A) or Thymine (T)\n",
    "+ AT base pairing yields only 2 hydrogen bonds"
   ]
  },
  {
   "cell_type": "markdown",
   "id": "4949e6b7",
   "metadata": {},
   "source": [
    "#### GC Content"
   ]
  },
  {
   "cell_type": "code",
   "execution_count": 6,
   "id": "bedf0dfa",
   "metadata": {},
   "outputs": [],
   "source": [
    "from Bio.Seq import Seq\n",
    "from Bio.SeqUtils import gc_fraction"
   ]
  },
  {
   "cell_type": "code",
   "execution_count": 4,
   "id": "45601cfc",
   "metadata": {},
   "outputs": [],
   "source": [
    "dna = Seq(\"ATGATCTCGTAA\")"
   ]
  },
  {
   "cell_type": "code",
   "execution_count": 8,
   "id": "10d29212",
   "metadata": {
    "scrolled": true
   },
   "outputs": [
    {
     "name": "stdout",
     "output_type": "stream",
     "text": [
      "0.3333333333333333\n"
     ]
    }
   ],
   "source": [
    "print(gc_fraction(dna))"
   ]
  },
  {
   "cell_type": "code",
   "execution_count": 9,
   "id": "a33e0091",
   "metadata": {},
   "outputs": [],
   "source": [
    "# Custom function\n",
    "def gc_content(seq):\n",
    "    return float(seq.count(\"G\") + seq.count(\"C\")) / len(seq)"
   ]
  },
  {
   "cell_type": "code",
   "execution_count": 10,
   "id": "5a7f1e17",
   "metadata": {},
   "outputs": [
    {
     "data": {
      "text/plain": [
       "0.3333333333333333"
      ]
     },
     "execution_count": 10,
     "metadata": {},
     "output_type": "execute_result"
    }
   ],
   "source": [
    "gc_content(dna)"
   ]
  },
  {
   "cell_type": "code",
   "execution_count": 23,
   "id": "93e044ca",
   "metadata": {},
   "outputs": [],
   "source": [
    "# custom function 2\n",
    "def gc_content2(seq):\n",
    "    gc = [i for i in seq.upper() if i in \"GC\"]\n",
    "    return len(gc) / len(seq)"
   ]
  },
  {
   "cell_type": "code",
   "execution_count": 24,
   "id": "ad7963cd",
   "metadata": {},
   "outputs": [
    {
     "data": {
      "text/plain": [
       "0.3333333333333333"
      ]
     },
     "execution_count": 24,
     "metadata": {},
     "output_type": "execute_result"
    }
   ],
   "source": [
    "gc_content2(dna)"
   ]
  },
  {
   "cell_type": "code",
   "execution_count": 25,
   "id": "47fe551b",
   "metadata": {},
   "outputs": [
    {
     "data": {
      "text/plain": [
       "0.3333333333333333"
      ]
     },
     "execution_count": 25,
     "metadata": {},
     "output_type": "execute_result"
    }
   ],
   "source": [
    "gc_content2(dna.lower())"
   ]
  },
  {
   "cell_type": "code",
   "execution_count": null,
   "id": "6d8e82ea",
   "metadata": {},
   "outputs": [],
   "source": []
  }
 ],
 "metadata": {
  "kernelspec": {
   "display_name": "Python 3 (ipykernel)",
   "language": "python",
   "name": "python3"
  },
  "language_info": {
   "codemirror_mode": {
    "name": "ipython",
    "version": 3
   },
   "file_extension": ".py",
   "mimetype": "text/x-python",
   "name": "python",
   "nbconvert_exporter": "python",
   "pygments_lexer": "ipython3",
   "version": "3.9.12"
  }
 },
 "nbformat": 4,
 "nbformat_minor": 5
}
