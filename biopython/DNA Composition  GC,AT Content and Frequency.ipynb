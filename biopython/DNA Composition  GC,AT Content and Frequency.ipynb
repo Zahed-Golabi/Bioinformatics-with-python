{
 "cells": [
  {
   "cell_type": "markdown",
   "id": "44d64150",
   "metadata": {},
   "source": [
    "# DNA Composition  GC,AT Content and Frequency"
   ]
  },
  {
   "cell_type": "markdown",
   "id": "2742ed2d",
   "metadata": {},
   "source": [
    "#### GC Contents In DNA\n",
    "+ GC-content (or guanine-cytosine content) is the percentage of nitrogenous bases in a DNA or RNA molecule \n",
    "that are either Guanine (G) or Cytosine (C)\n",
    "\n",
    "A -> T <br/>\n",
    "G -> C\n",
    "\n",
    "#### Usefulness\n",
    "+ In polymerase chain reaction (PCR) experiments, the GC-content of short oligonucleotides known as primers is often used to predict their annealing temperature to the template DNA. \n",
    "+ A higher GC-content level indicates a relatively higher melting temperature.\n",
    "+ DNA with low GC-content is less stable than DNA with high GC-content\n",
    "+ High GC content DNA can make it difficult to perform PCR amplication due to difficulty in designing a primer long enough to provide great specifity\n",
    "\n",
    "\n",
    "#### AT Contents in DNA\n",
    "+ AT content is the percentage of nitrogenous bases in a DNA or RNA molecule that are either Adenine (A) or Thymine (T)\n",
    "+ AT base pairing yields only 2 hydrogen bonds"
   ]
  },
  {
   "cell_type": "code",
   "execution_count": null,
   "id": "bedf0dfa",
   "metadata": {},
   "outputs": [],
   "source": []
  }
 ],
 "metadata": {
  "kernelspec": {
   "display_name": "Python 3 (ipykernel)",
   "language": "python",
   "name": "python3"
  },
  "language_info": {
   "codemirror_mode": {
    "name": "ipython",
    "version": 3
   },
   "file_extension": ".py",
   "mimetype": "text/x-python",
   "name": "python",
   "nbconvert_exporter": "python",
   "pygments_lexer": "ipython3",
   "version": "3.9.12"
  }
 },
 "nbformat": 4,
 "nbformat_minor": 5
}
