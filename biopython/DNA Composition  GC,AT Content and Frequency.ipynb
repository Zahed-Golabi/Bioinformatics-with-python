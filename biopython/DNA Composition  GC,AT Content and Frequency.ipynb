{
 "cells": [
  {
   "cell_type": "markdown",
   "id": "44d64150",
   "metadata": {},
   "source": [
    "# DNA Composition  GC,AT Content and Frequency"
   ]
  },
  {
   "cell_type": "markdown",
   "id": "2742ed2d",
   "metadata": {},
   "source": [
    "#### GC Contents In DNA\n",
    "+ GC-content (or guanine-cytosine content) is the percentage of nitrogenous bases in a DNA or RNA molecule \n",
    "that are either Guanine (G) or Cytosine (C)\n",
    "\n",
    "A -> T <br/>\n",
    "G -> C\n",
    "\n",
    "#### Usefulness\n",
    "+ In polymerase chain reaction (PCR) experiments, the GC-content of short oligonucleotides known as primers is often used to predict their annealing temperature to the template DNA. \n",
    "+ A higher GC-content level indicates a relatively higher melting temperature.\n",
    "+ DNA with low GC-content is less stable than DNA with high GC-content\n",
    "+ High GC content DNA can make it difficult to perform PCR amplication due to difficulty in designing a primer long enough to provide great specifity\n",
    "\n",
    "\n",
    "#### AT Contents in DNA\n",
    "+ AT content is the percentage of nitrogenous bases in a DNA or RNA molecule that are either Adenine (A) or Thymine (T)\n",
    "+ AT base pairing yields only 2 hydrogen bonds"
   ]
  },
  {
   "cell_type": "markdown",
   "id": "dda1560d",
   "metadata": {},
   "source": [
    "#### GC Content"
   ]
  },
  {
   "cell_type": "code",
   "execution_count": 1,
   "id": "bedf0dfa",
   "metadata": {},
   "outputs": [],
   "source": [
    "from Bio.Seq import Seq\n",
    "from Bio.SeqUtils import gc_fraction"
   ]
  },
  {
   "cell_type": "code",
   "execution_count": 2,
   "id": "947a2427",
   "metadata": {},
   "outputs": [],
   "source": [
    "dna = Seq(\"ATGATCTCGTAA\")"
   ]
  },
  {
   "cell_type": "code",
   "execution_count": 3,
   "id": "38948450",
   "metadata": {
    "scrolled": true
   },
   "outputs": [
    {
     "name": "stdout",
     "output_type": "stream",
     "text": [
      "0.3333333333333333\n"
     ]
    }
   ],
   "source": [
    "print(gc_fraction(dna))"
   ]
  },
  {
   "cell_type": "code",
   "execution_count": 4,
   "id": "91529fd0",
   "metadata": {},
   "outputs": [],
   "source": [
    "# Custom function\n",
    "def gc_content(seq):\n",
    "    return float(seq.count(\"G\") + seq.count(\"C\")) / len(seq)"
   ]
  },
  {
   "cell_type": "code",
   "execution_count": 5,
   "id": "a9cb0b4d",
   "metadata": {},
   "outputs": [
    {
     "data": {
      "text/plain": [
       "0.3333333333333333"
      ]
     },
     "execution_count": 5,
     "metadata": {},
     "output_type": "execute_result"
    }
   ],
   "source": [
    "gc_content(dna)"
   ]
  },
  {
   "cell_type": "code",
   "execution_count": 6,
   "id": "e981d858",
   "metadata": {},
   "outputs": [],
   "source": [
    "# custom function 2\n",
    "def gc_content2(seq):\n",
    "    gc = [i for i in seq.upper() if i in \"GC\"]\n",
    "    return len(gc) / len(seq)"
   ]
  },
  {
   "cell_type": "code",
   "execution_count": 7,
   "id": "e98320b4",
   "metadata": {},
   "outputs": [
    {
     "data": {
      "text/plain": [
       "0.3333333333333333"
      ]
     },
     "execution_count": 7,
     "metadata": {},
     "output_type": "execute_result"
    }
   ],
   "source": [
    "gc_content2(dna)"
   ]
  },
  {
   "cell_type": "code",
   "execution_count": 8,
   "id": "78e52b1d",
   "metadata": {},
   "outputs": [
    {
     "data": {
      "text/plain": [
       "0.3333333333333333"
      ]
     },
     "execution_count": 8,
     "metadata": {},
     "output_type": "execute_result"
    }
   ],
   "source": [
    "gc_content2(dna.lower())"
   ]
  },
  {
   "cell_type": "markdown",
   "id": "bc02e103",
   "metadata": {},
   "source": [
    "#### AT Content"
   ]
  },
  {
   "cell_type": "code",
   "execution_count": 9,
   "id": "cdb72e2e",
   "metadata": {},
   "outputs": [],
   "source": [
    "def at_content(seq):\n",
    "    seq = seq.upper()\n",
    "    return (seq.count(\"A\") + seq.count(\"T\")) / len(seq)"
   ]
  },
  {
   "cell_type": "code",
   "execution_count": 10,
   "id": "30bc7537",
   "metadata": {},
   "outputs": [
    {
     "data": {
      "text/plain": [
       "0.6666666666666666"
      ]
     },
     "execution_count": 10,
     "metadata": {},
     "output_type": "execute_result"
    }
   ],
   "source": [
    "at_content(dna)"
   ]
  },
  {
   "cell_type": "markdown",
   "id": "5588c8f2",
   "metadata": {},
   "source": [
    "### Melting Point of DNA"
   ]
  },
  {
   "cell_type": "markdown",
   "id": "3a7cdbe6",
   "metadata": {},
   "source": [
    "- Higher GC means high melting point\n",
    "- Tm_Wallace: \"Rule of thumb\"\n",
    "- Tm_GC: Empirical formulas based on GC Content. Salt and mismatch corrections can be included\n",
    "- Tm_NN: Calculation based on nearest neighbour thermodynamics. Several tables for DNA/DNA, DNA/RNA and RNA/RNA hybridizations are included. Correction for mismatch, dangling ends, salt concentration and other additives are available."
   ]
  },
  {
   "cell_type": "code",
   "execution_count": 11,
   "id": "5019a896",
   "metadata": {},
   "outputs": [],
   "source": [
    "from Bio.SeqUtils import MeltingTemp as mt"
   ]
  },
  {
   "cell_type": "code",
   "execution_count": 12,
   "id": "2211c40b",
   "metadata": {},
   "outputs": [
    {
     "data": {
      "text/plain": [
       "32.0"
      ]
     },
     "execution_count": 12,
     "metadata": {},
     "output_type": "execute_result"
    }
   ],
   "source": [
    "# check for the melting point using wallace\n",
    "mt.Tm_Wallace(dna)"
   ]
  },
  {
   "cell_type": "code",
   "execution_count": 13,
   "id": "ebbdb44a",
   "metadata": {},
   "outputs": [
    {
     "data": {
      "text/plain": [
       "23.569568738644566"
      ]
     },
     "execution_count": 13,
     "metadata": {},
     "output_type": "execute_result"
    }
   ],
   "source": [
    "# check for the melting point GC Content\n",
    "mt.Tm_GC(dna)"
   ]
  },
  {
   "cell_type": "code",
   "execution_count": 14,
   "id": "47a84d68",
   "metadata": {},
   "outputs": [],
   "source": [
    "# Examples\n",
    "ex1 = \"ATGCATGGTGCGCGA\"\n",
    "ex2 = \"ATTTGTGCTCCTGGA\""
   ]
  },
  {
   "cell_type": "code",
   "execution_count": 15,
   "id": "e86d4ffd",
   "metadata": {},
   "outputs": [
    {
     "data": {
      "text/plain": [
       "0.6"
      ]
     },
     "execution_count": 15,
     "metadata": {},
     "output_type": "execute_result"
    }
   ],
   "source": [
    "gc_fraction(ex1)"
   ]
  },
  {
   "cell_type": "code",
   "execution_count": 16,
   "id": "e05cfd62",
   "metadata": {},
   "outputs": [
    {
     "data": {
      "text/plain": [
       "0.4666666666666667"
      ]
     },
     "execution_count": 16,
     "metadata": {},
     "output_type": "execute_result"
    }
   ],
   "source": [
    "gc_fraction(ex2)"
   ]
  },
  {
   "cell_type": "code",
   "execution_count": 17,
   "id": "0846a334",
   "metadata": {},
   "outputs": [
    {
     "data": {
      "text/plain": [
       "0.6"
      ]
     },
     "execution_count": 17,
     "metadata": {},
     "output_type": "execute_result"
    }
   ],
   "source": [
    "gc_content2(ex1)"
   ]
  },
  {
   "cell_type": "code",
   "execution_count": 18,
   "id": "e0f4e36a",
   "metadata": {},
   "outputs": [
    {
     "data": {
      "text/plain": [
       "0.4666666666666667"
      ]
     },
     "execution_count": 18,
     "metadata": {},
     "output_type": "execute_result"
    }
   ],
   "source": [
    "gc_content2(ex2)"
   ]
  },
  {
   "cell_type": "code",
   "execution_count": 19,
   "id": "257d9ed2",
   "metadata": {},
   "outputs": [],
   "source": [
    "def get_metrics(seq):\n",
    "    gc = gc_fraction(seq)\n",
    "    at = at_content(seq)\n",
    "    melting = mt.Tm_GC(seq)\n",
    "    result = \"GC:{}, AT:{}, Temp:{}\".format(gc,at,melting)\n",
    "    return result"
   ]
  },
  {
   "cell_type": "code",
   "execution_count": 20,
   "id": "f511a9b1",
   "metadata": {},
   "outputs": [
    {
     "data": {
      "text/plain": [
       "'GC:0.6, AT:0.4, Temp:44.5029020719779'"
      ]
     },
     "execution_count": 20,
     "metadata": {},
     "output_type": "execute_result"
    }
   ],
   "source": [
    "get_metrics(ex1)"
   ]
  },
  {
   "cell_type": "code",
   "execution_count": 21,
   "id": "65d793d5",
   "metadata": {},
   "outputs": [
    {
     "data": {
      "text/plain": [
       "'GC:0.4666666666666667, AT:0.5333333333333333, Temp:39.03623540531123'"
      ]
     },
     "execution_count": 21,
     "metadata": {},
     "output_type": "execute_result"
    }
   ],
   "source": [
    "get_metrics(ex2)"
   ]
  },
  {
   "cell_type": "markdown",
   "id": "97b481c4",
   "metadata": {},
   "source": [
    "### GC Skew"
   ]
  },
  {
   "cell_type": "markdown",
   "id": "e9084324",
   "metadata": {},
   "source": [
    "+ check when the nucleotide (G,C) are over or under abundant in a particular region of a DNA or RNA\n",
    "+ Helps to indicate DNA lagging strand or leading strand\n",
    "+ GC skew pos = leading\n",
    "+ GC skew neg = lagging"
   ]
  },
  {
   "cell_type": "code",
   "execution_count": 22,
   "id": "0e57f048",
   "metadata": {},
   "outputs": [],
   "source": [
    "from Bio.SeqUtils import GC123, GC_skew, xGC_skew"
   ]
  },
  {
   "cell_type": "code",
   "execution_count": 23,
   "id": "dfa04489",
   "metadata": {},
   "outputs": [
    {
     "data": {
      "text/plain": [
       "Seq('ATGATCTCGTAA')"
      ]
     },
     "execution_count": 23,
     "metadata": {},
     "output_type": "execute_result"
    }
   ],
   "source": [
    "# GC content first,second,third position\n",
    "dna"
   ]
  },
  {
   "cell_type": "code",
   "execution_count": 24,
   "id": "0e1398df",
   "metadata": {},
   "outputs": [
    {
     "data": {
      "text/plain": [
       "(33.333333333333336, 0.0, 25.0, 75.0)"
      ]
     },
     "execution_count": 24,
     "metadata": {},
     "output_type": "execute_result"
    }
   ],
   "source": [
    "GC123(dna)"
   ]
  },
  {
   "cell_type": "code",
   "execution_count": 25,
   "id": "60b50868",
   "metadata": {},
   "outputs": [
    {
     "data": {
      "text/plain": [
       "[0.0, 0.0]"
      ]
     },
     "execution_count": 25,
     "metadata": {},
     "output_type": "execute_result"
    }
   ],
   "source": [
    "# GC_Skew \n",
    "GC_skew(dna,10)"
   ]
  },
  {
   "cell_type": "markdown",
   "id": "a7162bac",
   "metadata": {},
   "source": [
    "#### Subsequence\n",
    "+ Search for a DNA subseq in sequence, return list of [subseq, positions]"
   ]
  },
  {
   "cell_type": "code",
   "execution_count": 26,
   "id": "043e8bb3",
   "metadata": {},
   "outputs": [],
   "source": [
    "from Bio.SeqUtils import nt_search"
   ]
  },
  {
   "cell_type": "code",
   "execution_count": 27,
   "id": "c687c0a4",
   "metadata": {},
   "outputs": [],
   "source": [
    "s1 = Seq(\"ACTATT\")\n",
    "subseq= Seq(\"ACT\")"
   ]
  },
  {
   "cell_type": "code",
   "execution_count": 29,
   "id": "d0822410",
   "metadata": {},
   "outputs": [
    {
     "data": {
      "text/plain": [
       "['ACT', 0]"
      ]
     },
     "execution_count": 29,
     "metadata": {},
     "output_type": "execute_result"
    }
   ],
   "source": [
    "nt_search(str(s1), str(subseq))"
   ]
  },
  {
   "cell_type": "code",
   "execution_count": 30,
   "id": "c7146ebc",
   "metadata": {},
   "outputs": [],
   "source": [
    "s1 = Seq(\"ACTATT\")\n",
    "subseq= Seq(\"ATT\")"
   ]
  },
  {
   "cell_type": "code",
   "execution_count": 31,
   "id": "6983328d",
   "metadata": {},
   "outputs": [
    {
     "data": {
      "text/plain": [
       "['ATT', 3]"
      ]
     },
     "execution_count": 31,
     "metadata": {},
     "output_type": "execute_result"
    }
   ],
   "source": [
    "nt_search(str(s1), str(subseq))"
   ]
  },
  {
   "cell_type": "markdown",
   "id": "eb8ccdb3",
   "metadata": {},
   "source": [
    "# Well Done!"
   ]
  }
 ],
 "metadata": {
  "kernelspec": {
   "display_name": "Python 3 (ipykernel)",
   "language": "python",
   "name": "python3"
  },
  "language_info": {
   "codemirror_mode": {
    "name": "ipython",
    "version": 3
   },
   "file_extension": ".py",
   "mimetype": "text/x-python",
   "name": "python",
   "nbconvert_exporter": "python",
   "pygments_lexer": "ipython3",
   "version": "3.9.12"
  }
 },
 "nbformat": 4,
 "nbformat_minor": 5
}
