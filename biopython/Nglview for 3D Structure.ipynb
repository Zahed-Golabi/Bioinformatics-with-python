{
 "cells": [
  {
   "cell_type": "markdown",
   "id": "9334c3b4",
   "metadata": {},
   "source": [
    "# Nglview for 3D Structure"
   ]
  },
  {
   "cell_type": "code",
   "execution_count": null,
   "id": "e4070bf3",
   "metadata": {},
   "outputs": [],
   "source": [
    "# !pip install nglview"
   ]
  },
  {
   "cell_type": "code",
   "execution_count": 1,
   "id": "a55096a2",
   "metadata": {},
   "outputs": [
    {
     "data": {
      "application/vnd.jupyter.widget-view+json": {
       "model_id": "d3c2af369dd84dae8c7b94d8c3aaca49",
       "version_major": 2,
       "version_minor": 0
      },
      "text/plain": []
     },
     "metadata": {},
     "output_type": "display_data"
    }
   ],
   "source": [
    "import nglview as nv"
   ]
  },
  {
   "cell_type": "code",
   "execution_count": 3,
   "id": "14958789",
   "metadata": {},
   "outputs": [
    {
     "name": "stderr",
     "output_type": "stream",
     "text": [
      "Enabling notebook extension nglview-js-widgets/extension...\n",
      "      - Validating: ok\n"
     ]
    }
   ],
   "source": [
    "!jupyter nbextension enable --py --sys-prefix nglview"
   ]
  },
  {
   "cell_type": "code",
   "execution_count": 2,
   "id": "0bb4c079",
   "metadata": {},
   "outputs": [
    {
     "data": {
      "application/vnd.jupyter.widget-view+json": {
       "model_id": "d855ce51522344358490f38474f1244c",
       "version_major": 2,
       "version_minor": 0
      },
      "text/plain": [
       "NGLWidget()"
      ]
     },
     "metadata": {},
     "output_type": "display_data"
    }
   ],
   "source": [
    "nv.demo()   # is activated?"
   ]
  },
  {
   "cell_type": "code",
   "execution_count": null,
   "id": "42d992f3",
   "metadata": {},
   "outputs": [],
   "source": []
  }
 ],
 "metadata": {
  "kernelspec": {
   "display_name": "Python 3 (ipykernel)",
   "language": "python",
   "name": "python3"
  },
  "language_info": {
   "codemirror_mode": {
    "name": "ipython",
    "version": 3
   },
   "file_extension": ".py",
   "mimetype": "text/x-python",
   "name": "python",
   "nbconvert_exporter": "python",
   "pygments_lexer": "ipython3",
   "version": "3.9.12"
  }
 },
 "nbformat": 4,
 "nbformat_minor": 5
}
