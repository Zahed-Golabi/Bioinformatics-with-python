{
 "cells": [
  {
   "cell_type": "markdown",
   "id": "9334c3b4",
   "metadata": {},
   "source": [
    "# Nglview for 3D Structure"
   ]
  },
  {
   "cell_type": "code",
   "execution_count": null,
   "id": "e4070bf3",
   "metadata": {},
   "outputs": [],
   "source": [
    "# !pip install nglview"
   ]
  },
  {
   "cell_type": "code",
   "execution_count": 1,
   "id": "a55096a2",
   "metadata": {},
   "outputs": [
    {
     "data": {
      "application/vnd.jupyter.widget-view+json": {
       "model_id": "d3c2af369dd84dae8c7b94d8c3aaca49",
       "version_major": 2,
       "version_minor": 0
      },
      "text/plain": []
     },
     "metadata": {},
     "output_type": "display_data"
    }
   ],
   "source": [
    "import nglview as nv"
   ]
  },
  {
   "cell_type": "code",
   "execution_count": 3,
   "id": "14958789",
   "metadata": {},
   "outputs": [
    {
     "name": "stderr",
     "output_type": "stream",
     "text": [
      "Enabling notebook extension nglview-js-widgets/extension...\n",
      "      - Validating: ok\n"
     ]
    }
   ],
   "source": [
    "!jupyter nbextension enable --py --sys-prefix nglview"
   ]
  },
  {
   "cell_type": "code",
   "execution_count": 2,
   "id": "0bb4c079",
   "metadata": {},
   "outputs": [
    {
     "data": {
      "application/vnd.jupyter.widget-view+json": {
       "model_id": "d855ce51522344358490f38474f1244c",
       "version_major": 2,
       "version_minor": 0
      },
      "text/plain": [
       "NGLWidget()"
      ]
     },
     "metadata": {},
     "output_type": "display_data"
    }
   ],
   "source": [
    "nv.demo()   # is activated?"
   ]
  },
  {
   "cell_type": "code",
   "execution_count": 4,
   "id": "9dbd7120",
   "metadata": {},
   "outputs": [],
   "source": [
    "# Reading PDB Files\n",
    "from Bio.PDB import PDBParser,MMCIFParser"
   ]
  },
  {
   "cell_type": "code",
   "execution_count": 5,
   "id": "e2de8fc7",
   "metadata": {},
   "outputs": [
    {
     "name": "stderr",
     "output_type": "stream",
     "text": [
      "C:\\Users\\IT Center\\AppData\\Roaming\\Python\\Python39\\site-packages\\Bio\\PDB\\StructureBuilder.py:89: PDBConstructionWarning: WARNING: Chain A is discontinuous at line 2811.\n",
      "  warnings.warn(\n"
     ]
    }
   ],
   "source": [
    "# Create a parser\n",
    "parser = PDBParser()\n",
    "structure = parser.get_structure(\"6LU7\",\"6lu7.pdb\")"
   ]
  },
  {
   "cell_type": "code",
   "execution_count": 6,
   "id": "b80f607d",
   "metadata": {},
   "outputs": [
    {
     "data": {
      "text/plain": [
       "<Structure id=6LU7>"
      ]
     },
     "execution_count": 6,
     "metadata": {},
     "output_type": "execute_result"
    }
   ],
   "source": [
    "structure"
   ]
  },
  {
   "cell_type": "code",
   "execution_count": 7,
   "id": "2ebe098c",
   "metadata": {},
   "outputs": [],
   "source": [
    "# Models in the structure\n",
    "model = structure[0]"
   ]
  },
  {
   "cell_type": "code",
   "execution_count": 8,
   "id": "92bde5f0",
   "metadata": {},
   "outputs": [],
   "source": [
    "# display the model\n",
    "view = nv.show_biopython(structure)"
   ]
  },
  {
   "cell_type": "code",
   "execution_count": 9,
   "id": "4ecd5d43",
   "metadata": {},
   "outputs": [
    {
     "data": {
      "application/vnd.jupyter.widget-view+json": {
       "model_id": "3f439ea3422042798b96d9ab39cc768d",
       "version_major": 2,
       "version_minor": 0
      },
      "text/plain": [
       "NGLWidget()"
      ]
     },
     "metadata": {},
     "output_type": "display_data"
    }
   ],
   "source": [
    "view"
   ]
  },
  {
   "cell_type": "code",
   "execution_count": 10,
   "id": "e7054b54",
   "metadata": {},
   "outputs": [
    {
     "data": {
      "application/vnd.jupyter.widget-view+json": {
       "model_id": "d65113dc1d644468a20ce60616122d2d",
       "version_major": 2,
       "version_minor": 0
      },
      "text/plain": [
       "Image(value=b'', width='99%')"
      ]
     },
     "metadata": {},
     "output_type": "display_data"
    }
   ],
   "source": [
    "view.render_image()"
   ]
  },
  {
   "cell_type": "code",
   "execution_count": null,
   "id": "1fb714ea",
   "metadata": {},
   "outputs": [],
   "source": []
  }
 ],
 "metadata": {
  "kernelspec": {
   "display_name": "Python 3 (ipykernel)",
   "language": "python",
   "name": "python3"
  },
  "language_info": {
   "codemirror_mode": {
    "name": "ipython",
    "version": 3
   },
   "file_extension": ".py",
   "mimetype": "text/x-python",
   "name": "python",
   "nbconvert_exporter": "python",
   "pygments_lexer": "ipython3",
   "version": "3.9.12"
  }
 },
 "nbformat": 4,
 "nbformat_minor": 5
}
