{
 "cells": [
  {
   "cell_type": "markdown",
   "id": "f305b816",
   "metadata": {},
   "source": [
    "# 3D Structures"
   ]
  },
  {
   "cell_type": "markdown",
   "id": "8350d604",
   "metadata": {},
   "source": [
    "+ File Format\n",
    " + pdb: PDBParser() legacy\n",
    " + cif: MMCIFParser() recent\n",
    "\n",
    "Links\n",
    "- [https://www.ncbi.nlm.nih.gov/Structure/pdb/6LU7](https://www.ncbi.nlm.nih.gov/Structure/pdb/6LU7)\n",
    "- [https://www.rcsb.org/search](https://www.rcsb.org/search)\n",
    "- Protein Data Bank\n",
    "\n",
    "\n",
    "#### Pkgs\n",
    "+ pip install nglview\n",
    "+ pip install py3Dmol\n",
    "+ pip install pytraj\n",
    "+ jupyter-nbextension enable nglview --py --sys-prefix\n",
    "+ nglview enable\n",
    "+ jupyter-labextension install @jupyter-widget/jupyterlab-manager\n",
    "+ jupyter-labextension install nglview-js-widgets"
   ]
  },
  {
   "cell_type": "code",
   "execution_count": null,
   "id": "a7eafd29",
   "metadata": {},
   "outputs": [],
   "source": []
  }
 ],
 "metadata": {
  "kernelspec": {
   "display_name": "Python 3 (ipykernel)",
   "language": "python",
   "name": "python3"
  },
  "language_info": {
   "codemirror_mode": {
    "name": "ipython",
    "version": 3
   },
   "file_extension": ".py",
   "mimetype": "text/x-python",
   "name": "python",
   "nbconvert_exporter": "python",
   "pygments_lexer": "ipython3",
   "version": "3.9.12"
  }
 },
 "nbformat": 4,
 "nbformat_minor": 5
}
