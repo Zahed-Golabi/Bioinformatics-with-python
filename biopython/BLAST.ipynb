{
 "cells": [
  {
   "cell_type": "markdown",
   "id": "c9d8f7ad",
   "metadata": {},
   "source": [
    "# BLAST (Basic Local Alignment Search Tool)"
   ]
  },
  {
   "cell_type": "markdown",
   "id": "04105bdb",
   "metadata": {},
   "source": [
    "+ Over the internet\n",
    "+ Locally\n",
    " + blast CLI\n",
    " + biopython"
   ]
  },
  {
   "cell_type": "code",
   "execution_count": 1,
   "id": "ccf45803",
   "metadata": {},
   "outputs": [],
   "source": [
    "from Bio.Blast import NCBIWWW"
   ]
  },
  {
   "cell_type": "code",
   "execution_count": 4,
   "id": "4c728c8c",
   "metadata": {},
   "outputs": [],
   "source": [
    "from Bio import SeqIO"
   ]
  },
  {
   "cell_type": "code",
   "execution_count": 5,
   "id": "16e6375c",
   "metadata": {},
   "outputs": [],
   "source": [
    "# Reading our fasta file\n",
    "covid_record = SeqIO.read(\"covid_sequence_MT385497.fasta\",\"fasta\") "
   ]
  },
  {
   "cell_type": "code",
   "execution_count": 6,
   "id": "0611c83d",
   "metadata": {},
   "outputs": [],
   "source": [
    "# Seq\n",
    "covid_dna = covid_record.seq"
   ]
  },
  {
   "cell_type": "code",
   "execution_count": 7,
   "id": "b5ac684d",
   "metadata": {},
   "outputs": [
    {
     "data": {
      "text/plain": [
       "Seq('CAGGTAACAAACCAACCAACTTTCGATCTCTTGTAGATCTGTTCTCTAAACGAA...TTT')"
      ]
     },
     "execution_count": 7,
     "metadata": {},
     "output_type": "execute_result"
    }
   ],
   "source": [
    "covid_dna"
   ]
  },
  {
   "cell_type": "code",
   "execution_count": null,
   "id": "db517e38",
   "metadata": {},
   "outputs": [],
   "source": [
    "# It takes a while"
   ]
  },
  {
   "cell_type": "code",
   "execution_count": 8,
   "id": "75ece1cb",
   "metadata": {},
   "outputs": [],
   "source": [
    "result_handle = NCBIWWW.qblast(\"blastn\", \"nt\", covid_dna)"
   ]
  },
  {
   "cell_type": "code",
   "execution_count": 9,
   "id": "a7b406b3",
   "metadata": {},
   "outputs": [
    {
     "name": "stdout",
     "output_type": "stream",
     "text": [
      "<_io.StringIO object at 0x00000237019E3CA0>\n"
     ]
    }
   ],
   "source": [
    "print(result_handle)"
   ]
  },
  {
   "cell_type": "code",
   "execution_count": 10,
   "id": "790f9ce1",
   "metadata": {},
   "outputs": [
    {
     "name": "stdout",
     "output_type": "stream",
     "text": [
      "<?xml version=\"1.0\"?>\n",
      "\n",
      "<!DOCTYPE BlastOutput PUBLIC \"-//NCBI//NCBI BlastOutput/EN\" \"http://www.ncbi.nlm.nih.gov/dtd/NCBI_BlastOutput.dtd\">\n",
      "\n",
      "<BlastOutput>\n",
      "\n",
      "  <BlastOutput_program>blastn</BlastOutput_program>\n",
      "\n",
      "  <BlastOutput_version>BLASTN 2.14.1+</BlastOutput_version>\n",
      "\n",
      "  <BlastOutput_reference>Stephen F. Altschul, Thomas L. Madden, Alejandro A. Sch&amp;auml;ffer, Jinghui Zhang, Zheng Zhang, Webb Miller, and David J. Lipman (1997), &quot;Gapped BLAST and PSI-BLAST: a new generation of protein database search programs&quot;, Nucleic Acids Res. 25:3389-3402.</BlastOutput_reference>\n",
      "\n",
      "  <BlastOutput_db>nt</BlastOutput_db>\n",
      "\n",
      "  <BlastOutput_query-ID>Query_53825</BlastOutput_query-ID>\n",
      "\n",
      "  <BlastOutput_query-def>No definition line</BlastOutput_query-def>\n",
      "\n",
      "  <BlastOutput_query-len>29803</BlastOutput_query-len>\n",
      "\n",
      "  <BlastOutput_param>\n",
      "\n",
      "    <Parameters>\n",
      "\n",
      "      <Parameters_expect>10</Parameters_expect>\n",
      "\n",
      "      <Parameters_sc-match>2</Parameters_sc-match>\n",
      "\n",
      "      <Parameters_sc-mismatch>-3</Parameters_sc-mismatch>\n",
      "\n",
      "      <Parameters_gap-open>5</Parameters_gap-open>\n",
      "\n",
      "      <Parameters_gap-extend>2</Parameters_gap-extend>\n",
      "\n",
      "      <Parameters_filter>L;m;</Parameters_filter>\n",
      "\n",
      "    </Parameters>\n",
      "\n",
      "  </BlastOutput_param>\n",
      "\n",
      "<BlastOutput_iterations>\n",
      "\n",
      "<Iteration>\n",
      "\n",
      "  <Iteration_iter-num>1</Iteration_iter-num>\n",
      "\n",
      "  <Iteration_query-ID>Query_53825</Iteration_query-ID>\n",
      "\n",
      "  <Iteration_query-def>No definition line</Iteration_query-def>\n",
      "\n",
      "  <Iteration_query-len>29803</Iteration_query-len>\n",
      "\n",
      "<Iteration_hits>\n",
      "\n",
      "</Iteration_hits>\n",
      "\n",
      "  <Iteration_stat>\n",
      "\n",
      "    <Statistics>\n",
      "\n",
      "      <Statistics_db-num>93984486</Statistics_db-num>\n",
      "\n",
      "      <Statistics_db-len>1176741522822</Statistics_db-len>\n",
      "\n",
      "      <Statistics_hsp-len>0</Statistics_hsp-len>\n",
      "\n",
      "      <Statistics_eff-space>0</Statistics_eff-space>\n",
      "\n",
      "      <Statistics_kappa>0.41</Statistics_kappa>\n",
      "\n",
      "      <Statistics_lambda>0.625</Statistics_lambda>\n",
      "\n",
      "      <Statistics_entropy>0.78</Statistics_entropy>\n",
      "\n",
      "    </Statistics>\n",
      "\n",
      "  </Iteration_stat>\n",
      "\n",
      "  <Iteration_message>[blastsrv4.REAL]: Error: CPU usage limit was exceeded, resulting in SIGXCPU (24).</Iteration_message>\n",
      "\n",
      "</Iteration>\n",
      "\n",
      "</BlastOutput_iterations>\n",
      "\n",
      "</BlastOutput>\n",
      "\n"
     ]
    }
   ],
   "source": [
    "for item in result_handle:\n",
    "    print(item)"
   ]
  },
  {
   "cell_type": "code",
   "execution_count": 14,
   "id": "e96585c8",
   "metadata": {},
   "outputs": [
    {
     "data": {
      "text/plain": [
       "43"
      ]
     },
     "execution_count": 14,
     "metadata": {},
     "output_type": "execute_result"
    }
   ],
   "source": [
    "with open(\"result_covid_blast.xml\", \"w\") as f:\n",
    "    for i in result_handle:\n",
    "        f.write(i)"
   ]
  }
 ],
 "metadata": {
  "kernelspec": {
   "display_name": "Python 3 (ipykernel)",
   "language": "python",
   "name": "python3"
  },
  "language_info": {
   "codemirror_mode": {
    "name": "ipython",
    "version": 3
   },
   "file_extension": ".py",
   "mimetype": "text/x-python",
   "name": "python",
   "nbconvert_exporter": "python",
   "pygments_lexer": "ipython3",
   "version": "3.9.12"
  }
 },
 "nbformat": 4,
 "nbformat_minor": 5
}
