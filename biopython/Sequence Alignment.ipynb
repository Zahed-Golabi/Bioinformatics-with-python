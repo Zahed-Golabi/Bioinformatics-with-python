{
 "cells": [
  {
   "cell_type": "markdown",
   "id": "7c46b1c6",
   "metadata": {},
   "source": [
    "# Sequence Alignment"
   ]
  },
  {
   "cell_type": "markdown",
   "id": "de3f38b4",
   "metadata": {},
   "source": [
    "+ Sequence alignment is a method of arranging sequences of DNA, RNA, or Amino Acids or proteins to identify regions of similarity.\n",
    "+ This similarity being identified, may be a result of functional, structural, or evolutionary relationships between the sequences.\n",
    "+ It is useful in identifying similarity and homology\n",
    "+ Homology: descent from a common ancestor or source."
   ]
  },
  {
   "cell_type": "markdown",
   "id": "8a9952af",
   "metadata": {},
   "source": [
    "### Terms"
   ]
  },
  {
   "cell_type": "markdown",
   "id": "83fb9826",
   "metadata": {},
   "source": [
    "+ Matches\n",
    "+ Mismatches\n",
    "+ Gap"
   ]
  },
  {
   "cell_type": "markdown",
   "id": "edb1ce10",
   "metadata": {},
   "source": [
    "<img src=\"aligngap.png\">"
   ]
  },
  {
   "cell_type": "markdown",
   "id": "a946a60e",
   "metadata": {},
   "source": [
    "### Alignment Types"
   ]
  },
  {
   "cell_type": "markdown",
   "id": "3c701fa6",
   "metadata": {},
   "source": [
    "+ Global alignment: finds the best concordance/agreement between all characters in two sequences \n",
    " + Mostly from end to end\n",
    " + By Needle\n",
    "+ Local Alignment: finds just the subsequences that align the best\n",
    " + In this method, we consider subsequences within each of the 2 sequences and try to match them to obtain the best alignment\n",
    " + By Water"
   ]
  },
  {
   "cell_type": "markdown",
   "id": "792d759a",
   "metadata": {},
   "source": [
    "<img src=\"Global_vs_Local_alignment.png\">"
   ]
  },
  {
   "cell_type": "code",
   "execution_count": null,
   "id": "e928cd2c",
   "metadata": {},
   "outputs": [],
   "source": []
  }
 ],
 "metadata": {
  "kernelspec": {
   "display_name": "Python 3 (ipykernel)",
   "language": "python",
   "name": "python3"
  },
  "language_info": {
   "codemirror_mode": {
    "name": "ipython",
    "version": 3
   },
   "file_extension": ".py",
   "mimetype": "text/x-python",
   "name": "python",
   "nbconvert_exporter": "python",
   "pygments_lexer": "ipython3",
   "version": "3.9.12"
  }
 },
 "nbformat": 4,
 "nbformat_minor": 5
}
