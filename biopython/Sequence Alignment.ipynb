{
 "cells": [
  {
   "cell_type": "markdown",
   "id": "f9c0fd4e",
   "metadata": {},
   "source": [
    "# Sequence Alignment"
   ]
  },
  {
   "cell_type": "markdown",
   "id": "4b5542cf",
   "metadata": {},
   "source": [
    "+ Sequence alignment is a method of arranging sequences of DNA, RNA, or Amino Acids or proteins to identify regions of similarity.\n",
    "+ This similarity being identified, may be a result of functional, structural, or evolutionary relationships between the sequences.\n",
    "+ It is useful in identifying similarity and homology\n",
    "+ Homology: descent from a common ancestor or source."
   ]
  },
  {
   "cell_type": "markdown",
   "id": "e0d328e5",
   "metadata": {},
   "source": [
    "### Terms"
   ]
  },
  {
   "cell_type": "markdown",
   "id": "a0d15b94",
   "metadata": {},
   "source": [
    "+ Matches\n",
    "+ Mismatches\n",
    "+ Gap"
   ]
  },
  {
   "cell_type": "markdown",
   "id": "d7ac665b",
   "metadata": {},
   "source": [
    "<img src=\"aligngap.png\">"
   ]
  },
  {
   "cell_type": "markdown",
   "id": "309edf68",
   "metadata": {},
   "source": [
    "### Alignment Types"
   ]
  },
  {
   "cell_type": "markdown",
   "id": "2d9ae2a3",
   "metadata": {},
   "source": [
    "+ Global alignment: finds the best concordance/agreement between all characters in two sequences \n",
    " + Mostly from end to end\n",
    " + By Needle\n",
    "+ Local Alignment: finds just the subsequences that align the best\n",
    " + In this method, we consider subsequences within each of the 2 sequences and try to match them to obtain the best alignment\n",
    " + By Water"
   ]
  },
  {
   "cell_type": "markdown",
   "id": "37d94541",
   "metadata": {},
   "source": [
    "<img src=\"Global_vs_Local_alignment.png\">"
   ]
  },
  {
   "cell_type": "markdown",
   "id": "1578dbfb",
   "metadata": {},
   "source": [
    "### When to use Local Alignment"
   ]
  },
  {
   "cell_type": "markdown",
   "id": "d2b5c0df",
   "metadata": {},
   "source": [
    "+ 2 sequences have a small matched region\n",
    "+ 2 sequences are of different lengths\n",
    "+ Overlapping sequences\n",
    "+ One sequences is a subsequences of the other\n",
    "+ Blast \n",
    "+ Emboss"
   ]
  },
  {
   "cell_type": "code",
   "execution_count": 1,
   "id": "a032d8be",
   "metadata": {},
   "outputs": [],
   "source": [
    "from Bio.Seq import Seq\n",
    "from Bio import pairwise2\n",
    "from Bio.pairwise2 import format_alignment"
   ]
  },
  {
   "cell_type": "code",
   "execution_count": 2,
   "id": "5a4c7e75",
   "metadata": {},
   "outputs": [],
   "source": [
    "seq1 = Seq(\"ACTCGT\")\n",
    "seq2 = Seq(\"ATTCG\")"
   ]
  },
  {
   "cell_type": "markdown",
   "id": "1f0c5365",
   "metadata": {},
   "source": [
    "#### Global Alignment"
   ]
  },
  {
   "cell_type": "code",
   "execution_count": 3,
   "id": "d62cd958",
   "metadata": {},
   "outputs": [],
   "source": [
    "alignments = pairwise2.align.globalxx(seq1,seq2)"
   ]
  },
  {
   "cell_type": "code",
   "execution_count": 4,
   "id": "59ca7535",
   "metadata": {},
   "outputs": [
    {
     "data": {
      "text/plain": [
       "[Alignment(seqA='ACT-CGT', seqB='A-TTCG-', score=4.0, start=0, end=7),\n",
       " Alignment(seqA='AC-TCGT', seqB='A-TTCG-', score=4.0, start=0, end=7),\n",
       " Alignment(seqA='ACTCGT', seqB='ATTCG-', score=4.0, start=0, end=6)]"
      ]
     },
     "execution_count": 4,
     "metadata": {},
     "output_type": "execute_result"
    }
   ],
   "source": [
    "alignments"
   ]
  },
  {
   "cell_type": "code",
   "execution_count": 7,
   "id": "20d09659",
   "metadata": {},
   "outputs": [
    {
     "name": "stdout",
     "output_type": "stream",
     "text": [
      "ACT-CGT\n",
      "| | || \n",
      "A-TTCG-\n",
      "  Score=4\n",
      "\n"
     ]
    }
   ],
   "source": [
    "# To better display\n",
    "print(format_alignment(*alignments[0]))"
   ]
  },
  {
   "cell_type": "code",
   "execution_count": 8,
   "id": "c114e1d5",
   "metadata": {},
   "outputs": [
    {
     "name": "stdout",
     "output_type": "stream",
     "text": [
      "ACT-CGT\n",
      "| | || \n",
      "A-TTCG-\n",
      "  Score=4\n",
      "\n",
      "AC-TCGT\n",
      "|  ||| \n",
      "A-TTCG-\n",
      "  Score=4\n",
      "\n",
      "ACTCGT\n",
      "|.||| \n",
      "ATTCG-\n",
      "  Score=4\n",
      "\n"
     ]
    }
   ],
   "source": [
    "for global_alignment in alignments:\n",
    "    print(format_alignment(*global_alignment))"
   ]
  },
  {
   "cell_type": "markdown",
   "id": "0fa96299",
   "metadata": {},
   "source": [
    "#### Local Alignment"
   ]
  },
  {
   "cell_type": "code",
   "execution_count": 9,
   "id": "3dfc0aba",
   "metadata": {},
   "outputs": [],
   "source": [
    "local_alignment = pairwise2.align.localxx(seq1,seq2)"
   ]
  },
  {
   "cell_type": "code",
   "execution_count": 10,
   "id": "fded1840",
   "metadata": {},
   "outputs": [
    {
     "name": "stdout",
     "output_type": "stream",
     "text": [
      "1 ACT-CG\n",
      "  | | ||\n",
      "1 A-TTCG\n",
      "  Score=4\n",
      "\n",
      "1 AC-TCG\n",
      "  |  |||\n",
      "1 A-TTCG\n",
      "  Score=4\n",
      "\n",
      "1 ACTCG\n",
      "  |.|||\n",
      "1 ATTCG\n",
      "  Score=4\n",
      "\n"
     ]
    }
   ],
   "source": [
    "for local_align in local_alignment:\n",
    "    print(format_alignment(*local_align))"
   ]
  },
  {
   "cell_type": "markdown",
   "id": "a4306b67",
   "metadata": {},
   "source": [
    "### Check for similarity or percentage of similarity using Alignment"
   ]
  },
  {
   "cell_type": "markdown",
   "id": "a67226b8",
   "metadata": {},
   "source": [
    "+ fraction of nucleotides that is the same/total number of nucleotides * 100%"
   ]
  },
  {
   "cell_type": "code",
   "execution_count": 20,
   "id": "d2946e73",
   "metadata": {},
   "outputs": [
    {
     "data": {
      "text/plain": [
       "Seq('ACTCGT')"
      ]
     },
     "execution_count": 20,
     "metadata": {},
     "output_type": "execute_result"
    }
   ],
   "source": [
    "seq1"
   ]
  },
  {
   "cell_type": "code",
   "execution_count": 21,
   "id": "613af94d",
   "metadata": {},
   "outputs": [
    {
     "data": {
      "text/plain": [
       "Seq('ATTCG')"
      ]
     },
     "execution_count": 21,
     "metadata": {},
     "output_type": "execute_result"
    }
   ],
   "source": [
    "seq2"
   ]
  },
  {
   "cell_type": "code",
   "execution_count": 23,
   "id": "b862b895",
   "metadata": {},
   "outputs": [
    {
     "data": {
      "text/plain": [
       "66.66666666666666"
      ]
     },
     "execution_count": 23,
     "metadata": {},
     "output_type": "execute_result"
    }
   ],
   "source": [
    "local_alignment[0][2] / len(seq1) * 100"
   ]
  },
  {
   "cell_type": "markdown",
   "id": "899abe0e",
   "metadata": {},
   "source": [
    "### Find out all the possible global alignment with the maximum similarity score"
   ]
  },
  {
   "cell_type": "markdown",
   "id": "11c74f54",
   "metadata": {},
   "source": [
    "+ Matching characters: 2 points\n",
    "+ Each mismatch character: -1 point\n",
    "+ 0.5 points are deducted when opening a gap\n",
    "+ 0.1 points are deducted when extending it."
   ]
  },
  {
   "cell_type": "code",
   "execution_count": 25,
   "id": "1ef752b6",
   "metadata": {},
   "outputs": [],
   "source": [
    "# Global Alignment with max similarity\n",
    "glb_alignment = pairwise2.align.globalms(seq1,seq2,2,-1,-0.5,-0.1)"
   ]
  },
  {
   "cell_type": "code",
   "execution_count": 26,
   "id": "41a95d19",
   "metadata": {},
   "outputs": [
    {
     "name": "stdout",
     "output_type": "stream",
     "text": [
      "ACT-CGT\n",
      "| | || \n",
      "A-TTCG-\n",
      "  Score=6.5\n",
      "\n",
      "AC-TCGT\n",
      "|  ||| \n",
      "A-TTCG-\n",
      "  Score=6.5\n",
      "\n",
      "ACTCGT\n",
      "|.||| \n",
      "ATTCG-\n",
      "  Score=6.5\n",
      "\n"
     ]
    }
   ],
   "source": [
    "for align in glb_alignment:\n",
    "    print(format_alignment(*align))"
   ]
  },
  {
   "cell_type": "markdown",
   "id": "caaa2b41",
   "metadata": {},
   "source": [
    "# Well Done!"
   ]
  }
 ],
 "metadata": {
  "kernelspec": {
   "display_name": "Python 3 (ipykernel)",
   "language": "python",
   "name": "python3"
  },
  "language_info": {
   "codemirror_mode": {
    "name": "ipython",
    "version": 3
   },
   "file_extension": ".py",
   "mimetype": "text/x-python",
   "name": "python",
   "nbconvert_exporter": "python",
   "pygments_lexer": "ipython3",
   "version": "3.9.12"
  }
 },
 "nbformat": 4,
 "nbformat_minor": 5
}
