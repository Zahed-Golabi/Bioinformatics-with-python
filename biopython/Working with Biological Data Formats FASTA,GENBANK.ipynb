{
 "cells": [
  {
   "cell_type": "markdown",
   "id": "ce949e69",
   "metadata": {},
   "source": [
    "# Working with Biological Data Formats FASTA,GENBANK"
   ]
  },
  {
   "cell_type": "markdown",
   "id": "2f57f19a",
   "metadata": {},
   "source": [
    "+ FASTA\n",
    "+ GenBank\n",
    "+ PDB\n",
    "+ etc\n",
    "+ [NCBI](https://www.ncbi.nlm.nih.gov/nuccore/MN908947)"
   ]
  },
  {
   "cell_type": "code",
   "execution_count": 2,
   "id": "cb69b049",
   "metadata": {},
   "outputs": [],
   "source": [
    "# reading FASTA format\n",
    "from Bio import SeqIO"
   ]
  },
  {
   "cell_type": "code",
   "execution_count": 11,
   "id": "d1ed5930",
   "metadata": {},
   "outputs": [
    {
     "name": "stdout",
     "output_type": "stream",
     "text": [
      "ID:  MN908947.3\n",
      "Description:  MN908947.3 Severe acute respiratory syndrome coronavirus 2 isolate Wuhan-Hu-1, complete genome\n",
      "\n",
      "ID: MN908947.3\n",
      "Name: MN908947.3\n",
      "Description: MN908947.3 Severe acute respiratory syndrome coronavirus 2 isolate Wuhan-Hu-1, complete genome\n",
      "Number of features: 0\n",
      "Seq('ATTAAAGGTTTATACCTTCCCAGGTAACAAACCAACCAACTTTCGATCTCTTGT...AAA')\n"
     ]
    }
   ],
   "source": [
    "# Load a FASTA\n",
    "for record in SeqIO.parse(\"sequence.fasta\", \"fasta\"):\n",
    "    print(\"ID: \", record.id)\n",
    "    print(\"Description: \", record.description)\n",
    "    print()\n",
    "    \n",
    "    \n",
    "# print all columns of record\n",
    "for record in SeqIO.parse(\"sequence.fasta\", \"fasta\"):\n",
    "    print(record)"
   ]
  },
  {
   "cell_type": "code",
   "execution_count": null,
   "id": "aa32d5f0",
   "metadata": {},
   "outputs": [],
   "source": []
  }
 ],
 "metadata": {
  "kernelspec": {
   "display_name": "Python 3 (ipykernel)",
   "language": "python",
   "name": "python3"
  },
  "language_info": {
   "codemirror_mode": {
    "name": "ipython",
    "version": 3
   },
   "file_extension": ".py",
   "mimetype": "text/x-python",
   "name": "python",
   "nbconvert_exporter": "python",
   "pygments_lexer": "ipython3",
   "version": "3.9.12"
  }
 },
 "nbformat": 4,
 "nbformat_minor": 5
}
