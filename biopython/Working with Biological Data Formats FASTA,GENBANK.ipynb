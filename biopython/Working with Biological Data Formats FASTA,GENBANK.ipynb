{
 "cells": [
  {
   "cell_type": "markdown",
   "id": "e360da18",
   "metadata": {},
   "source": [
    "# Working with Biological Data Formats FASTA,GENBANK"
   ]
  },
  {
   "cell_type": "markdown",
   "id": "3ac29187",
   "metadata": {},
   "source": [
    "+ FASTA\n",
    "+ GenBank\n",
    "+ PDB\n",
    "+ etc\n",
    "+ [NCBI](https://www.ncbi.nlm.nih.gov/nuccore/MN908947)"
   ]
  },
  {
   "cell_type": "markdown",
   "id": "768c9d7c",
   "metadata": {},
   "source": [
    "### Reading FASTA Format"
   ]
  },
  {
   "cell_type": "code",
   "execution_count": 2,
   "id": "c3224098",
   "metadata": {},
   "outputs": [],
   "source": [
    "# reading FASTA format\n",
    "from Bio import SeqIO"
   ]
  },
  {
   "cell_type": "code",
   "execution_count": 11,
   "id": "5177e123",
   "metadata": {},
   "outputs": [
    {
     "name": "stdout",
     "output_type": "stream",
     "text": [
      "ID:  MN908947.3\n",
      "Description:  MN908947.3 Severe acute respiratory syndrome coronavirus 2 isolate Wuhan-Hu-1, complete genome\n",
      "\n",
      "ID: MN908947.3\n",
      "Name: MN908947.3\n",
      "Description: MN908947.3 Severe acute respiratory syndrome coronavirus 2 isolate Wuhan-Hu-1, complete genome\n",
      "Number of features: 0\n",
      "Seq('ATTAAAGGTTTATACCTTCCCAGGTAACAAACCAACCAACTTTCGATCTCTTGT...AAA')\n"
     ]
    }
   ],
   "source": [
    "# Load a FASTA\n",
    "for record in SeqIO.parse(\"sequence.fasta\", \"fasta\"):\n",
    "    print(\"ID: \", record.id)\n",
    "    print(\"Description: \", record.description)\n",
    "    print()\n",
    "    \n",
    "    \n",
    "# print all columns of record\n",
    "for record in SeqIO.parse(\"sequence.fasta\", \"fasta\"):\n",
    "    print(record)"
   ]
  },
  {
   "cell_type": "code",
   "execution_count": 22,
   "id": "4d9c1351",
   "metadata": {},
   "outputs": [],
   "source": [
    "# Reading the sequence in FASTA\n",
    "fasta_dna_record = SeqIO.read(\"sequence.fasta\", \"fasta\")"
   ]
  },
  {
   "cell_type": "code",
   "execution_count": 23,
   "id": "73e0738d",
   "metadata": {},
   "outputs": [],
   "source": [
    "fasta_dna_seq = fasta_dna_record.seq"
   ]
  },
  {
   "cell_type": "code",
   "execution_count": 24,
   "id": "429eb18d",
   "metadata": {},
   "outputs": [
    {
     "data": {
      "text/plain": [
       "29903"
      ]
     },
     "execution_count": 24,
     "metadata": {},
     "output_type": "execute_result"
    }
   ],
   "source": [
    "len(fasta_dna_seq)"
   ]
  },
  {
   "cell_type": "markdown",
   "id": "84f0608f",
   "metadata": {},
   "source": [
    "### Reading GENBANK Format"
   ]
  },
  {
   "cell_type": "code",
   "execution_count": 20,
   "id": "49aa1316",
   "metadata": {},
   "outputs": [
    {
     "name": "stdout",
     "output_type": "stream",
     "text": [
      "ID: MN908947.3\n",
      "Name: MN908947\n",
      "Description: Severe acute respiratory syndrome coronavirus 2 isolate Wuhan-Hu-1, complete genome\n",
      "Number of features: 23\n",
      "/molecule_type=ss-RNA\n",
      "/topology=linear\n",
      "/data_file_division=VRL\n",
      "/date=18-MAR-2020\n",
      "/accessions=['MN908947']\n",
      "/sequence_version=3\n",
      "/keywords=['']\n",
      "/source=Severe acute respiratory syndrome coronavirus 2 (SARS-CoV-2)\n",
      "/organism=Severe acute respiratory syndrome coronavirus 2\n",
      "/taxonomy=['Viruses', 'Riboviria', 'Orthornavirae', 'Pisuviricota', 'Pisoniviricetes', 'Nidovirales', 'Cornidovirineae', 'Coronaviridae', 'Orthocoronavirinae', 'Betacoronavirus', 'Sarbecovirus']\n",
      "/references=[Reference(title='A new coronavirus associated with human respiratory disease in China', ...), Reference(title='Direct Submission', ...)]\n",
      "/comment=On Jan 17, 2020 this sequence version replaced MN908947.2.\n",
      "/structured_comment=defaultdict(<class 'dict'>, {'Assembly-Data': {'Assembly Method': 'Megahit v. V1.1.3', 'Sequencing Technology': 'Illumina'}})\n",
      "Seq('ATTAAAGGTTTATACCTTCCCAGGTAACAAACCAACCAACTTTCGATCTCTTGT...AAA')\n"
     ]
    }
   ],
   "source": [
    "# Reading A GenBank File\n",
    "for record in SeqIO.parse(\"sequence.gb\", \"genbank\"):\n",
    "    print(record)"
   ]
  },
  {
   "cell_type": "code",
   "execution_count": 25,
   "id": "847a3a3e",
   "metadata": {},
   "outputs": [],
   "source": [
    "genbank_dna_record = SeqIO.read(\"sequence.gb\",\"genbank\")"
   ]
  },
  {
   "cell_type": "markdown",
   "id": "fa323b4e",
   "metadata": {},
   "source": [
    "# Well Done!"
   ]
  }
 ],
 "metadata": {
  "kernelspec": {
   "display_name": "Python 3 (ipykernel)",
   "language": "python",
   "name": "python3"
  },
  "language_info": {
   "codemirror_mode": {
    "name": "ipython",
    "version": 3
   },
   "file_extension": ".py",
   "mimetype": "text/x-python",
   "name": "python",
   "nbconvert_exporter": "python",
   "pygments_lexer": "ipython3",
   "version": "3.9.12"
  }
 },
 "nbformat": 4,
 "nbformat_minor": 5
}
