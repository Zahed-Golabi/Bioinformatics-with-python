{
 "cells": [
  {
   "cell_type": "markdown",
   "id": "ca3db60a",
   "metadata": {},
   "source": [
    "# Hamming Distance"
   ]
  },
  {
   "cell_type": "markdown",
   "id": "9dbd772b",
   "metadata": {},
   "source": [
    "#### How many places two strings differ"
   ]
  },
  {
   "cell_type": "markdown",
   "id": "f9705a05",
   "metadata": {},
   "source": [
    "+ Hamming distance between two strings of equal length is the number of positions at which the corresponding symbols are different\n",
    "+ In other words, it measures the minimum number of substitutions required to change one string into the other, or the minimum number of errors that could have transformed one string into the other\n",
    "+ It is used for error detection or error correction\n",
    "+ It is used to quantify the similarity of DNA sequences\n",
    "+ for checking the edit distance\n",
    " + edit distance is a way of quantifying how dissimilar two strings are to one another by counting the minimum number of operations required to transform one string into the other\n",
    " + Levenshtein distance"
   ]
  },
  {
   "cell_type": "markdown",
   "id": "a1b8358e",
   "metadata": {},
   "source": [
    "#### Levenshtein distance"
   ]
  },
  {
   "cell_type": "markdown",
   "id": "07ee14e4",
   "metadata": {},
   "source": [
    "+ This method was invented in 1965 by the Russian Mathematician Vladimir Levenshtein (1935-2017)\n",
    "+ The distance value describes the minimal number of deletions, insertions, or substitutions that are required to transform one string (the source) into another (the target)\n",
    "+ Unlike the Hamming distance, the Levenshtein distance works on strings with an unequal length"
   ]
  },
  {
   "cell_type": "code",
   "execution_count": 1,
   "id": "f07cb247",
   "metadata": {},
   "outputs": [],
   "source": [
    "# pip install python-Levenshtein\n",
    "# !pip install python-Levenshtein"
   ]
  },
  {
   "cell_type": "code",
   "execution_count": 2,
   "id": "f78a68ae",
   "metadata": {},
   "outputs": [],
   "source": [
    "from Bio.Seq import Seq"
   ]
  },
  {
   "cell_type": "markdown",
   "id": "bcacca8c",
   "metadata": {},
   "source": [
    "### Hamming Distance"
   ]
  },
  {
   "cell_type": "code",
   "execution_count": 3,
   "id": "ab7472e5",
   "metadata": {},
   "outputs": [],
   "source": [
    "# Hamming Distance\n",
    "def hamming_distance(lhs, rhs):\n",
    "    return len([(x,y) for x,y in zip(lhs,rhs) if x!=y])"
   ]
  },
  {
   "cell_type": "code",
   "execution_count": 4,
   "id": "a21b713d",
   "metadata": {},
   "outputs": [],
   "source": [
    "seq1 = Seq(\"ACTAT\")\n",
    "seq2 = Seq(\"ACTTA\")\n",
    "seq3 = Seq(\"ACTT\")"
   ]
  },
  {
   "cell_type": "code",
   "execution_count": 5,
   "id": "3d4d807d",
   "metadata": {},
   "outputs": [
    {
     "data": {
      "text/plain": [
       "2"
      ]
     },
     "execution_count": 5,
     "metadata": {},
     "output_type": "execute_result"
    }
   ],
   "source": [
    "hamming_distance(seq1,seq2)"
   ]
  },
  {
   "cell_type": "code",
   "execution_count": 6,
   "id": "6e53f8cf",
   "metadata": {},
   "outputs": [
    {
     "data": {
      "text/plain": [
       "0"
      ]
     },
     "execution_count": 6,
     "metadata": {},
     "output_type": "execute_result"
    }
   ],
   "source": [
    "# if we calculate the hamming distance between two equal sequences it should return back us 0\n",
    "hamming_distance(seq1,seq1)"
   ]
  },
  {
   "cell_type": "code",
   "execution_count": 7,
   "id": "23405690",
   "metadata": {},
   "outputs": [
    {
     "data": {
      "text/plain": [
       "1"
      ]
     },
     "execution_count": 7,
     "metadata": {},
     "output_type": "execute_result"
    }
   ],
   "source": [
    "hamming_distance(seq1,seq3)"
   ]
  },
  {
   "cell_type": "markdown",
   "id": "9e9d4f2d",
   "metadata": {},
   "source": [
    "### Levenshtein Distance"
   ]
  },
  {
   "cell_type": "code",
   "execution_count": 8,
   "id": "6bf65929",
   "metadata": {},
   "outputs": [],
   "source": [
    "from Levenshtein import distance"
   ]
  },
  {
   "cell_type": "code",
   "execution_count": 10,
   "id": "e0c387c2",
   "metadata": {},
   "outputs": [
    {
     "data": {
      "text/plain": [
       "2"
      ]
     },
     "execution_count": 10,
     "metadata": {},
     "output_type": "execute_result"
    }
   ],
   "source": [
    "distance(str(seq1),str(seq2))"
   ]
  },
  {
   "cell_type": "code",
   "execution_count": 11,
   "id": "f609b70d",
   "metadata": {},
   "outputs": [
    {
     "name": "stdout",
     "output_type": "stream",
     "text": [
      "Hamming Distance:  2\n",
      "Levenshtein Distance:  2\n"
     ]
    }
   ],
   "source": [
    "print(\"Hamming Distance: \", hamming_distance(seq1,seq2))\n",
    "print(\"Levenshtein Distance: \", distance(str(seq1), str(seq2)))"
   ]
  },
  {
   "cell_type": "markdown",
   "id": "359f3d98",
   "metadata": {},
   "source": [
    "# Well Done!"
   ]
  }
 ],
 "metadata": {
  "kernelspec": {
   "display_name": "Python 3 (ipykernel)",
   "language": "python",
   "name": "python3"
  },
  "language_info": {
   "codemirror_mode": {
    "name": "ipython",
    "version": 3
   },
   "file_extension": ".py",
   "mimetype": "text/x-python",
   "name": "python",
   "nbconvert_exporter": "python",
   "pygments_lexer": "ipython3",
   "version": "3.9.12"
  }
 },
 "nbformat": 4,
 "nbformat_minor": 5
}
