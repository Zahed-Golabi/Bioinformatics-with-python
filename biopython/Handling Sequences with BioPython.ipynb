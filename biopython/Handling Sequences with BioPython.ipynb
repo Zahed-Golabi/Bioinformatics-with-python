{
 "cells": [
  {
   "cell_type": "markdown",
   "id": "ec5f5d77",
   "metadata": {},
   "source": [
    "# Handling Sequences with BioPython"
   ]
  },
  {
   "cell_type": "code",
   "execution_count": null,
   "id": "a1a22e9d",
   "metadata": {
    "scrolled": false
   },
   "outputs": [],
   "source": [
    "# !pip install biopython"
   ]
  },
  {
   "cell_type": "code",
   "execution_count": 1,
   "id": "794f13db",
   "metadata": {},
   "outputs": [],
   "source": [
    "import Bio"
   ]
  },
  {
   "cell_type": "code",
   "execution_count": 2,
   "id": "594cadce",
   "metadata": {},
   "outputs": [
    {
     "data": {
      "text/plain": [
       "'1.81'"
      ]
     },
     "execution_count": 2,
     "metadata": {},
     "output_type": "execute_result"
    }
   ],
   "source": [
    "# Methods and Attributes \n",
    "Bio.__version__"
   ]
  },
  {
   "cell_type": "markdown",
   "id": "a94c6f78",
   "metadata": {},
   "source": [
    "### Sequences Analysis"
   ]
  },
  {
   "cell_type": "markdown",
   "id": "80c0c392",
   "metadata": {},
   "source": [
    "- DNA and RNA Sequences\n",
    "  - A Adenine\n",
    "  - C Cytosine\n",
    "  - G Guanine\n",
    "  - T Thymine\n",
    "  - U Uracil * RNA"
   ]
  },
  {
   "cell_type": "markdown",
   "id": "205ff1ce",
   "metadata": {},
   "source": [
    "- DNA Structure"
   ]
  },
  {
   "cell_type": "markdown",
   "id": "406726ee",
   "metadata": {},
   "source": [
    "<img src=\"dnastructure.png\" height=\"100px\">"
   ]
  },
  {
   "cell_type": "markdown",
   "id": "6e5ad618",
   "metadata": {},
   "source": [
    "#### Working with Sequences"
   ]
  },
  {
   "cell_type": "code",
   "execution_count": 3,
   "id": "eb3452e8",
   "metadata": {},
   "outputs": [],
   "source": [
    "from Bio.Seq import Seq"
   ]
  },
  {
   "cell_type": "code",
   "execution_count": 4,
   "id": "b80bbc7f",
   "metadata": {
    "scrolled": true
   },
   "outputs": [
    {
     "data": {
      "text/plain": [
       "['__abstractmethods__',\n",
       " '__add__',\n",
       " '__array_ufunc__',\n",
       " '__bytes__',\n",
       " '__class__',\n",
       " '__contains__',\n",
       " '__delattr__',\n",
       " '__dict__',\n",
       " '__dir__',\n",
       " '__doc__',\n",
       " '__eq__',\n",
       " '__format__',\n",
       " '__ge__',\n",
       " '__getattribute__',\n",
       " '__getitem__',\n",
       " '__gt__',\n",
       " '__hash__',\n",
       " '__imul__',\n",
       " '__init__',\n",
       " '__init_subclass__',\n",
       " '__iter__',\n",
       " '__le__',\n",
       " '__len__',\n",
       " '__lt__',\n",
       " '__module__',\n",
       " '__mul__',\n",
       " '__ne__',\n",
       " '__new__',\n",
       " '__radd__',\n",
       " '__reduce__',\n",
       " '__reduce_ex__',\n",
       " '__repr__',\n",
       " '__rmul__',\n",
       " '__setattr__',\n",
       " '__sizeof__',\n",
       " '__slots__',\n",
       " '__str__',\n",
       " '__subclasshook__',\n",
       " '__weakref__',\n",
       " '_abc_impl',\n",
       " '_data',\n",
       " 'back_transcribe',\n",
       " 'complement',\n",
       " 'complement_rna',\n",
       " 'count',\n",
       " 'count_overlap',\n",
       " 'defined',\n",
       " 'defined_ranges',\n",
       " 'endswith',\n",
       " 'find',\n",
       " 'index',\n",
       " 'islower',\n",
       " 'isupper',\n",
       " 'join',\n",
       " 'lower',\n",
       " 'lstrip',\n",
       " 'replace',\n",
       " 'reverse_complement',\n",
       " 'reverse_complement_rna',\n",
       " 'rfind',\n",
       " 'rindex',\n",
       " 'rsplit',\n",
       " 'rstrip',\n",
       " 'split',\n",
       " 'startswith',\n",
       " 'strip',\n",
       " 'transcribe',\n",
       " 'translate',\n",
       " 'ungap',\n",
       " 'upper']"
      ]
     },
     "execution_count": 4,
     "metadata": {},
     "output_type": "execute_result"
    }
   ],
   "source": [
    "# Methods of Seq\n",
    "dir(Seq)"
   ]
  },
  {
   "cell_type": "code",
   "execution_count": 5,
   "id": "781904f0",
   "metadata": {},
   "outputs": [],
   "source": [
    "# Create a Simple sequence\n",
    "seq1 = Seq(\"ATGATCTGGTAA\")"
   ]
  },
  {
   "cell_type": "code",
   "execution_count": 6,
   "id": "00af5e53",
   "metadata": {},
   "outputs": [
    {
     "data": {
      "text/plain": [
       "Seq('ATGATCTGGTAA')"
      ]
     },
     "execution_count": 6,
     "metadata": {},
     "output_type": "execute_result"
    }
   ],
   "source": [
    "seq1"
   ]
  },
  {
   "cell_type": "markdown",
   "id": "aed592c4",
   "metadata": {},
   "source": [
    "Alphabet Types\n",
    "- generic_dna,rna\n",
    "- generic_protein\n",
    "- IUPACUnambiguousDNA, which provides for just the basic letters\n",
    "- IUPACAmbiguousDNA, which provides for ambiguity letters for every possible situation"
   ]
  },
  {
   "cell_type": "markdown",
   "id": "acf7d67d",
   "metadata": {},
   "source": [
    "Usefulness of Specifying the Type of Sequence or Alphabet\n",
    "- Help us to have an idea of the type of information the Seq object contains\n",
    "- Act as a means of constraining the information\n",
    "- As a means of type checking"
   ]
  },
  {
   "cell_type": "code",
   "execution_count": 24,
   "id": "d2275b38",
   "metadata": {},
   "outputs": [],
   "source": [
    "# Creating a DNA\n",
    "dna = Seq(\"ATGATCTCGTAA\")"
   ]
  },
  {
   "cell_type": "code",
   "execution_count": 18,
   "id": "c39c15dc",
   "metadata": {},
   "outputs": [
    {
     "data": {
      "text/plain": [
       "Seq('ATGATCTCGTAA')"
      ]
     },
     "execution_count": 18,
     "metadata": {},
     "output_type": "execute_result"
    }
   ],
   "source": [
    "dna"
   ]
  },
  {
   "cell_type": "code",
   "execution_count": 23,
   "id": "446cf753",
   "metadata": {},
   "outputs": [],
   "source": [
    "# Creating a RNA\n",
    "rna = Seq(\"AUGUUCUCGUAA\")"
   ]
  },
  {
   "cell_type": "code",
   "execution_count": 22,
   "id": "63d1a576",
   "metadata": {},
   "outputs": [
    {
     "data": {
      "text/plain": [
       "Seq('AUGUUCUCGUAA')"
      ]
     },
     "execution_count": 22,
     "metadata": {},
     "output_type": "execute_result"
    }
   ],
   "source": [
    "rna"
   ]
  },
  {
   "cell_type": "code",
   "execution_count": 27,
   "id": "705eb978",
   "metadata": {},
   "outputs": [],
   "source": [
    "# Creating a Protein\n",
    "protein_a = Seq(\"MIT\")"
   ]
  },
  {
   "cell_type": "code",
   "execution_count": 28,
   "id": "541081bc",
   "metadata": {},
   "outputs": [
    {
     "data": {
      "text/plain": [
       "Seq('MIT')"
      ]
     },
     "execution_count": 28,
     "metadata": {},
     "output_type": "execute_result"
    }
   ],
   "source": [
    "protein_a"
   ]
  },
  {
   "cell_type": "markdown",
   "id": "fa500832",
   "metadata": {},
   "source": [
    "#### Sequence Manipulation"
   ]
  },
  {
   "cell_type": "code",
   "execution_count": null,
   "id": "2edbc086",
   "metadata": {},
   "outputs": [],
   "source": []
  }
 ],
 "metadata": {
  "kernelspec": {
   "display_name": "Python 3 (ipykernel)",
   "language": "python",
   "name": "python3"
  },
  "language_info": {
   "codemirror_mode": {
    "name": "ipython",
    "version": 3
   },
   "file_extension": ".py",
   "mimetype": "text/x-python",
   "name": "python",
   "nbconvert_exporter": "python",
   "pygments_lexer": "ipython3",
   "version": "3.9.12"
  }
 },
 "nbformat": 4,
 "nbformat_minor": 5
}
