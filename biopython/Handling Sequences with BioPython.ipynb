{
 "cells": [
  {
   "cell_type": "markdown",
   "id": "2adb1793",
   "metadata": {},
   "source": [
    "# Handling Sequences with BioPython"
   ]
  },
  {
   "cell_type": "code",
   "execution_count": null,
   "id": "91ea36d2",
   "metadata": {
    "scrolled": false
   },
   "outputs": [],
   "source": [
    "# !pip install biopython"
   ]
  },
  {
   "cell_type": "code",
   "execution_count": 1,
   "id": "b4d28390",
   "metadata": {},
   "outputs": [],
   "source": [
    "import Bio"
   ]
  },
  {
   "cell_type": "code",
   "execution_count": 2,
   "id": "60b97178",
   "metadata": {},
   "outputs": [
    {
     "data": {
      "text/plain": [
       "'1.81'"
      ]
     },
     "execution_count": 2,
     "metadata": {},
     "output_type": "execute_result"
    }
   ],
   "source": [
    "# Methods and Attributes \n",
    "Bio.__version__"
   ]
  },
  {
   "cell_type": "markdown",
   "id": "f7084ee1",
   "metadata": {},
   "source": [
    "### Sequences Analysis"
   ]
  },
  {
   "cell_type": "markdown",
   "id": "a0897366",
   "metadata": {},
   "source": [
    "- DNA and RNA Sequences\n",
    "  - A Adenine\n",
    "  - C Cytosine\n",
    "  - G Guanine\n",
    "  - T Thymine\n",
    "  - U Uracil * RNA"
   ]
  },
  {
   "cell_type": "markdown",
   "id": "2dc5ed28",
   "metadata": {},
   "source": [
    "- DNA Structure"
   ]
  },
  {
   "cell_type": "markdown",
   "id": "3c160b28",
   "metadata": {},
   "source": [
    "<img src=\"dnastructure.png\" height=\"100px\">"
   ]
  },
  {
   "cell_type": "markdown",
   "id": "1169f0c0",
   "metadata": {},
   "source": [
    "#### Working with Sequences"
   ]
  },
  {
   "cell_type": "code",
   "execution_count": 3,
   "id": "d819454c",
   "metadata": {},
   "outputs": [],
   "source": [
    "from Bio.Seq import Seq"
   ]
  },
  {
   "cell_type": "code",
   "execution_count": 4,
   "id": "f4c95b6b",
   "metadata": {
    "scrolled": true
   },
   "outputs": [
    {
     "data": {
      "text/plain": [
       "['__abstractmethods__',\n",
       " '__add__',\n",
       " '__array_ufunc__',\n",
       " '__bytes__',\n",
       " '__class__',\n",
       " '__contains__',\n",
       " '__delattr__',\n",
       " '__dict__',\n",
       " '__dir__',\n",
       " '__doc__',\n",
       " '__eq__',\n",
       " '__format__',\n",
       " '__ge__',\n",
       " '__getattribute__',\n",
       " '__getitem__',\n",
       " '__gt__',\n",
       " '__hash__',\n",
       " '__imul__',\n",
       " '__init__',\n",
       " '__init_subclass__',\n",
       " '__iter__',\n",
       " '__le__',\n",
       " '__len__',\n",
       " '__lt__',\n",
       " '__module__',\n",
       " '__mul__',\n",
       " '__ne__',\n",
       " '__new__',\n",
       " '__radd__',\n",
       " '__reduce__',\n",
       " '__reduce_ex__',\n",
       " '__repr__',\n",
       " '__rmul__',\n",
       " '__setattr__',\n",
       " '__sizeof__',\n",
       " '__slots__',\n",
       " '__str__',\n",
       " '__subclasshook__',\n",
       " '__weakref__',\n",
       " '_abc_impl',\n",
       " '_data',\n",
       " 'back_transcribe',\n",
       " 'complement',\n",
       " 'complement_rna',\n",
       " 'count',\n",
       " 'count_overlap',\n",
       " 'defined',\n",
       " 'defined_ranges',\n",
       " 'endswith',\n",
       " 'find',\n",
       " 'index',\n",
       " 'islower',\n",
       " 'isupper',\n",
       " 'join',\n",
       " 'lower',\n",
       " 'lstrip',\n",
       " 'replace',\n",
       " 'reverse_complement',\n",
       " 'reverse_complement_rna',\n",
       " 'rfind',\n",
       " 'rindex',\n",
       " 'rsplit',\n",
       " 'rstrip',\n",
       " 'split',\n",
       " 'startswith',\n",
       " 'strip',\n",
       " 'transcribe',\n",
       " 'translate',\n",
       " 'ungap',\n",
       " 'upper']"
      ]
     },
     "execution_count": 4,
     "metadata": {},
     "output_type": "execute_result"
    }
   ],
   "source": [
    "# Methods of Seq\n",
    "dir(Seq)"
   ]
  },
  {
   "cell_type": "code",
   "execution_count": 5,
   "id": "0a6f8070",
   "metadata": {},
   "outputs": [],
   "source": [
    "# Create a Simple sequence\n",
    "seq1 = Seq(\"ATGATCTGGTAA\")"
   ]
  },
  {
   "cell_type": "code",
   "execution_count": 6,
   "id": "53461705",
   "metadata": {},
   "outputs": [
    {
     "data": {
      "text/plain": [
       "Seq('ATGATCTGGTAA')"
      ]
     },
     "execution_count": 6,
     "metadata": {},
     "output_type": "execute_result"
    }
   ],
   "source": [
    "seq1"
   ]
  },
  {
   "cell_type": "markdown",
   "id": "89965401",
   "metadata": {},
   "source": [
    "Alphabet Types\n",
    "- generic_dna,rna\n",
    "- generic_protein\n",
    "- IUPACUnambiguousDNA, which provides for just the basic letters\n",
    "- IUPACAmbiguousDNA, which provides for ambiguity letters for every possible situation"
   ]
  },
  {
   "cell_type": "markdown",
   "id": "f6c20b3f",
   "metadata": {},
   "source": [
    "Usefulness of Specifying the Type of Sequence or Alphabet\n",
    "- Help us to have an idea of the type of information the Seq object contains\n",
    "- Act as a means of constraining the information\n",
    "- As a means of type checking"
   ]
  },
  {
   "cell_type": "code",
   "execution_count": 24,
   "id": "aa9c07c5",
   "metadata": {},
   "outputs": [],
   "source": [
    "# Creating a DNA\n",
    "dna = Seq(\"ATGATCTCGTAA\")"
   ]
  },
  {
   "cell_type": "code",
   "execution_count": 18,
   "id": "73c2c59e",
   "metadata": {},
   "outputs": [
    {
     "data": {
      "text/plain": [
       "Seq('ATGATCTCGTAA')"
      ]
     },
     "execution_count": 18,
     "metadata": {},
     "output_type": "execute_result"
    }
   ],
   "source": [
    "dna"
   ]
  },
  {
   "cell_type": "code",
   "execution_count": 23,
   "id": "8f007a0d",
   "metadata": {},
   "outputs": [],
   "source": [
    "# Creating a RNA\n",
    "rna = Seq(\"AUGUUCUCGUAA\")"
   ]
  },
  {
   "cell_type": "code",
   "execution_count": 22,
   "id": "f0e34468",
   "metadata": {},
   "outputs": [
    {
     "data": {
      "text/plain": [
       "Seq('AUGUUCUCGUAA')"
      ]
     },
     "execution_count": 22,
     "metadata": {},
     "output_type": "execute_result"
    }
   ],
   "source": [
    "rna"
   ]
  },
  {
   "cell_type": "code",
   "execution_count": 27,
   "id": "48e7fd9c",
   "metadata": {},
   "outputs": [],
   "source": [
    "# Creating a Protein\n",
    "protein_a = Seq(\"MIT\")"
   ]
  },
  {
   "cell_type": "code",
   "execution_count": 28,
   "id": "de9e26ae",
   "metadata": {},
   "outputs": [
    {
     "data": {
      "text/plain": [
       "Seq('MIT')"
      ]
     },
     "execution_count": 28,
     "metadata": {},
     "output_type": "execute_result"
    }
   ],
   "source": [
    "protein_a"
   ]
  },
  {
   "cell_type": "markdown",
   "id": "9d6765ed",
   "metadata": {},
   "source": [
    "#### Sequence Manipulation\n",
    "- Indexing/Slicing\n",
    "- Join 2 Sequences\n",
    "- Find a Codon in a sequence\n",
    "- Count the number of Nucleotides\n",
    "- Find the number of times a pattern repeat"
   ]
  },
  {
   "cell_type": "code",
   "execution_count": 29,
   "id": "6109d719",
   "metadata": {},
   "outputs": [
    {
     "data": {
      "text/plain": [
       "12"
      ]
     },
     "execution_count": 29,
     "metadata": {},
     "output_type": "execute_result"
    }
   ],
   "source": [
    "# Length of our seq\n",
    "len(dna)"
   ]
  },
  {
   "cell_type": "code",
   "execution_count": 30,
   "id": "885d9cc2",
   "metadata": {},
   "outputs": [
    {
     "data": {
      "text/plain": [
       "Seq('ATGATCTCGTAA')"
      ]
     },
     "execution_count": 30,
     "metadata": {},
     "output_type": "execute_result"
    }
   ],
   "source": [
    "dna"
   ]
  },
  {
   "cell_type": "code",
   "execution_count": 32,
   "id": "6d9bdda8",
   "metadata": {
    "scrolled": true
   },
   "outputs": [
    {
     "data": {
      "text/plain": [
       "Seq('ATCT')"
      ]
     },
     "execution_count": 32,
     "metadata": {},
     "output_type": "execute_result"
    }
   ],
   "source": [
    "# Slicing\n",
    "dna[3:7]"
   ]
  },
  {
   "cell_type": "code",
   "execution_count": 36,
   "id": "172f9c3a",
   "metadata": {},
   "outputs": [
    {
     "data": {
      "text/plain": [
       "Seq('AATGCTCTAGTA')"
      ]
     },
     "execution_count": 36,
     "metadata": {},
     "output_type": "execute_result"
    }
   ],
   "source": [
    "# Revers\n",
    "dna[::-1]"
   ]
  },
  {
   "cell_type": "code",
   "execution_count": 38,
   "id": "2c753ea0",
   "metadata": {
    "scrolled": true
   },
   "outputs": [
    {
     "data": {
      "text/plain": [
       "Seq('ATGATGATCTCGTAA')"
      ]
     },
     "execution_count": 38,
     "metadata": {},
     "output_type": "execute_result"
    }
   ],
   "source": [
    "# Join Seq\n",
    "dna[0:3] + dna"
   ]
  },
  {
   "cell_type": "code",
   "execution_count": 39,
   "id": "71f9a280",
   "metadata": {},
   "outputs": [
    {
     "data": {
      "text/plain": [
       "Seq('ATGATCTCGTAA')"
      ]
     },
     "execution_count": 39,
     "metadata": {},
     "output_type": "execute_result"
    }
   ],
   "source": [
    "dna"
   ]
  },
  {
   "cell_type": "code",
   "execution_count": 40,
   "id": "692f3001",
   "metadata": {},
   "outputs": [
    {
     "data": {
      "text/plain": [
       "2"
      ]
     },
     "execution_count": 40,
     "metadata": {},
     "output_type": "execute_result"
    }
   ],
   "source": [
    "# Find the number of Nucleotides/Base within our dna\n",
    "# Count\n",
    "dna.count(\"G\")"
   ]
  },
  {
   "cell_type": "code",
   "execution_count": 42,
   "id": "442934cd",
   "metadata": {},
   "outputs": [
    {
     "data": {
      "text/plain": [
       "1"
      ]
     },
     "execution_count": 42,
     "metadata": {},
     "output_type": "execute_result"
    }
   ],
   "source": [
    "# Count the number of codon (3B) within a seq\n",
    "dna.count(\"ATG\")"
   ]
  },
  {
   "cell_type": "code",
   "execution_count": 48,
   "id": "78599f71",
   "metadata": {},
   "outputs": [
    {
     "data": {
      "text/plain": [
       "2"
      ]
     },
     "execution_count": 48,
     "metadata": {},
     "output_type": "execute_result"
    }
   ],
   "source": [
    "# Find the position/location of a nucleotide from the left\n",
    "dna.find(\"G\")"
   ]
  },
  {
   "cell_type": "code",
   "execution_count": 50,
   "id": "fc3eb1fd",
   "metadata": {},
   "outputs": [
    {
     "data": {
      "text/plain": [
       "8"
      ]
     },
     "execution_count": 50,
     "metadata": {},
     "output_type": "execute_result"
    }
   ],
   "source": [
    "# Find the position/location of a nucleotide from the left\n",
    "dna.rfind(\"G\")"
   ]
  },
  {
   "cell_type": "code",
   "execution_count": 51,
   "id": "7e8665a8",
   "metadata": {},
   "outputs": [
    {
     "data": {
      "text/plain": [
       "2"
      ]
     },
     "execution_count": 51,
     "metadata": {},
     "output_type": "execute_result"
    }
   ],
   "source": [
    "# Find the location/index using index\n",
    "dna.index(\"G\")"
   ]
  },
  {
   "cell_type": "code",
   "execution_count": 52,
   "id": "0e09f04c",
   "metadata": {},
   "outputs": [
    {
     "data": {
      "text/plain": [
       "8"
      ]
     },
     "execution_count": 52,
     "metadata": {},
     "output_type": "execute_result"
    }
   ],
   "source": [
    "dna.rindex(\"G\")"
   ]
  },
  {
   "cell_type": "code",
   "execution_count": 54,
   "id": "4573f253",
   "metadata": {},
   "outputs": [],
   "source": [
    "#Plot of frequencies of Nucleotides/Base\n",
    "import matplotlib.pyplot as plt\n",
    "from collections import Counter"
   ]
  },
  {
   "cell_type": "code",
   "execution_count": 55,
   "id": "10f57935",
   "metadata": {},
   "outputs": [],
   "source": [
    "dna_freq = Counter(dna)"
   ]
  },
  {
   "cell_type": "code",
   "execution_count": 58,
   "id": "5e6a2f2e",
   "metadata": {
    "scrolled": true
   },
   "outputs": [
    {
     "data": {
      "text/plain": [
       "<BarContainer object of 4 artists>"
      ]
     },
     "execution_count": 58,
     "metadata": {},
     "output_type": "execute_result"
    },
    {
     "data": {
      "image/png": "[encoded data removed]",
      "text/plain": [
       "<Figure size 432x288 with 1 Axes>"
      ]
     },
     "metadata": {
      "needs_background": "light"
     },
     "output_type": "display_data"
    }
   ],
   "source": [
    "plt.bar(dna_freq.keys(), dna_freq.values())"
   ]
  },
  {
   "cell_type": "markdown",
   "id": "d473be3e",
   "metadata": {},
   "source": [
    "# Well Done!"
   ]
  }
 ],
 "metadata": {
  "kernelspec": {
   "display_name": "Python 3 (ipykernel)",
   "language": "python",
   "name": "python3"
  },
  "language_info": {
   "codemirror_mode": {
    "name": "ipython",
    "version": 3
   },
   "file_extension": ".py",
   "mimetype": "text/x-python",
   "name": "python",
   "nbconvert_exporter": "python",
   "pygments_lexer": "ipython3",
   "version": "3.9.12"
  }
 },
 "nbformat": 4,
 "nbformat_minor": 5
}
