{
 "cells": [
  {
   "cell_type": "markdown",
   "id": "f82a5298",
   "metadata": {},
   "source": [
    "# Sequence Similarity and Identity"
   ]
  },
  {
   "cell_type": "markdown",
   "id": "a6ed31de",
   "metadata": {},
   "source": [
    "### Checking for Similarity Between Sequences"
   ]
  },
  {
   "cell_type": "markdown",
   "id": "d3eaea2d",
   "metadata": {},
   "source": [
    "- Sequence Alignment\n",
    " + Dynamic Programming (Global/Local/needle/water)\n",
    " + Dotplot\n",
    "- Similarity: resemblance between two sequences in comparison\n",
    " + the minimal number of edit operations (inserts, deletes, and substitution) in order to transform the one sequence into an exact copy of the sequence being aligned\n",
    " + distance\n",
    "- Identity: the number of characters that match EXACTLY between two different sequences \n",
    " + Gaps are not counted\n",
    " + The measurement is relational to the shorter of the two sequences\n",
    " + This has the effect that sequence identity is not transitive\n",
    " + if sequence A=B and B=C then A is not necessarily equal C (in terms of the identity distance measure)\n",
    " \n",
    "\n",
    "- A: AAGGCTT\n",
    "- B: AAGGC\n",
    "- C: AAGGCAT"
   ]
  },
  {
   "cell_type": "code",
   "execution_count": 2,
   "id": "5d48dffc",
   "metadata": {},
   "outputs": [],
   "source": [
    "from Bio.Seq import Seq"
   ]
  },
  {
   "cell_type": "code",
   "execution_count": 4,
   "id": "46189fa0",
   "metadata": {},
   "outputs": [],
   "source": [
    "seqA = Seq(\"AAGGCTT\")\n",
    "seqB = Seq(\"AAGGC\")\n",
    "seqC = Seq(\"AAGGCAT\")"
   ]
  },
  {
   "cell_type": "code",
   "execution_count": 11,
   "id": "a685461c",
   "metadata": {},
   "outputs": [],
   "source": [
    "from Bio import pairwise2"
   ]
  },
  {
   "cell_type": "code",
   "execution_count": 16,
   "id": "00231327",
   "metadata": {},
   "outputs": [],
   "source": [
    "# A versus B\n",
    "AvsB = pairwise2.align.localxx(seqA, seqB, one_alignment_only=True, score_only=True)\n",
    "\n",
    "# A versus C\n",
    "AvsC = pairwise2.align.localxx(seqA, seqC, one_alignment_only=True, score_only=True)\n",
    "\n",
    "# B versus C\n",
    "BvsC = pairwise2.align.localxx(seqB, seqC, one_alignment_only=True, score_only=True)\n"
   ]
  },
  {
   "cell_type": "markdown",
   "id": "27022262",
   "metadata": {},
   "source": [
    "#### Whether they are Identical or not"
   ]
  },
  {
   "cell_type": "markdown",
   "id": "756b33bd",
   "metadata": {},
   "source": [
    "+ Seq A and B are 100 identical"
   ]
  },
  {
   "cell_type": "code",
   "execution_count": 18,
   "id": "49ac990a",
   "metadata": {},
   "outputs": [
    {
     "name": "stdout",
     "output_type": "stream",
     "text": [
      "A versus B:  100.0\n"
     ]
    }
   ],
   "source": [
    "print(\"A versus B: \", AvsB / len(seqB) * 100)"
   ]
  },
  {
   "cell_type": "markdown",
   "id": "44c8eb78",
   "metadata": {},
   "source": []
  },
  {
   "cell_type": "markdown",
   "id": "f4dbefaf",
   "metadata": {},
   "source": [
    "+ Seq B and C are 100 identical if divide to length of B"
   ]
  },
  {
   "cell_type": "code",
   "execution_count": 19,
   "id": "5c0c9697",
   "metadata": {},
   "outputs": [
    {
     "name": "stdout",
     "output_type": "stream",
     "text": [
      "B versus C:  100.0\n"
     ]
    }
   ],
   "source": [
    "print(\"B versus C: \", BvsC / len(seqB) * 100)"
   ]
  },
  {
   "cell_type": "markdown",
   "id": "a3259442",
   "metadata": {},
   "source": [
    "+ Seq B and C are 71.42857 identical if divide to length of C"
   ]
  },
  {
   "cell_type": "code",
   "execution_count": 21,
   "id": "58f784f1",
   "metadata": {
    "scrolled": true
   },
   "outputs": [
    {
     "name": "stdout",
     "output_type": "stream",
     "text": [
      "B versus C:  71.42857142857143\n"
     ]
    }
   ],
   "source": [
    "print(\"B versus C: \", BvsC / len(seqC) * 100)"
   ]
  },
  {
   "cell_type": "code",
   "execution_count": null,
   "id": "0ef6a51c",
   "metadata": {},
   "outputs": [],
   "source": []
  },
  {
   "cell_type": "code",
   "execution_count": 23,
   "id": "fca78a35",
   "metadata": {},
   "outputs": [
    {
     "name": "stdout",
     "output_type": "stream",
     "text": [
      "A versus C:  85.71428571428571\n"
     ]
    }
   ],
   "source": [
    "print(\"A versus C: \", AvsC / len(seqC) * 100)"
   ]
  },
  {
   "cell_type": "code",
   "execution_count": null,
   "id": "ee2eda9f",
   "metadata": {},
   "outputs": [],
   "source": []
  },
  {
   "cell_type": "markdown",
   "id": "a7f8fb34",
   "metadata": {},
   "source": [
    "#### Whether they are the same or not"
   ]
  },
  {
   "cell_type": "code",
   "execution_count": 25,
   "id": "7df0552d",
   "metadata": {},
   "outputs": [
    {
     "name": "stdout",
     "output_type": "stream",
     "text": [
      "seqA == seqB: False\t seqA == seqC: False\t seqB == seqC: False\n"
     ]
    }
   ],
   "source": [
    "print(f\"seqA == seqB: {seqA == seqB}\\t seqA == seqC: {seqA == seqC}\\t seqB == seqC: {seqB == seqC}\")"
   ]
  },
  {
   "cell_type": "markdown",
   "id": "5f8f4eeb",
   "metadata": {},
   "source": [
    "# Well Done!"
   ]
  }
 ],
 "metadata": {
  "kernelspec": {
   "display_name": "Python 3 (ipykernel)",
   "language": "python",
   "name": "python3"
  },
  "language_info": {
   "codemirror_mode": {
    "name": "ipython",
    "version": 3
   },
   "file_extension": ".py",
   "mimetype": "text/x-python",
   "name": "python",
   "nbconvert_exporter": "python",
   "pygments_lexer": "ipython3",
   "version": "3.9.12"
  }
 },
 "nbformat": 4,
 "nbformat_minor": 5
}
