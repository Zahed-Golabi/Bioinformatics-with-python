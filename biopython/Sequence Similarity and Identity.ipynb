{
 "cells": [
  {
   "cell_type": "markdown",
   "id": "daa4ff7c",
   "metadata": {},
   "source": [
    "# Sequence Similarity and Identity"
   ]
  },
  {
   "cell_type": "markdown",
   "id": "648520bf",
   "metadata": {},
   "source": [
    "### Checking for Similarity Between Sequences"
   ]
  },
  {
   "cell_type": "markdown",
   "id": "9beb90ea",
   "metadata": {},
   "source": [
    "- Sequence Alignment\n",
    " + Dynamic Programming (Global/Local/needle/water)\n",
    " + Dotplot\n",
    "- Similarity: resemblance between two sequences in comparison\n",
    " + the minimal number of edit operations (inserts, deletes, and substitution) in order to transform the one sequence into an exact copy of the sequence being aligned\n",
    " + distance\n",
    "- Identity: the number of characters that match EXACTLY between two different sequences \n",
    " + Gaps are not counted\n",
    " + The measurement is relational to the shorter of the two sequences\n",
    " + This has the effect that sequence identity is not transitive\n",
    " + if sequence A=B and B=C then A is not necessarily equal C (in terms of the identity distance measure)\n",
    "- A: AAGGCTT\n",
    "- B: AAGGC\n",
    "-"
   ]
  }
 ],
 "metadata": {
  "kernelspec": {
   "display_name": "Python 3 (ipykernel)",
   "language": "python",
   "name": "python3"
  },
  "language_info": {
   "codemirror_mode": {
    "name": "ipython",
    "version": 3
   },
   "file_extension": ".py",
   "mimetype": "text/x-python",
   "name": "python",
   "nbconvert_exporter": "python",
   "pygments_lexer": "ipython3",
   "version": "3.9.12"
  }
 },
 "nbformat": 4,
 "nbformat_minor": 5
}
