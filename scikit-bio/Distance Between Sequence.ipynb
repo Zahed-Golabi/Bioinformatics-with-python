{
  "nbformat": 4,
  "nbformat_minor": 0,
  "metadata": {
    "colab": {
      "provenance": [],
      "authorship_tag": "ABX9TyMwUO11hprxRWFPNFtRCko7"
    },
    "kernelspec": {
      "name": "python3",
      "display_name": "Python 3"
    },
    "language_info": {
      "name": "python"
    }
  },
  "cells": [
    {
      "cell_type": "markdown",
      "source": [
        "#Distance Between Sequence"
      ],
      "metadata": {
        "id": "sP6MbOqtszrc"
      }
    },
    {
      "cell_type": "markdown",
      "source": [
        "+ Hamming distance\n",
        " + Must have the same length"
      ],
      "metadata": {
        "id": "-bOwX2Wts8V9"
      }
    },
    {
      "cell_type": "code",
      "execution_count": 2,
      "metadata": {
        "id": "gXEoClV0sq3N"
      },
      "outputs": [],
      "source": [
        "from skbio import DNA,RNA,Sequence,Protein"
      ]
    },
    {
      "cell_type": "code",
      "source": [
        "seq1 = DNA(\"ACTATCAGT\")\n",
        "seq2 = DNA(\"ACTTACAGT\")"
      ],
      "metadata": {
        "id": "wuMG_f-Yt4jS"
      },
      "execution_count": 3,
      "outputs": []
    },
    {
      "cell_type": "code",
      "source": [
        "# Calculate the matches/mismatches\n",
        "seq1.match_frequency(seq2)"
      ],
      "metadata": {
        "colab": {
          "base_uri": "https://localhost:8080/"
        },
        "id": "-qqJYe-et4gt",
        "outputId": "b39e7bb1-8fe8-4c04-dddd-a6bb2fcc9d67"
      },
      "execution_count": 4,
      "outputs": [
        {
          "output_type": "execute_result",
          "data": {
            "text/plain": [
              "7"
            ]
          },
          "metadata": {},
          "execution_count": 4
        }
      ]
    },
    {
      "cell_type": "code",
      "source": [
        "seq1.matches(seq2)"
      ],
      "metadata": {
        "colab": {
          "base_uri": "https://localhost:8080/"
        },
        "id": "rdVcLHCst4eK",
        "outputId": "7a7783e1-c7cd-4325-ff2e-a4587bc942bf"
      },
      "execution_count": 5,
      "outputs": [
        {
          "output_type": "execute_result",
          "data": {
            "text/plain": [
              "array([ True,  True,  True, False, False,  True,  True,  True,  True])"
            ]
          },
          "metadata": {},
          "execution_count": 5
        }
      ]
    },
    {
      "cell_type": "code",
      "source": [
        "# Mismatch\n",
        "seq1.mismatches(seq2)"
      ],
      "metadata": {
        "colab": {
          "base_uri": "https://localhost:8080/"
        },
        "id": "ETzD84xzt4ba",
        "outputId": "525ada96-707c-426a-9ed5-7657e7e7f6c5"
      },
      "execution_count": 6,
      "outputs": [
        {
          "output_type": "execute_result",
          "data": {
            "text/plain": [
              "array([False, False, False,  True,  True, False, False, False, False])"
            ]
          },
          "metadata": {},
          "execution_count": 6
        }
      ]
    },
    {
      "cell_type": "code",
      "source": [],
      "metadata": {
        "id": "QhU3Q6set4Yq"
      },
      "execution_count": null,
      "outputs": []
    },
    {
      "cell_type": "markdown",
      "source": [
        "##Hamming distance: shows how many places 2 strings differ\n",
        "+ Hamming distance between two strings of equal length is the number of positions at which the corresponding symbols are different\n",
        "+ In other words, it means the minimum number of substitutions required to change one string into the other, or the minimum unmber of errors that could have transformed one string into the other\n",
        "+ It is used for error detection or error correction\n",
        "+ It is used to quantify of DNA sequences\n",
        "+ For checking the edit distance:\n",
        " + edit distance is a way of quantifying how dissimilar two strings (e.g. words) are to one another by counting the minimum number of operations required to transform one string into the other (e.g, Levenshtein distance)"
      ],
      "metadata": {
        "id": "uW8hjomPuuYB"
      }
    },
    {
      "cell_type": "code",
      "source": [
        "# Hamming distance\n",
        "seq1.distance(seq2)"
      ],
      "metadata": {
        "colab": {
          "base_uri": "https://localhost:8080/"
        },
        "id": "86AwAXclwf-v",
        "outputId": "aabe8e57-ad07-408b-f640-97f61b8e24df"
      },
      "execution_count": 7,
      "outputs": [
        {
          "output_type": "execute_result",
          "data": {
            "text/plain": [
              "0.2222222222222222"
            ]
          },
          "metadata": {},
          "execution_count": 7
        }
      ]
    },
    {
      "cell_type": "code",
      "source": [
        "# Custom Fxn Hamming Distance\n",
        "def hamming_distance(lhs,rhs):\n",
        "  return len([(x,y) for x,y in zip(lhs,rhs) if x!=y])\n"
      ],
      "metadata": {
        "id": "23XHVdjbwcID"
      },
      "execution_count": 8,
      "outputs": []
    },
    {
      "cell_type": "code",
      "source": [
        "hamming_distance(seq1,seq2)"
      ],
      "metadata": {
        "colab": {
          "base_uri": "https://localhost:8080/"
        },
        "id": "Ilx-AGvLwbEv",
        "outputId": "13e1f8fe-042b-45ad-9a18-bd1b801a0ab4"
      },
      "execution_count": 9,
      "outputs": [
        {
          "output_type": "execute_result",
          "data": {
            "text/plain": [
              "2"
            ]
          },
          "metadata": {},
          "execution_count": 9
        }
      ]
    },
    {
      "cell_type": "markdown",
      "source": [
        "###Kmer Distance\n",
        "+ The kmer distance between two sequences is the fraction of kmers that are unique to either sequence.\n",
        "+ Find kmers that are not found in each sequences or are dissimilar in each aka the sum of the non-intersection\n",
        "+ Using set ^ set for dissimilar/symmetric_difference"
      ],
      "metadata": {
        "id": "SjnPo9tXwNZL"
      }
    },
    {
      "cell_type": "code",
      "source": [
        "# Kmer Distance\n",
        "from skbio.sequence.distance import kmer_distance"
      ],
      "metadata": {
        "id": "alvZvNw_x8An"
      },
      "execution_count": 10,
      "outputs": []
    },
    {
      "cell_type": "code",
      "source": [
        "# Kmer freq in our seq\n",
        "seq1.kmer_frequencies(3)"
      ],
      "metadata": {
        "colab": {
          "base_uri": "https://localhost:8080/"
        },
        "id": "bpFLG8WnyXQ7",
        "outputId": "c7143d32-df31-4b19-a25c-8b1a8cfe9cb5"
      },
      "execution_count": 11,
      "outputs": [
        {
          "output_type": "execute_result",
          "data": {
            "text/plain": [
              "{'ACT': 1, 'CTA': 1, 'TAT': 1, 'ATC': 1, 'TCA': 1, 'CAG': 1, 'AGT': 1}"
            ]
          },
          "metadata": {},
          "execution_count": 11
        }
      ]
    },
    {
      "cell_type": "code",
      "source": [
        "# Kmer freq in our seq\n",
        "seq2.kmer_frequencies(3)"
      ],
      "metadata": {
        "colab": {
          "base_uri": "https://localhost:8080/"
        },
        "id": "c_CymTByyXOG",
        "outputId": "aa47ec10-3c1b-4816-9f71-80cca55cbc32"
      },
      "execution_count": 12,
      "outputs": [
        {
          "output_type": "execute_result",
          "data": {
            "text/plain": [
              "{'ACT': 1, 'CTT': 1, 'TTA': 1, 'TAC': 1, 'ACA': 1, 'CAG': 1, 'AGT': 1}"
            ]
          },
          "metadata": {},
          "execution_count": 12
        }
      ]
    },
    {
      "cell_type": "code",
      "source": [
        "# Get the kmer distance\n",
        "kmer_distance(seq1,seq2,k=3)"
      ],
      "metadata": {
        "colab": {
          "base_uri": "https://localhost:8080/"
        },
        "id": "37DwUw4LyXFe",
        "outputId": "a97ce094-273e-4d3c-c978-06bdbe573c18"
      },
      "execution_count": 14,
      "outputs": [
        {
          "output_type": "execute_result",
          "data": {
            "text/plain": [
              "0.7272727272727273"
            ]
          },
          "metadata": {},
          "execution_count": 14
        }
      ]
    },
    {
      "cell_type": "markdown",
      "source": [
        "#### Custom Function for Kmer Distance\n",
        "+ Set\n",
        "+ Intersection\n",
        "+ Dissimilar Set\n"
      ],
      "metadata": {
        "id": "NGMGsVXcy_Pi"
      }
    },
    {
      "cell_type": "code",
      "source": [
        "def custom_kmer_dist(seq1,seq2):\n",
        "  seq1_set = set(seq1)\n",
        "  seq2_set = set(seq2)\n",
        "  union_seq = seq1_set.union(seq2_set)\n",
        "  intersection_set = seq1_set.intersection(seq2_set)\n",
        "  dissimilarity = len(union_seq) - len(intersection_set)\n",
        "  print(dissimilarity)\n",
        "  distance = dissimilarity/len(union_seq)\n",
        "  return distance\n"
      ],
      "metadata": {
        "id": "q9R3kRU4yW-F"
      },
      "execution_count": 16,
      "outputs": []
    },
    {
      "cell_type": "code",
      "source": [
        "# Kmers freq in our seq\n",
        "seq1_k = seq1.kmer_frequencies(3).keys()\n",
        "seq2_k = seq2.kmer_frequencies(3).keys()"
      ],
      "metadata": {
        "id": "fux8od4E06cn"
      },
      "execution_count": 17,
      "outputs": []
    },
    {
      "cell_type": "code",
      "source": [
        "custom_kmer_dist(seq1_k,seq2_k)"
      ],
      "metadata": {
        "colab": {
          "base_uri": "https://localhost:8080/"
        },
        "id": "9h2SORXG0lDl",
        "outputId": "16b86a90-a162-4030-f6d7-0139fcd78438"
      },
      "execution_count": 19,
      "outputs": [
        {
          "output_type": "stream",
          "name": "stdout",
          "text": [
            "8\n"
          ]
        },
        {
          "output_type": "execute_result",
          "data": {
            "text/plain": [
              "0.7272727272727273"
            ]
          },
          "metadata": {},
          "execution_count": 19
        }
      ]
    },
    {
      "cell_type": "code",
      "source": [],
      "metadata": {
        "id": "9yrZ9JaF0Mqd"
      },
      "execution_count": null,
      "outputs": []
    },
    {
      "cell_type": "code",
      "source": [],
      "metadata": {
        "id": "H04FLYJT0Mnr"
      },
      "execution_count": null,
      "outputs": []
    },
    {
      "cell_type": "code",
      "source": [],
      "metadata": {
        "id": "YlK8uUu00Mgt"
      },
      "execution_count": null,
      "outputs": []
    },
    {
      "cell_type": "markdown",
      "source": [],
      "metadata": {
        "id": "UOBtq0wzxYEq"
      }
    },
    {
      "cell_type": "code",
      "source": [],
      "metadata": {
        "id": "12hKJnj0t4Vd"
      },
      "execution_count": null,
      "outputs": []
    },
    {
      "cell_type": "code",
      "source": [],
      "metadata": {
        "id": "v78xWOq-t4Sz"
      },
      "execution_count": null,
      "outputs": []
    }
  ]
}