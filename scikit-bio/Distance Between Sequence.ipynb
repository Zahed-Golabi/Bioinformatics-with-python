{
  "nbformat": 4,
  "nbformat_minor": 0,
  "metadata": {
    "colab": {
      "provenance": [],
      "authorship_tag": "ABX9TyOWHTJgvqx1WLn/9qyelMxR"
    },
    "kernelspec": {
      "name": "python3",
      "display_name": "Python 3"
    },
    "language_info": {
      "name": "python"
    }
  },
  "cells": [
    {
      "cell_type": "markdown",
      "source": [
        "#Distance Between Sequence"
      ],
      "metadata": {
        "id": "sP6MbOqtszrc"
      }
    },
    {
      "cell_type": "markdown",
      "source": [
        "+ Hamming distance\n",
        " + Must have the same length"
      ],
      "metadata": {
        "id": "-bOwX2Wts8V9"
      }
    },
    {
      "cell_type": "code",
      "execution_count": 2,
      "metadata": {
        "id": "gXEoClV0sq3N"
      },
      "outputs": [],
      "source": [
        "from skbio import DNA,RNA,Sequence,Protein"
      ]
    },
    {
      "cell_type": "code",
      "source": [
        "seq1 = DNA(\"ACTATCAGT\")\n",
        "seq2 = DNA(\"ACTTACAGT\")"
      ],
      "metadata": {
        "id": "wuMG_f-Yt4jS"
      },
      "execution_count": 3,
      "outputs": []
    },
    {
      "cell_type": "code",
      "source": [
        "# Calculate the matches/mismatches\n",
        "seq1.match_frequency(seq2)"
      ],
      "metadata": {
        "colab": {
          "base_uri": "https://localhost:8080/"
        },
        "id": "-qqJYe-et4gt",
        "outputId": "b39e7bb1-8fe8-4c04-dddd-a6bb2fcc9d67"
      },
      "execution_count": 4,
      "outputs": [
        {
          "output_type": "execute_result",
          "data": {
            "text/plain": [
              "7"
            ]
          },
          "metadata": {},
          "execution_count": 4
        }
      ]
    },
    {
      "cell_type": "code",
      "source": [
        "seq1.matches(seq2)"
      ],
      "metadata": {
        "colab": {
          "base_uri": "https://localhost:8080/"
        },
        "id": "rdVcLHCst4eK",
        "outputId": "7a7783e1-c7cd-4325-ff2e-a4587bc942bf"
      },
      "execution_count": 5,
      "outputs": [
        {
          "output_type": "execute_result",
          "data": {
            "text/plain": [
              "array([ True,  True,  True, False, False,  True,  True,  True,  True])"
            ]
          },
          "metadata": {},
          "execution_count": 5
        }
      ]
    },
    {
      "cell_type": "code",
      "source": [
        "# Mismatch\n",
        "seq1.mismatches(seq2)"
      ],
      "metadata": {
        "colab": {
          "base_uri": "https://localhost:8080/"
        },
        "id": "ETzD84xzt4ba",
        "outputId": "525ada96-707c-426a-9ed5-7657e7e7f6c5"
      },
      "execution_count": 6,
      "outputs": [
        {
          "output_type": "execute_result",
          "data": {
            "text/plain": [
              "array([False, False, False,  True,  True, False, False, False, False])"
            ]
          },
          "metadata": {},
          "execution_count": 6
        }
      ]
    },
    {
      "cell_type": "code",
      "source": [],
      "metadata": {
        "id": "QhU3Q6set4Yq"
      },
      "execution_count": null,
      "outputs": []
    },
    {
      "cell_type": "markdown",
      "source": [
        "##Hamming distance: shows how many places 2 strings differ\n",
        "+ Hamming distance between two strings of equal length is the number of positions at which the corresponding symbols are different\n",
        "+ In other words, it means the minimum number of substitutions required to change one string into the other, or the minimum unmber of errors that could have transformed one string into the other\n",
        "+ It is used for error detection or error correction\n",
        "+ It is used to quantify of DNA sequences\n",
        "+ For checking the edit distance:\n",
        " + edit distance is a way of quantifying how dissimilar two strings (e.g. words) are to one another by counting the minimum number of operations required to transform one string into the other (e.g, Levenshtein distance)"
      ],
      "metadata": {
        "id": "uW8hjomPuuYB"
      }
    },
    {
      "cell_type": "code",
      "source": [
        "# Hamming distance\n",
        "seq1.distance(seq2)"
      ],
      "metadata": {
        "colab": {
          "base_uri": "https://localhost:8080/"
        },
        "id": "86AwAXclwf-v",
        "outputId": "aabe8e57-ad07-408b-f640-97f61b8e24df"
      },
      "execution_count": 7,
      "outputs": [
        {
          "output_type": "execute_result",
          "data": {
            "text/plain": [
              "0.2222222222222222"
            ]
          },
          "metadata": {},
          "execution_count": 7
        }
      ]
    },
    {
      "cell_type": "code",
      "source": [],
      "metadata": {
        "id": "_dITcfaQwmxb"
      },
      "execution_count": null,
      "outputs": []
    },
    {
      "cell_type": "code",
      "source": [
        "# Custom Fxn Hamming Distance\n",
        "def hamming_distance(lhs,rhs):\n",
        "  return len([(x,y) for x,y in zip(lhs,rhs) if x!=y])\n"
      ],
      "metadata": {
        "id": "23XHVdjbwcID"
      },
      "execution_count": 8,
      "outputs": []
    },
    {
      "cell_type": "code",
      "source": [
        "hamming_distance(seq1,seq2)"
      ],
      "metadata": {
        "colab": {
          "base_uri": "https://localhost:8080/"
        },
        "id": "Ilx-AGvLwbEv",
        "outputId": "13e1f8fe-042b-45ad-9a18-bd1b801a0ab4"
      },
      "execution_count": 9,
      "outputs": [
        {
          "output_type": "execute_result",
          "data": {
            "text/plain": [
              "2"
            ]
          },
          "metadata": {},
          "execution_count": 9
        }
      ]
    },
    {
      "cell_type": "markdown",
      "source": [
        "###Kmer Distance"
      ],
      "metadata": {
        "id": "SjnPo9tXwNZL"
      }
    },
    {
      "cell_type": "code",
      "source": [],
      "metadata": {
        "id": "12hKJnj0t4Vd"
      },
      "execution_count": null,
      "outputs": []
    },
    {
      "cell_type": "code",
      "source": [],
      "metadata": {
        "id": "v78xWOq-t4Sz"
      },
      "execution_count": null,
      "outputs": []
    }
  ]
}