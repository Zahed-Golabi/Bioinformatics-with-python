{
 "cells": [
  {
   "cell_type": "markdown",
   "id": "da8252db",
   "metadata": {},
   "source": [
    "# Protein Synthesis"
   ]
  },
  {
   "cell_type": "markdown",
   "id": "e5f10310",
   "metadata": {},
   "source": [
    "+ How cells makes proteins\n",
    "+ Transcription\n",
    "+ Translation"
   ]
  },
  {
   "cell_type": "code",
   "execution_count": null,
   "id": "1fc0e463",
   "metadata": {},
   "outputs": [],
   "source": []
  },
  {
   "cell_type": "code",
   "execution_count": null,
   "id": "284940ce",
   "metadata": {},
   "outputs": [],
   "source": []
  },
  {
   "cell_type": "code",
   "execution_count": null,
   "id": "661c94a3",
   "metadata": {},
   "outputs": [],
   "source": []
  }
 ],
 "metadata": {
  "kernelspec": {
   "display_name": "Python 3 (ipykernel)",
   "language": "python",
   "name": "python3"
  },
  "language_info": {
   "codemirror_mode": {
    "name": "ipython",
    "version": 3
   },
   "file_extension": ".py",
   "mimetype": "text/x-python",
   "name": "python",
   "nbconvert_exporter": "python",
   "pygments_lexer": "ipython3",
   "version": "3.9.12"
  }
 },
 "nbformat": 4,
 "nbformat_minor": 5
}
