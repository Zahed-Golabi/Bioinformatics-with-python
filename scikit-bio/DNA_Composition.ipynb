{
  "nbformat": 4,
  "nbformat_minor": 0,
  "metadata": {
    "colab": {
      "provenance": [],
      "authorship_tag": "ABX9TyP8FjLJlieo6ba6i1TC82+k"
    },
    "kernelspec": {
      "name": "python3",
      "display_name": "Python 3"
    },
    "language_info": {
      "name": "python"
    }
  },
  "cells": [
    {
      "cell_type": "markdown",
      "source": [
        "Sequence Composition"
      ],
      "metadata": {
        "id": "30G-ggM-PXQi"
      }
    },
    {
      "cell_type": "markdown",
      "source": [
        "+ GC, AT Content\n",
        "+ Automatically Calculates the gc_content"
      ],
      "metadata": {
        "id": "NOqwl-gmPG3u"
      }
    },
    {
      "cell_type": "code",
      "source": [
        "#!pip install scikit-bio"
      ],
      "metadata": {
        "id": "mi3brlwCBVgl"
      },
      "execution_count": 4,
      "outputs": []
    },
    {
      "cell_type": "code",
      "source": [
        "from skbio import DNA,RNA,Protein,Sequence"
      ],
      "metadata": {
        "id": "KEw0DWOdP9-p"
      },
      "execution_count": 5,
      "outputs": []
    },
    {
      "cell_type": "code",
      "source": [
        "dna_seq = DNA(\"ATGATCTCGTAA\")"
      ],
      "metadata": {
        "id": "bGEKHVtNQEcx"
      },
      "execution_count": 6,
      "outputs": []
    },
    {
      "cell_type": "code",
      "source": [
        "# Get GC Content: Returns a percentage of GC as compared to the whole\n",
        "dna_seq.gc_content()"
      ],
      "metadata": {
        "colab": {
          "base_uri": "https://localhost:8080/"
        },
        "id": "YlEiOesWPfgd",
        "outputId": "6b868cc0-1f2d-4646-a7e1-852e79bc0830"
      },
      "execution_count": 7,
      "outputs": [
        {
          "output_type": "execute_result",
          "data": {
            "text/plain": [
              "0.3333333333333333"
            ]
          },
          "metadata": {},
          "execution_count": 7
        }
      ]
    },
    {
      "cell_type": "code",
      "source": [
        "# Custom GC Content\n",
        "def gc_content(seq):\n",
        "  return float(seq.count(\"G\") + seq.count(\"C\"))/len(seq) * 100"
      ],
      "metadata": {
        "id": "AR60vvFsQ-fE"
      },
      "execution_count": 8,
      "outputs": []
    },
    {
      "cell_type": "code",
      "source": [
        "gc_content(dna_seq)"
      ],
      "metadata": {
        "colab": {
          "base_uri": "https://localhost:8080/"
        },
        "id": "naLofW1gRPBv",
        "outputId": "b6673ec4-cad6-4894-bc26-c283cfb44b88"
      },
      "execution_count": 9,
      "outputs": [
        {
          "output_type": "execute_result",
          "data": {
            "text/plain": [
              "33.33333333333333"
            ]
          },
          "metadata": {},
          "execution_count": 9
        }
      ]
    },
    {
      "cell_type": "code",
      "source": [
        "# Get GC Frequency: Counts the number of G and C in your Sequence\n",
        "dna_seq.gc_frequency()"
      ],
      "metadata": {
        "colab": {
          "base_uri": "https://localhost:8080/"
        },
        "id": "I1RMnpWLPov3",
        "outputId": "244c53cc-33c0-4c07-ab83-3c4dce32b361"
      },
      "execution_count": 10,
      "outputs": [
        {
          "output_type": "execute_result",
          "data": {
            "text/plain": [
              "4"
            ]
          },
          "metadata": {},
          "execution_count": 10
        }
      ]
    },
    {
      "cell_type": "code",
      "source": [
        "# Custom GC Freq\n",
        "def gc_freq(seq):\n",
        "  return seq.count(\"G\") + seq.count(\"C\")"
      ],
      "metadata": {
        "id": "43M84-aPRdD-"
      },
      "execution_count": 11,
      "outputs": []
    },
    {
      "cell_type": "code",
      "source": [
        "gc_freq(dna_seq)"
      ],
      "metadata": {
        "colab": {
          "base_uri": "https://localhost:8080/"
        },
        "id": "iq3zExYeRq_-",
        "outputId": "8d9a12cd-8d64-4acd-fdc8-1bd8e3ce4f0b"
      },
      "execution_count": 12,
      "outputs": [
        {
          "output_type": "execute_result",
          "data": {
            "text/plain": [
              "4"
            ]
          },
          "metadata": {},
          "execution_count": 12
        }
      ]
    },
    {
      "cell_type": "code",
      "source": [
        "# AT Content\n",
        "def at_content(seq):\n",
        "  return float(seq.count(\"A\") + seq.count(\"T\"))/len(seq) * 100"
      ],
      "metadata": {
        "id": "xnYwOWiJRxmH"
      },
      "execution_count": 13,
      "outputs": []
    },
    {
      "cell_type": "code",
      "source": [
        "at_content(dna_seq)"
      ],
      "metadata": {
        "colab": {
          "base_uri": "https://localhost:8080/"
        },
        "id": "Lt98vY-9SGTY",
        "outputId": "daab6397-6459-4b88-f6fe-edf07faee2e6"
      },
      "execution_count": 14,
      "outputs": [
        {
          "output_type": "execute_result",
          "data": {
            "text/plain": [
              "66.66666666666666"
            ]
          },
          "metadata": {},
          "execution_count": 14
        }
      ]
    },
    {
      "cell_type": "code",
      "source": [
        "# AT Frequency\n",
        "def at_freq(seq):\n",
        "  return seq.count(\"A\") + seq.count(\"T\")"
      ],
      "metadata": {
        "id": "BkC41fPwSNTA"
      },
      "execution_count": 15,
      "outputs": []
    },
    {
      "cell_type": "code",
      "source": [
        "at_freq(dna_seq)"
      ],
      "metadata": {
        "colab": {
          "base_uri": "https://localhost:8080/"
        },
        "id": "Rj6mvKFcSdaG",
        "outputId": "ff63d8ca-c2a0-42be-9a7a-9bb408450bd8"
      },
      "execution_count": 16,
      "outputs": [
        {
          "output_type": "execute_result",
          "data": {
            "text/plain": [
              "8"
            ]
          },
          "metadata": {},
          "execution_count": 16
        }
      ]
    },
    {
      "cell_type": "code",
      "source": [],
      "metadata": {
        "id": "vLFVD36jShzi"
      },
      "execution_count": 16,
      "outputs": []
    },
    {
      "cell_type": "code",
      "source": [
        "# Difference Between GC_content and GC_frequency\n"
      ],
      "metadata": {
        "id": "c7vi1vNWPpSl"
      },
      "execution_count": 17,
      "outputs": []
    },
    {
      "cell_type": "code",
      "source": [
        "# Get Frequencies of each Nucleotide\n",
        "dna_seq.frequencies()"
      ],
      "metadata": {
        "colab": {
          "base_uri": "https://localhost:8080/"
        },
        "id": "bc-dMUkXTNI6",
        "outputId": "24b226b7-3a90-4c2d-afae-293010333340"
      },
      "execution_count": 18,
      "outputs": [
        {
          "output_type": "execute_result",
          "data": {
            "text/plain": [
              "{'A': 4, 'C': 2, 'G': 2, 'T': 4}"
            ]
          },
          "metadata": {},
          "execution_count": 18
        }
      ]
    },
    {
      "cell_type": "code",
      "source": [
        "from collections import Counter"
      ],
      "metadata": {
        "id": "_65XwOwDTaXE"
      },
      "execution_count": 19,
      "outputs": []
    },
    {
      "cell_type": "code",
      "source": [
        "Counter(str(dna_seq))"
      ],
      "metadata": {
        "colab": {
          "base_uri": "https://localhost:8080/"
        },
        "id": "9sfUJGWsTf6n",
        "outputId": "232a7864-e1b8-4247-e5bd-528770a0da44"
      },
      "execution_count": 20,
      "outputs": [
        {
          "output_type": "execute_result",
          "data": {
            "text/plain": [
              "Counter({'A': 4, 'T': 4, 'G': 2, 'C': 2})"
            ]
          },
          "metadata": {},
          "execution_count": 20
        }
      ]
    },
    {
      "cell_type": "code",
      "source": [
        "# Plot of Nucleotides\n",
        "import matplotlib.pyplot as plt\n",
        "plt.bar(Counter(str(dna_seq)).keys(), Counter(str(dna_seq)).values())"
      ],
      "metadata": {
        "colab": {
          "base_uri": "https://localhost:8080/",
          "height": 447
        },
        "id": "5hQzRup1Tou_",
        "outputId": "bf2d3a33-e92a-479d-de0c-9e9430782de0"
      },
      "execution_count": 21,
      "outputs": [
        {
          "output_type": "execute_result",
          "data": {
            "text/plain": [
              "<BarContainer object of 4 artists>"
            ]
          },
          "metadata": {},
          "execution_count": 21
        },
        {
          "output_type": "display_data",
          "data": {
            "text/plain": [
              "<Figure size 640x480 with 1 Axes>"
            ],
            "image/png": "[encoded data removed]"
          },
          "metadata": {}
        }
      ]
    },
    {
      "cell_type": "markdown",
      "source": [
        "###Kmers\n",
        "+ K-mers are subsequences of length contained within a biological sequence.\n",
        "+ More generally, a sequence of length\n",
        " + L will have L-K+1 k-mers and n^K total possible k-mers\n",
        " + where n is number of possible monomers\n",
        "\n",
        "#### Usefulness\n",
        "+ assemble DNA sequence\n",
        "+ improve heterologous gene expression\n",
        "+ identify species in metagenomic samples\n",
        "+ create attenuated vaccines\n",
        "\n"
      ],
      "metadata": {
        "id": "vijx2YGSB6A-"
      }
    },
    {
      "cell_type": "markdown",
      "source": [
        "![kmerimage.png](data:image/png;base64,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)"
      ],
      "metadata": {
        "id": "StxSvuOGDZEG"
      }
    },
    {
      "cell_type": "code",
      "source": [
        "dna_seq"
      ],
      "metadata": {
        "colab": {
          "base_uri": "https://localhost:8080/"
        },
        "id": "I-paVifnDdYO",
        "outputId": "f2b85c45-6cd4-4cb1-9b46-d7af9e1d6545"
      },
      "execution_count": 22,
      "outputs": [
        {
          "output_type": "execute_result",
          "data": {
            "text/plain": [
              "DNA\n",
              "--------------------------\n",
              "Stats:\n",
              "    length: 12\n",
              "    has gaps: False\n",
              "    has degenerates: False\n",
              "    has definites: True\n",
              "    GC-content: 33.33%\n",
              "--------------------------\n",
              "0 ATGATCTCGT AA"
            ]
          },
          "metadata": {},
          "execution_count": 22
        }
      ]
    },
    {
      "cell_type": "code",
      "source": [
        "print(dna_seq)"
      ],
      "metadata": {
        "colab": {
          "base_uri": "https://localhost:8080/"
        },
        "id": "Do8doLIZEQSb",
        "outputId": "f7dd80c6-95a5-47b0-df3d-9b7bc00cf883"
      },
      "execution_count": 23,
      "outputs": [
        {
          "output_type": "stream",
          "name": "stdout",
          "text": [
            "ATGATCTCGTAA\n"
          ]
        }
      ]
    },
    {
      "cell_type": "code",
      "source": [
        "# Find Kmers\n",
        "dna_seq.kmer_frequencies(3)"
      ],
      "metadata": {
        "colab": {
          "base_uri": "https://localhost:8080/"
        },
        "id": "64l2q382EVqi",
        "outputId": "018adf20-510b-479c-fad2-1276471a3633"
      },
      "execution_count": 24,
      "outputs": [
        {
          "output_type": "execute_result",
          "data": {
            "text/plain": [
              "{'ATG': 1,\n",
              " 'TGA': 1,\n",
              " 'GAT': 1,\n",
              " 'ATC': 1,\n",
              " 'TCT': 1,\n",
              " 'CTC': 1,\n",
              " 'TCG': 1,\n",
              " 'CGT': 1,\n",
              " 'GTA': 1,\n",
              " 'TAA': 1}"
            ]
          },
          "metadata": {},
          "execution_count": 24
        }
      ]
    },
    {
      "cell_type": "code",
      "source": [
        " # Find kmers\n",
        "dna_seq.kmer_frequencies(4)"
      ],
      "metadata": {
        "colab": {
          "base_uri": "https://localhost:8080/"
        },
        "id": "tJumW3IbEgSp",
        "outputId": "f0bf8828-4933-4bb8-c98d-7506f527c7a7"
      },
      "execution_count": 26,
      "outputs": [
        {
          "output_type": "execute_result",
          "data": {
            "text/plain": [
              "{'ATGA': 1,\n",
              " 'TGAT': 1,\n",
              " 'GATC': 1,\n",
              " 'ATCT': 1,\n",
              " 'TCTC': 1,\n",
              " 'CTCG': 1,\n",
              " 'TCGT': 1,\n",
              " 'CGTA': 1,\n",
              " 'GTAA': 1}"
            ]
          },
          "metadata": {},
          "execution_count": 26
        }
      ]
    },
    {
      "cell_type": "code",
      "source": [
        "# Custom Kmer\n",
        "# L - K+1\n",
        "def count_kmers(seq,k=3):\n",
        "  # Empty Dictionary\n",
        "  counts = {}\n",
        "  num_kmers = len(seq) - k + 1\n",
        "  for i in range(num_kmers):\n",
        "    # Slicing the seq to get kmer\n",
        "    kmer = seq[i:i+k]\n",
        "    if kmer not in counts:\n",
        "      counts[kmer] = 0\n",
        "\n",
        "    # increment\n",
        "    counts[kmer] += 1\n",
        "  return counts"
      ],
      "metadata": {
        "id": "sAPlYu96Eyoe"
      },
      "execution_count": 29,
      "outputs": []
    },
    {
      "cell_type": "code",
      "source": [
        "count_kmers(str(dna_seq))"
      ],
      "metadata": {
        "colab": {
          "base_uri": "https://localhost:8080/"
        },
        "id": "PeGQxn6QGOi9",
        "outputId": "da3d2756-89f3-4e0d-d2b9-c8d2ad7bc7ab"
      },
      "execution_count": 30,
      "outputs": [
        {
          "output_type": "execute_result",
          "data": {
            "text/plain": [
              "{'ATG': 1,\n",
              " 'TGA': 1,\n",
              " 'GAT': 1,\n",
              " 'ATC': 1,\n",
              " 'TCT': 1,\n",
              " 'CTC': 1,\n",
              " 'TCG': 1,\n",
              " 'CGT': 1,\n",
              " 'GTA': 1,\n",
              " 'TAA': 1}"
            ]
          },
          "metadata": {},
          "execution_count": 30
        }
      ]
    },
    {
      "cell_type": "code",
      "source": [
        "count_kmers(str(dna_seq), k=4)"
      ],
      "metadata": {
        "colab": {
          "base_uri": "https://localhost:8080/"
        },
        "id": "tmA7ciUeGqxh",
        "outputId": "b9c13aad-4c13-42ca-8cd1-2bdb71aae959"
      },
      "execution_count": 31,
      "outputs": [
        {
          "output_type": "execute_result",
          "data": {
            "text/plain": [
              "{'ATGA': 1,\n",
              " 'TGAT': 1,\n",
              " 'GATC': 1,\n",
              " 'ATCT': 1,\n",
              " 'TCTC': 1,\n",
              " 'CTCG': 1,\n",
              " 'TCGT': 1,\n",
              " 'CGTA': 1,\n",
              " 'GTAA': 1}"
            ]
          },
          "metadata": {},
          "execution_count": 31
        }
      ]
    },
    {
      "cell_type": "code",
      "source": [
        "# iterating through a kmer\n",
        "for k in dna_seq.iter_kmers(3,overlap=True):\n",
        "  print(k)"
      ],
      "metadata": {
        "colab": {
          "base_uri": "https://localhost:8080/"
        },
        "id": "phnnjSmYG-L_",
        "outputId": "8bbb76d8-39d6-47b5-b5d6-071e43f3ef1f"
      },
      "execution_count": 33,
      "outputs": [
        {
          "output_type": "stream",
          "name": "stdout",
          "text": [
            "ATG\n",
            "TGA\n",
            "GAT\n",
            "ATC\n",
            "TCT\n",
            "CTC\n",
            "TCG\n",
            "CGT\n",
            "GTA\n",
            "TAA\n"
          ]
        }
      ]
    },
    {
      "cell_type": "code",
      "source": [
        "# Kmer Freq\n",
        "dna_kfreq = dna_seq.kmer_frequencies(3)"
      ],
      "metadata": {
        "id": "vq-9iiDvHeDY"
      },
      "execution_count": 34,
      "outputs": []
    },
    {
      "cell_type": "code",
      "source": [
        "# Kmers Plot\n",
        "plt.bar(dna_kfreq.keys(), dna_kfreq.values())"
      ],
      "metadata": {
        "colab": {
          "base_uri": "https://localhost:8080/",
          "height": 447
        },
        "id": "e11Y8q2VHTzo",
        "outputId": "2b9bc816-c033-4b70-a104-db5f752da751"
      },
      "execution_count": 35,
      "outputs": [
        {
          "output_type": "execute_result",
          "data": {
            "text/plain": [
              "<BarContainer object of 10 artists>"
            ]
          },
          "metadata": {},
          "execution_count": 35
        },
        {
          "output_type": "display_data",
          "data": {
            "text/plain": [
              "<Figure size 640x480 with 1 Axes>"
            ],
            "image/png": "[encoded data removed]"
          },
          "metadata": {}
        }
      ]
    },
    {
      "cell_type": "code",
      "source": [
        "dna_seq1 = DNA(\"ATTAAAGGTTTATACCTTCCCAGGTAACAAACCAACCAACTTTCGATCTCTTGTAGATCTGTTCTCTAAA\")"
      ],
      "metadata": {
        "id": "tUQ2ANw-H3Tw"
      },
      "execution_count": 36,
      "outputs": []
    },
    {
      "cell_type": "code",
      "source": [
        "dna1_kfreq = dna_seq1.kmer_frequencies(3)"
      ],
      "metadata": {
        "id": "303HtubnH2wB"
      },
      "execution_count": 37,
      "outputs": []
    },
    {
      "cell_type": "code",
      "source": [
        "# Plot of Kmers Freq\n",
        "plt.bar(dna1_kfreq.keys(), dna1_kfreq.values())\n"
      ],
      "metadata": {
        "colab": {
          "base_uri": "https://localhost:8080/",
          "height": 447
        },
        "id": "zcl914rRIb3l",
        "outputId": "2d053f6f-906f-4fee-d0b0-18205406b19e"
      },
      "execution_count": 44,
      "outputs": [
        {
          "output_type": "execute_result",
          "data": {
            "text/plain": [
              "<BarContainer object of 37 artists>"
            ]
          },
          "metadata": {},
          "execution_count": 44
        },
        {
          "output_type": "display_data",
          "data": {
            "text/plain": [
              "<Figure size 640x480 with 1 Axes>"
            ],
            "image/png": "[encoded data removed]"
          },
          "metadata": {}
        }
      ]
    }
  ]
}