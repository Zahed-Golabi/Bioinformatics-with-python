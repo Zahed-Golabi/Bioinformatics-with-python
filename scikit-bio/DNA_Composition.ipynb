{
  "nbformat": 4,
  "nbformat_minor": 0,
  "metadata": {
    "colab": {
      "provenance": [],
      "authorship_tag": "ABX9TyNDCKCLD1L+UMRsMFlLA5Tt"
    },
    "kernelspec": {
      "name": "python3",
      "display_name": "Python 3"
    },
    "language_info": {
      "name": "python"
    }
  },
  "cells": [
    {
      "cell_type": "markdown",
      "source": [
        "Sequence Composition"
      ],
      "metadata": {
        "id": "30G-ggM-PXQi"
      }
    },
    {
      "cell_type": "markdown",
      "source": [
        "+ GC, AT Content\n",
        "+ Automatically Calculates the gc_content"
      ],
      "metadata": {
        "id": "NOqwl-gmPG3u"
      }
    },
    {
      "cell_type": "code",
      "source": [
        "from skbio import DNA,RNA,Protein,Sequence"
      ],
      "metadata": {
        "id": "KEw0DWOdP9-p"
      },
      "execution_count": 3,
      "outputs": []
    },
    {
      "cell_type": "code",
      "source": [
        "dna_seq = DNA(\"ATGATCTCGTAA\")"
      ],
      "metadata": {
        "id": "bGEKHVtNQEcx"
      },
      "execution_count": 5,
      "outputs": []
    },
    {
      "cell_type": "code",
      "source": [
        "# Get GC Content: Returns a percentage of GC as compared to the whole\n",
        "dna_seq.gc_content()"
      ],
      "metadata": {
        "colab": {
          "base_uri": "https://localhost:8080/"
        },
        "id": "YlEiOesWPfgd",
        "outputId": "029f9f8f-2237-46e1-f10c-6d87f573875b"
      },
      "execution_count": 6,
      "outputs": [
        {
          "output_type": "execute_result",
          "data": {
            "text/plain": [
              "0.3333333333333333"
            ]
          },
          "metadata": {},
          "execution_count": 6
        }
      ]
    },
    {
      "cell_type": "code",
      "source": [
        "# Custom GC Content\n",
        "def gc_content(seq):\n",
        "  return float(seq.count(\"G\") + seq.count(\"C\"))/len(seq) * 100"
      ],
      "metadata": {
        "id": "AR60vvFsQ-fE"
      },
      "execution_count": 8,
      "outputs": []
    },
    {
      "cell_type": "code",
      "source": [
        "gc_content(dna_seq)"
      ],
      "metadata": {
        "colab": {
          "base_uri": "https://localhost:8080/"
        },
        "id": "naLofW1gRPBv",
        "outputId": "dfa44822-13d5-4677-db6d-fc0eb04c3467"
      },
      "execution_count": 9,
      "outputs": [
        {
          "output_type": "execute_result",
          "data": {
            "text/plain": [
              "33.33333333333333"
            ]
          },
          "metadata": {},
          "execution_count": 9
        }
      ]
    },
    {
      "cell_type": "code",
      "source": [
        "# Get GC Frequency: Counts the number of G and C in your Sequence\n",
        "dna_seq.gc_frequency()"
      ],
      "metadata": {
        "colab": {
          "base_uri": "https://localhost:8080/"
        },
        "id": "I1RMnpWLPov3",
        "outputId": "0869af3b-0120-45de-f207-17a3fae985c7"
      },
      "execution_count": 7,
      "outputs": [
        {
          "output_type": "execute_result",
          "data": {
            "text/plain": [
              "4"
            ]
          },
          "metadata": {},
          "execution_count": 7
        }
      ]
    },
    {
      "cell_type": "code",
      "source": [
        "# Custom GC Freq\n",
        "def gc_freq(seq):\n",
        "  return seq.count(\"G\") + seq.count(\"C\")"
      ],
      "metadata": {
        "id": "43M84-aPRdD-"
      },
      "execution_count": 10,
      "outputs": []
    },
    {
      "cell_type": "code",
      "source": [
        "gc_freq(dna_seq)"
      ],
      "metadata": {
        "colab": {
          "base_uri": "https://localhost:8080/"
        },
        "id": "iq3zExYeRq_-",
        "outputId": "9c8cb134-1c03-492b-ea39-d0fecd91f6da"
      },
      "execution_count": 11,
      "outputs": [
        {
          "output_type": "execute_result",
          "data": {
            "text/plain": [
              "4"
            ]
          },
          "metadata": {},
          "execution_count": 11
        }
      ]
    },
    {
      "cell_type": "code",
      "source": [
        "# AT Content\n",
        "def at_content(seq):\n",
        "  return float(seq.count(\"A\") + seq.count(\"T\"))/len(seq) * 100"
      ],
      "metadata": {
        "id": "xnYwOWiJRxmH"
      },
      "execution_count": 12,
      "outputs": []
    },
    {
      "cell_type": "code",
      "source": [
        "at_content(dna_seq)"
      ],
      "metadata": {
        "colab": {
          "base_uri": "https://localhost:8080/"
        },
        "id": "Lt98vY-9SGTY",
        "outputId": "d93a991f-c512-4800-c776-f4fcfc8e3a1f"
      },
      "execution_count": 14,
      "outputs": [
        {
          "output_type": "execute_result",
          "data": {
            "text/plain": [
              "66.66666666666666"
            ]
          },
          "metadata": {},
          "execution_count": 14
        }
      ]
    },
    {
      "cell_type": "code",
      "source": [
        "# AT Frequency\n",
        "def at_freq(seq):\n",
        "  return seq.count(\"A\") + seq.count(\"T\")"
      ],
      "metadata": {
        "id": "BkC41fPwSNTA"
      },
      "execution_count": 15,
      "outputs": []
    },
    {
      "cell_type": "code",
      "source": [
        "at_freq(dna_seq)"
      ],
      "metadata": {
        "colab": {
          "base_uri": "https://localhost:8080/"
        },
        "id": "Rj6mvKFcSdaG",
        "outputId": "4791c426-74ee-4936-d08b-370c0208ef3b"
      },
      "execution_count": 16,
      "outputs": [
        {
          "output_type": "execute_result",
          "data": {
            "text/plain": [
              "8"
            ]
          },
          "metadata": {},
          "execution_count": 16
        }
      ]
    },
    {
      "cell_type": "code",
      "source": [],
      "metadata": {
        "id": "vLFVD36jShzi"
      },
      "execution_count": null,
      "outputs": []
    },
    {
      "cell_type": "code",
      "source": [
        "# Difference Between GC_content and GC_frequency\n"
      ],
      "metadata": {
        "id": "c7vi1vNWPpSl"
      },
      "execution_count": null,
      "outputs": []
    }
  ]
}