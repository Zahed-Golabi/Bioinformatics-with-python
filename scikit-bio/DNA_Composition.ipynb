{
 "cells": [
  {
   "cell_type": "markdown",
   "metadata": {
    "id": "30G-ggM-PXQi"
   },
   "source": [
    "### Sequence Composition"
   ]
  },
  {
   "cell_type": "markdown",
   "metadata": {
    "id": "NOqwl-gmPG3u"
   },
   "source": [
    "+ GC, AT Content\n",
    "+ Automatically Calculates the gc_content"
   ]
  },
  {
   "cell_type": "code",
   "execution_count": 3,
   "metadata": {
    "id": "KEw0DWOdP9-p"
   },
   "outputs": [],
   "source": [
    "from skbio import DNA,RNA,Protein,Sequence"
   ]
  },
  {
   "cell_type": "code",
   "execution_count": 5,
   "metadata": {
    "id": "bGEKHVtNQEcx"
   },
   "outputs": [],
   "source": [
    "dna_seq = DNA(\"ATGATCTCGTAA\")"
   ]
  },
  {
   "cell_type": "code",
   "execution_count": 6,
   "metadata": {
    "colab": {
     "base_uri": "https://localhost:8080/"
    },
    "id": "YlEiOesWPfgd",
    "outputId": "029f9f8f-2237-46e1-f10c-6d87f573875b"
   },
   "outputs": [
    {
     "data": {
      "text/plain": [
       "0.3333333333333333"
      ]
     },
     "execution_count": 6,
     "metadata": {},
     "output_type": "execute_result"
    }
   ],
   "source": [
    "# Get GC Content: Returns a percentage of GC as compared to the whole\n",
    "dna_seq.gc_content()"
   ]
  },
  {
   "cell_type": "code",
   "execution_count": 8,
   "metadata": {
    "id": "AR60vvFsQ-fE"
   },
   "outputs": [],
   "source": [
    "# Custom GC Content\n",
    "def gc_content(seq):\n",
    "    return float(seq.count(\"G\") + seq.count(\"C\"))/len(seq) * 100"
   ]
  },
  {
   "cell_type": "code",
   "execution_count": 9,
   "metadata": {
    "colab": {
     "base_uri": "https://localhost:8080/"
    },
    "id": "naLofW1gRPBv",
    "outputId": "dfa44822-13d5-4677-db6d-fc0eb04c3467"
   },
   "outputs": [
    {
     "data": {
      "text/plain": [
       "33.33333333333333"
      ]
     },
     "execution_count": 9,
     "metadata": {},
     "output_type": "execute_result"
    }
   ],
   "source": [
    "gc_content(dna_seq)"
   ]
  },
  {
   "cell_type": "code",
   "execution_count": 7,
   "metadata": {
    "colab": {
     "base_uri": "https://localhost:8080/"
    },
    "id": "I1RMnpWLPov3",
    "outputId": "0869af3b-0120-45de-f207-17a3fae985c7"
   },
   "outputs": [
    {
     "data": {
      "text/plain": [
       "4"
      ]
     },
     "execution_count": 7,
     "metadata": {},
     "output_type": "execute_result"
    }
   ],
   "source": [
    "# Get GC Frequency: Counts the number of G and C in your Sequence\n",
    "dna_seq.gc_frequency()"
   ]
  },
  {
   "cell_type": "code",
   "execution_count": 10,
   "metadata": {
    "id": "43M84-aPRdD-"
   },
   "outputs": [],
   "source": [
    "# Custom GC Freq\n",
    "def gc_freq(seq):\n",
    "    return seq.count(\"G\") + seq.count(\"C\")"
   ]
  },
  {
   "cell_type": "code",
   "execution_count": 11,
   "metadata": {
    "colab": {
     "base_uri": "https://localhost:8080/"
    },
    "id": "iq3zExYeRq_-",
    "outputId": "9c8cb134-1c03-492b-ea39-d0fecd91f6da"
   },
   "outputs": [
    {
     "data": {
      "text/plain": [
       "4"
      ]
     },
     "execution_count": 11,
     "metadata": {},
     "output_type": "execute_result"
    }
   ],
   "source": [
    "gc_freq(dna_seq)"
   ]
  },
  {
   "cell_type": "code",
   "execution_count": 12,
   "metadata": {
    "id": "xnYwOWiJRxmH"
   },
   "outputs": [],
   "source": [
    "# AT Content\n",
    "def at_content(seq):\n",
    "    return float(seq.count(\"A\") + seq.count(\"T\"))/len(seq) * 100"
   ]
  },
  {
   "cell_type": "code",
   "execution_count": 14,
   "metadata": {
    "colab": {
     "base_uri": "https://localhost:8080/"
    },
    "id": "Lt98vY-9SGTY",
    "outputId": "d93a991f-c512-4800-c776-f4fcfc8e3a1f"
   },
   "outputs": [
    {
     "data": {
      "text/plain": [
       "66.66666666666666"
      ]
     },
     "execution_count": 14,
     "metadata": {},
     "output_type": "execute_result"
    }
   ],
   "source": [
    "at_content(dna_seq)"
   ]
  },
  {
   "cell_type": "code",
   "execution_count": 15,
   "metadata": {
    "id": "BkC41fPwSNTA"
   },
   "outputs": [],
   "source": [
    "# AT Frequency\n",
    "def at_freq(seq):\n",
    "    return seq.count(\"A\") + seq.count(\"T\")"
   ]
  },
  {
   "cell_type": "code",
   "execution_count": 16,
   "metadata": {
    "colab": {
     "base_uri": "https://localhost:8080/"
    },
    "id": "Rj6mvKFcSdaG",
    "outputId": "4791c426-74ee-4936-d08b-370c0208ef3b"
   },
   "outputs": [
    {
     "data": {
      "text/plain": [
       "8"
      ]
     },
     "execution_count": 16,
     "metadata": {},
     "output_type": "execute_result"
    }
   ],
   "source": [
    "at_freq(dna_seq)"
   ]
  },
  {
   "cell_type": "code",
   "execution_count": null,
   "metadata": {
    "id": "vLFVD36jShzi"
   },
   "outputs": [],
   "source": []
  },
  {
   "cell_type": "code",
   "execution_count": null,
   "metadata": {
    "id": "c7vi1vNWPpSl"
   },
   "outputs": [],
   "source": [
    "# Difference Between GC_content and GC_frequency\n"
   ]
  },
  {
   "cell_type": "code",
   "execution_count": 17,
   "metadata": {
    "colab": {
     "base_uri": "https://localhost:8080/"
    },
    "id": "bc-dMUkXTNI6",
    "outputId": "ae870629-61f5-4ae0-89d2-634738b38a95"
   },
   "outputs": [
    {
     "data": {
      "text/plain": [
       "{'A': 4, 'C': 2, 'G': 2, 'T': 4}"
      ]
     },
     "execution_count": 17,
     "metadata": {},
     "output_type": "execute_result"
    }
   ],
   "source": [
    "# Get Frequencies of each Nucleotide\n",
    "dna_seq.frequencies()"
   ]
  },
  {
   "cell_type": "code",
   "execution_count": 18,
   "metadata": {
    "id": "_65XwOwDTaXE"
   },
   "outputs": [],
   "source": [
    "from collections import Counter"
   ]
  },
  {
   "cell_type": "code",
   "execution_count": 20,
   "metadata": {
    "colab": {
     "base_uri": "https://localhost:8080/"
    },
    "id": "9sfUJGWsTf6n",
    "outputId": "cb6d7ca3-ab2a-4f95-c23d-f91c5b58488a"
   },
   "outputs": [
    {
     "data": {
      "text/plain": [
       "Counter({'A': 4, 'T': 4, 'G': 2, 'C': 2})"
      ]
     },
     "execution_count": 20,
     "metadata": {},
     "output_type": "execute_result"
    }
   ],
   "source": [
    "Counter(str(dna_seq))"
   ]
  },
  {
   "cell_type": "code",
   "execution_count": 22,
   "metadata": {
    "colab": {
     "base_uri": "https://localhost:8080/",
     "height": 447
    },
    "id": "5hQzRup1Tou_",
    "outputId": "214b5145-6753-4847-fa6c-d0cc655bc9a4"
   },
   "outputs": [
    {
     "data": {
      "text/plain": [
       "<BarContainer object of 4 artists>"
      ]
     },
     "execution_count": 22,
     "metadata": {},
     "output_type": "execute_result"
    },
    {
     "data": {
      "image/png": "[encoded data removed]",
      "text/plain": [
       "<Figure size 640x480 with 1 Axes>"
      ]
     },
     "metadata": {},
     "output_type": "display_data"
    }
   ],
   "source": [
    "# Plot of Nucleotides\n",
    "import matplotlib.pyplot as plt\n",
    "plt.bar(Counter(str(dna_seq)).keys(), Counter(str(dna_seq)).values())"
   ]
  }
 ],
 "metadata": {
  "colab": {
   "authorship_tag": "ABX9TyNmmWRdEcFTQ6G1Ha6QCGok",
   "provenance": []
  },
  "kernelspec": {
   "display_name": "Python 3 (ipykernel)",
   "language": "python",
   "name": "python3"
  },
  "language_info": {
   "codemirror_mode": {
    "name": "ipython",
    "version": 3
   },
   "file_extension": ".py",
   "mimetype": "text/x-python",
   "name": "python",
   "nbconvert_exporter": "python",
   "pygments_lexer": "ipython3",
   "version": "3.9.12"
  }
 },
 "nbformat": 4,
 "nbformat_minor": 1
}
