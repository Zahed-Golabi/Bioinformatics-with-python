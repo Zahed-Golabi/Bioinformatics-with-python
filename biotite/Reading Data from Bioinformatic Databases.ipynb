{
 "cells": [
  {
   "cell_type": "markdown",
   "id": "adbe6af0",
   "metadata": {},
   "source": [
    "## Reading Data from Bioinformatic Databases"
   ]
  },
  {
   "cell_type": "code",
   "execution_count": 2,
   "id": "b5cf419b",
   "metadata": {},
   "outputs": [],
   "source": [
    "import biotite.database.entrez as entrez"
   ]
  },
  {
   "cell_type": "code",
   "execution_count": 3,
   "id": "d9f379dc",
   "metadata": {},
   "outputs": [
    {
     "data": {
      "text/plain": [
       "['CompositeQuery',\n",
       " 'Query',\n",
       " 'SimpleQuery',\n",
       " '__author__',\n",
       " '__builtins__',\n",
       " '__cached__',\n",
       " '__doc__',\n",
       " '__file__',\n",
       " '__loader__',\n",
       " '__name__',\n",
       " '__package__',\n",
       " '__path__',\n",
       " '__spec__',\n",
       " 'check',\n",
       " 'dbnames',\n",
       " 'download',\n",
       " 'fetch',\n",
       " 'fetch_single_file',\n",
       " 'get_database_name',\n",
       " 'query',\n",
       " 'search']"
      ]
     },
     "execution_count": 3,
     "metadata": {},
     "output_type": "execute_result"
    }
   ],
   "source": [
    "dir(entrez)"
   ]
  },
  {
   "cell_type": "code",
   "execution_count": 4,
   "id": "84fb3387",
   "metadata": {},
   "outputs": [
    {
     "data": {
      "text/plain": [
       "'nuccore'"
      ]
     },
     "execution_count": 4,
     "metadata": {},
     "output_type": "execute_result"
    }
   ],
   "source": [
    "# Get our databases\n",
    "entrez.get_database_name(\"Nucleotide\")"
   ]
  },
  {
   "cell_type": "code",
   "execution_count": 5,
   "id": "3d7b8b1a",
   "metadata": {},
   "outputs": [
    {
     "data": {
      "text/plain": [
       "'protein'"
      ]
     },
     "execution_count": 5,
     "metadata": {},
     "output_type": "execute_result"
    }
   ],
   "source": [
    "entrez.get_database_name(\"Protein\")"
   ]
  },
  {
   "cell_type": "code",
   "execution_count": 7,
   "id": "ab9993ac",
   "metadata": {},
   "outputs": [],
   "source": [
    "# Search\n",
    "# query(simple/composite)  ====>   search=>ID=>fetch\n",
    "# Making a simple query\n",
    "my_query = entrez.SimpleQuery(\"Covid19\")"
   ]
  },
  {
   "cell_type": "code",
   "execution_count": 11,
   "id": "b5ea5d38",
   "metadata": {},
   "outputs": [],
   "source": [
    "# searching with query\n",
    "ans_id = entrez.search(my_query, \"Nucleotide\", number=10)"
   ]
  },
  {
   "cell_type": "code",
   "execution_count": 12,
   "id": "32ac421c",
   "metadata": {},
   "outputs": [
    {
     "name": "stdout",
     "output_type": "stream",
     "text": [
      "['1653961057', '2369015295', '2369015293', '2296022371', '2296022370', '2296022369', '2296022368', '2296022367', '2296022366', '2269256146']\n"
     ]
    }
   ],
   "source": [
    "print(ans_id)"
   ]
  },
  {
   "cell_type": "code",
   "execution_count": null,
   "id": "dc59f07e",
   "metadata": {},
   "outputs": [],
   "source": [
    "## Downloading our file\n",
    "file_path = entrez.fetch(\"1653961057\",\"myresult_dir\",suffix=\"fasta\",\n",
    "                        db_name=\"nuccore\", ret_type=\"fasta\")"
   ]
  },
  {
   "cell_type": "code",
   "execution_count": null,
   "id": "db6bba8b",
   "metadata": {},
   "outputs": [],
   "source": []
  },
  {
   "cell_type": "code",
   "execution_count": null,
   "id": "85111e58",
   "metadata": {},
   "outputs": [],
   "source": []
  },
  {
   "cell_type": "code",
   "execution_count": null,
   "id": "e22ae353",
   "metadata": {},
   "outputs": [],
   "source": []
  }
 ],
 "metadata": {
  "kernelspec": {
   "display_name": "Python 3 (ipykernel)",
   "language": "python",
   "name": "python3"
  },
  "language_info": {
   "codemirror_mode": {
    "name": "ipython",
    "version": 3
   },
   "file_extension": ".py",
   "mimetype": "text/x-python",
   "name": "python",
   "nbconvert_exporter": "python",
   "pygments_lexer": "ipython3",
   "version": "3.9.12"
  }
 },
 "nbformat": 4,
 "nbformat_minor": 5
}
