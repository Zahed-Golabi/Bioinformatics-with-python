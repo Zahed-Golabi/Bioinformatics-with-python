{
 "cells": [
  {
   "cell_type": "markdown",
   "id": "c05c00ef",
   "metadata": {},
   "source": [
    "# Phylogenetics"
   ]
  },
  {
   "cell_type": "markdown",
   "id": "65aa31f9",
   "metadata": {},
   "source": [
    "- phylogenetics is the study of the evolutionary history and relationship among individuals or groups of organisms"
   ]
  },
  {
   "cell_type": "code",
   "execution_count": 2,
   "id": "01925f12",
   "metadata": {},
   "outputs": [],
   "source": [
    "import biotite.sequence.phylo as phylo"
   ]
  },
  {
   "cell_type": "code",
   "execution_count": 3,
   "id": "d6f4a5b1",
   "metadata": {},
   "outputs": [
    {
     "data": {
      "text/plain": [
       "['Tree',\n",
       " 'TreeError',\n",
       " 'TreeNode',\n",
       " '__author__',\n",
       " '__builtins__',\n",
       " '__cached__',\n",
       " '__doc__',\n",
       " '__file__',\n",
       " '__loader__',\n",
       " '__name__',\n",
       " '__package__',\n",
       " '__path__',\n",
       " '__spec__',\n",
       " 'as_binary',\n",
       " 'neighbor_joining',\n",
       " 'nj',\n",
       " 'tree',\n",
       " 'upgma']"
      ]
     },
     "execution_count": 3,
     "metadata": {},
     "output_type": "execute_result"
    }
   ],
   "source": [
    "dir(phylo)"
   ]
  },
  {
   "cell_type": "code",
   "execution_count": 8,
   "id": "2b5a07a6",
   "metadata": {},
   "outputs": [],
   "source": [
    "# The reference objects\n",
    "fruits = [\"Apple\",\"Pear\",\"Orange\",\"Lemon\",\"Banana\"]\n",
    "\n",
    "# Create nodes\n",
    "apple  = phylo.TreeNode(index=fruits.index(\"Apple\"))\n",
    "pear   = phylo.TreeNode(index=fruits.index(\"Pear\"))\n",
    "orange = phylo.TreeNode(index=fruits.index(\"Orange\"))\n",
    "lemon  = phylo.TreeNode(index=fruits.index(\"Lemon\"))\n",
    "banana = phylo.TreeNode(index=fruits.index(\"Banana\"))\n",
    "\n",
    "# Tree structure\n",
    "intermediate1 = phylo.TreeNode(children=(apple,pear), distances=(2.0, 2.0))\n",
    "intermediate2 = phylo.TreeNode(children=(orange,lemon), distances=(1.0, 1.0))\n",
    "intermediate3 = phylo.TreeNode(children=(intermediate2,banana), distances=(2.0, 3.0))\n",
    "\n",
    "# Root of Tree\n",
    "root = phylo.TreeNode(children=(intermediate1, intermediate3), distances=(2.0, 1.0))"
   ]
  },
  {
   "cell_type": "code",
   "execution_count": 10,
   "id": "244eeffe",
   "metadata": {},
   "outputs": [
    {
     "name": "stdout",
     "output_type": "stream",
     "text": [
      "Tree: ((Apple:2.0,Pear:2.0):2.0,((Orange:1.0,Lemon:1.0):2.0,Banana:3.0):1.0):0.0;\n",
      "Tree w/o distances: ((Apple,Pear),((Orange,Lemon),Banana));\n",
      "Distances Apple-Banana:  8.0\n"
     ]
    }
   ],
   "source": [
    "# Create tree from root tree\n",
    "tree = phylo.Tree(root=root)\n",
    "# Trees can be converted into Newick notation\n",
    "print(\"Tree:\", tree.to_newick(labels=fruits))\n",
    "\n",
    "# Distances can be omitted\n",
    "print(\"Tree w/o distances:\", tree.to_newick(labels=fruits, include_distance=False))\n",
    "\n",
    "# Distances can be measured\n",
    "distance = tree.get_distance(fruits.index(\"Apple\"), fruits.index(\"Banana\"))\n",
    "print(\"Distances Apple-Banana: \", distance)"
   ]
  },
  {
   "cell_type": "markdown",
   "id": "5b305a3f",
   "metadata": {},
   "source": [
    "#### Plot a Phylo Tree"
   ]
  },
  {
   "cell_type": "code",
   "execution_count": 11,
   "id": "b2eb197c",
   "metadata": {},
   "outputs": [],
   "source": [
    "import matplotlib.pyplot as plt\n",
    "import biotite.sequence.graphics as graphics"
   ]
  },
  {
   "cell_type": "code",
   "execution_count": 13,
   "id": "4bb93cb3",
   "metadata": {},
   "outputs": [
    {
     "data": {
      "image/png": "[encoded data removed]",
      "text/plain": [
       "<Figure size 432x648 with 1 Axes>"
      ]
     },
     "metadata": {
      "needs_background": "light"
     },
     "output_type": "display_data"
    }
   ],
   "source": [
    "# Plot a phylo tree\n",
    "fig, ax = plt.subplots(figsize=(6.0, 9.0))\n",
    "graphics.plot_dendrogram(ax, tree, labels=fruits)\n",
    "fig.tight_layout()"
   ]
  },
  {
   "cell_type": "markdown",
   "id": "3080f5d8",
   "metadata": {},
   "source": [
    "# Cool!"
   ]
  },
  {
   "cell_type": "code",
   "execution_count": null,
   "id": "f272bc25",
   "metadata": {},
   "outputs": [],
   "source": []
  }
 ],
 "metadata": {
  "kernelspec": {
   "display_name": "Python 3 (ipykernel)",
   "language": "python",
   "name": "python3"
  },
  "language_info": {
   "codemirror_mode": {
    "name": "ipython",
    "version": 3
   },
   "file_extension": ".py",
   "mimetype": "text/x-python",
   "name": "python",
   "nbconvert_exporter": "python",
   "pygments_lexer": "ipython3",
   "version": "3.9.12"
  }
 },
 "nbformat": 4,
 "nbformat_minor": 5
}
