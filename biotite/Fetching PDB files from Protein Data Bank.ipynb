{
 "cells": [
  {
   "cell_type": "markdown",
   "id": "0ebf399d",
   "metadata": {},
   "source": [
    "## Fetching PDB files from Protein DataBank"
   ]
  },
  {
   "cell_type": "markdown",
   "id": "c94107d7",
   "metadata": {},
   "source": [
    "+ pdb file\n",
    "+ cif file\n",
    "+ fetching file\n",
    "+ working with file"
   ]
  },
  {
   "cell_type": "code",
   "execution_count": 1,
   "id": "dff79ada",
   "metadata": {},
   "outputs": [],
   "source": [
    "# fetching our 3D structure file\n",
    "import biotite.database.rcsb as rcsb"
   ]
  },
  {
   "cell_type": "code",
   "execution_count": 2,
   "id": "95a726b6",
   "metadata": {},
   "outputs": [
    {
     "data": {
      "text/plain": [
       "['BasicQuery',\n",
       " 'CompositeQuery',\n",
       " 'DepositGrouping',\n",
       " 'FieldQuery',\n",
       " 'Grouping',\n",
       " 'IdentityGrouping',\n",
       " 'MotifQuery',\n",
       " 'Query',\n",
       " 'SequenceQuery',\n",
       " 'SingleQuery',\n",
       " 'Sorting',\n",
       " 'StructureQuery',\n",
       " 'UniprotGrouping',\n",
       " '__author__',\n",
       " '__builtins__',\n",
       " '__cached__',\n",
       " '__doc__',\n",
       " '__file__',\n",
       " '__loader__',\n",
       " '__name__',\n",
       " '__package__',\n",
       " '__path__',\n",
       " '__spec__',\n",
       " 'count',\n",
       " 'download',\n",
       " 'fetch',\n",
       " 'query',\n",
       " 'search']"
      ]
     },
     "execution_count": 2,
     "metadata": {},
     "output_type": "execute_result"
    }
   ],
   "source": [
    "dir(rcsb)"
   ]
  },
  {
   "cell_type": "code",
   "execution_count": 9,
   "id": "6ab6b8f1",
   "metadata": {},
   "outputs": [],
   "source": [
    "pdb_file = rcsb.fetch(\"4ZS6\", \"pdb\",\"mypdb_dir\")"
   ]
  },
  {
   "cell_type": "code",
   "execution_count": 10,
   "id": "5e6ef15b",
   "metadata": {},
   "outputs": [
    {
     "name": "stdout",
     "output_type": "stream",
     "text": [
      "mypdb_dir\\4ZS6.pdb\n"
     ]
    }
   ],
   "source": [
    "print(pdb_file)"
   ]
  },
  {
   "cell_type": "code",
   "execution_count": null,
   "id": "879e6d15",
   "metadata": {},
   "outputs": [],
   "source": []
  }
 ],
 "metadata": {
  "kernelspec": {
   "display_name": "Python 3 (ipykernel)",
   "language": "python",
   "name": "python3"
  },
  "language_info": {
   "codemirror_mode": {
    "name": "ipython",
    "version": 3
   },
   "file_extension": ".py",
   "mimetype": "text/x-python",
   "name": "python",
   "nbconvert_exporter": "python",
   "pygments_lexer": "ipython3",
   "version": "3.9.12"
  }
 },
 "nbformat": 4,
 "nbformat_minor": 5
}
