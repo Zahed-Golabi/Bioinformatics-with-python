{
 "cells": [
  {
   "cell_type": "markdown",
   "id": "aea4bbfe",
   "metadata": {},
   "source": [
    "## Fetching PDB files from Protein DataBank"
   ]
  },
  {
   "cell_type": "markdown",
   "id": "b7100a73",
   "metadata": {},
   "source": [
    "+ pdb file\n",
    "+ cif file\n",
    "+ fetching file\n",
    "+ working with file"
   ]
  },
  {
   "cell_type": "code",
   "execution_count": 1,
   "id": "2984c180",
   "metadata": {},
   "outputs": [],
   "source": [
    "# fetching our 3D structure file\n",
    "import biotite.database.rcsb as rcsb"
   ]
  },
  {
   "cell_type": "code",
   "execution_count": 2,
   "id": "41ff4f5e",
   "metadata": {},
   "outputs": [
    {
     "data": {
      "text/plain": [
       "['BasicQuery',\n",
       " 'CompositeQuery',\n",
       " 'DepositGrouping',\n",
       " 'FieldQuery',\n",
       " 'Grouping',\n",
       " 'IdentityGrouping',\n",
       " 'MotifQuery',\n",
       " 'Query',\n",
       " 'SequenceQuery',\n",
       " 'SingleQuery',\n",
       " 'Sorting',\n",
       " 'StructureQuery',\n",
       " 'UniprotGrouping',\n",
       " '__author__',\n",
       " '__builtins__',\n",
       " '__cached__',\n",
       " '__doc__',\n",
       " '__file__',\n",
       " '__loader__',\n",
       " '__name__',\n",
       " '__package__',\n",
       " '__path__',\n",
       " '__spec__',\n",
       " 'count',\n",
       " 'download',\n",
       " 'fetch',\n",
       " 'query',\n",
       " 'search']"
      ]
     },
     "execution_count": 2,
     "metadata": {},
     "output_type": "execute_result"
    }
   ],
   "source": [
    "dir(rcsb)"
   ]
  },
  {
   "cell_type": "code",
   "execution_count": 9,
   "id": "0fdfcc09",
   "metadata": {},
   "outputs": [],
   "source": [
    "pdb_file = rcsb.fetch(\"4ZS6\", \"pdb\",\"mypdb_dir\")"
   ]
  },
  {
   "cell_type": "code",
   "execution_count": 10,
   "id": "70f4e0bd",
   "metadata": {},
   "outputs": [
    {
     "name": "stdout",
     "output_type": "stream",
     "text": [
      "mypdb_dir\\4ZS6.pdb\n"
     ]
    }
   ],
   "source": [
    "print(pdb_file)"
   ]
  },
  {
   "cell_type": "code",
   "execution_count": null,
   "id": "85b8c30f",
   "metadata": {},
   "outputs": [],
   "source": [
    "# fetching multiple files together\n",
    "pdb_file = rcsb.fetch([\"4ZS6\",\"6LU7\"], \"pdb\", \"mypdq\")"
   ]
  }
 ],
 "metadata": {
  "kernelspec": {
   "display_name": "Python 3 (ipykernel)",
   "language": "python",
   "name": "python3"
  },
  "language_info": {
   "codemirror_mode": {
    "name": "ipython",
    "version": 3
   },
   "file_extension": ".py",
   "mimetype": "text/x-python",
   "name": "python",
   "nbconvert_exporter": "python",
   "pygments_lexer": "ipython3",
   "version": "3.9.12"
  }
 },
 "nbformat": 4,
 "nbformat_minor": 5
}
